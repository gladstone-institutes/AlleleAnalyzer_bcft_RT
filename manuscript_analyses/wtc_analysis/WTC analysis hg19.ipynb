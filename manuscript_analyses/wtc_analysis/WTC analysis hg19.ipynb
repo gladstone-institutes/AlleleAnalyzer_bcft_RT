{
 "cells": [
  {
   "cell_type": "code",
   "execution_count": 1,
   "metadata": {
    "collapsed": true
   },
   "outputs": [],
   "source": [
    "import pandas as pd\n",
    "import os\n",
    "from pysam import VariantFile\n",
    "import matplotlib.pyplot as plt\n",
    "import numpy as np\n",
    "import seaborn as sns\n",
    "from functools import reduce\n",
    "from cyvcf2 import VCF\n",
    "import pyupset as pyu\n",
    "\n",
    "plt.style.use('aa_paper')\n",
    "%matplotlib inline\n",
    "\n",
    "def translate_gene_name(gene_name):\n",
    "    \"\"\"\n",
    "    HDF5 throws all sort of errors when you have weird punctuation in the gene name, so\n",
    "    this translates it to a less offensive form.\n",
    "    \"\"\"\n",
    "    repls = ('-', 'dash'), ('.', 'period')\n",
    "    trans_gene_name = reduce(lambda a, kv: a.replace(*kv), repls, str(gene_name))\n",
    "    return trans_gene_name"
   ]
  },
  {
   "cell_type": "markdown",
   "metadata": {},
   "source": [
    "# Reformat VCFs in parallel\n",
    "\n",
    "`/pollard/home/kathleen/projects/AlleleAnalyzer/manuscript_analyses/wtc_analysis/src/hg19_analysis/reformat_variants_wtc_hg19_1.sh` (1-4) to parallelize 313762 regions defined in the 1000 Genomes hg19 region splitting.\n",
    "\n",
    "Using a script called `get_gens_df.py` in `AlleleAnalyzer/generate_gens_dfs/get_gens_df.py`, we reformat the WTC VCF in order to more easily annotate variants for whether they are near or in PAM sites. This is necessary because in ordinary VCF files, variants can have multiple alleles listed on one line, and these need to be split up for annotation based on each individual allele. "
   ]
  },
  {
   "cell_type": "code",
   "execution_count": 2,
   "metadata": {
    "collapsed": true
   },
   "outputs": [],
   "source": [
    "hg19_regions = pd.read_csv('../1000genomes_analysis/dat/1kgp_hg19_regions.bed', sep='\\t', header=None,\n",
    "                          names=['chrom','start','stop','region_id'])"
   ]
  },
  {
   "cell_type": "code",
   "execution_count": 3,
   "metadata": {
    "collapsed": true
   },
   "outputs": [],
   "source": [
    "hg19_regions['gens_fname'] = '/pollard/data/projects/AlleleAnalyzer_data/wtc_data/hg19/wtc_formatted_variants/' + hg19_regions['region_id'] + '.h5'\n",
    "\n",
    "hg19_regions['gens_complete'] = hg19_regions['gens_fname'].map(os.path.isfile)"
   ]
  },
  {
   "cell_type": "code",
   "execution_count": 6,
   "metadata": {},
   "outputs": [
    {
     "name": "stderr",
     "output_type": "stream",
     "text": [
      "/pollard/home/kathleen/tools/anaconda3/lib/python3.6/site-packages/ipykernel/__main__.py:1: UserWarning: Boolean Series key will be reindexed to match DataFrame index.\n",
      "  if __name__ == '__main__':\n"
     ]
    },
    {
     "data": {
      "text/html": [
       "<div>\n",
       "<style scoped>\n",
       "    .dataframe tbody tr th:only-of-type {\n",
       "        vertical-align: middle;\n",
       "    }\n",
       "\n",
       "    .dataframe tbody tr th {\n",
       "        vertical-align: top;\n",
       "    }\n",
       "\n",
       "    .dataframe thead th {\n",
       "        text-align: right;\n",
       "    }\n",
       "</style>\n",
       "<table border=\"1\" class=\"dataframe\">\n",
       "  <thead>\n",
       "    <tr style=\"text-align: right;\">\n",
       "      <th></th>\n",
       "      <th>chrom</th>\n",
       "      <th>start</th>\n",
       "      <th>stop</th>\n",
       "      <th>region_id</th>\n",
       "      <th>gens_fname</th>\n",
       "      <th>gens_complete</th>\n",
       "    </tr>\n",
       "  </thead>\n",
       "  <tbody>\n",
       "  </tbody>\n",
       "</table>\n",
       "</div>"
      ],
      "text/plain": [
       "Empty DataFrame\n",
       "Columns: [chrom, start, stop, region_id, gens_fname, gens_complete]\n",
       "Index: []"
      ]
     },
     "execution_count": 6,
     "metadata": {},
     "output_type": "execute_result"
    }
   ],
   "source": [
    "hg19_regions.query('~gens_complete')[~hg19_regions['chrom'].str.contains('_')]"
   ]
  },
  {
   "cell_type": "markdown",
   "metadata": {},
   "source": [
    "# Annotate variants in parallel\n",
    "\n",
    "`/pollard/home/kathleen/projects/AlleleAnalyzer/manuscript_analyses/wtc_analysis/src/hg19_analysis/annotate_variants_wtc_1.sh` 1-4 to account for number of jobs."
   ]
  },
  {
   "cell_type": "code",
   "execution_count": 7,
   "metadata": {},
   "outputs": [
    {
     "data": {
      "text/html": [
       "<div>\n",
       "<style scoped>\n",
       "    .dataframe tbody tr th:only-of-type {\n",
       "        vertical-align: middle;\n",
       "    }\n",
       "\n",
       "    .dataframe tbody tr th {\n",
       "        vertical-align: top;\n",
       "    }\n",
       "\n",
       "    .dataframe thead th {\n",
       "        text-align: right;\n",
       "    }\n",
       "</style>\n",
       "<table border=\"1\" class=\"dataframe\">\n",
       "  <thead>\n",
       "    <tr style=\"text-align: right;\">\n",
       "      <th></th>\n",
       "      <th>chrom</th>\n",
       "      <th>start</th>\n",
       "      <th>stop</th>\n",
       "      <th>region_id</th>\n",
       "      <th>gens_fname</th>\n",
       "      <th>gens_complete</th>\n",
       "    </tr>\n",
       "  </thead>\n",
       "  <tbody>\n",
       "    <tr>\n",
       "      <th>0</th>\n",
       "      <td>chr1</td>\n",
       "      <td>0</td>\n",
       "      <td>10000</td>\n",
       "      <td>region_0</td>\n",
       "      <td>/pollard/data/projects/AlleleAnalyzer_data/wtc...</td>\n",
       "      <td>True</td>\n",
       "    </tr>\n",
       "    <tr>\n",
       "      <th>1</th>\n",
       "      <td>chr1</td>\n",
       "      <td>10000</td>\n",
       "      <td>20000</td>\n",
       "      <td>region_1</td>\n",
       "      <td>/pollard/data/projects/AlleleAnalyzer_data/wtc...</td>\n",
       "      <td>True</td>\n",
       "    </tr>\n",
       "    <tr>\n",
       "      <th>2</th>\n",
       "      <td>chr1</td>\n",
       "      <td>20000</td>\n",
       "      <td>30000</td>\n",
       "      <td>region_2</td>\n",
       "      <td>/pollard/data/projects/AlleleAnalyzer_data/wtc...</td>\n",
       "      <td>True</td>\n",
       "    </tr>\n",
       "    <tr>\n",
       "      <th>3</th>\n",
       "      <td>chr1</td>\n",
       "      <td>30000</td>\n",
       "      <td>40000</td>\n",
       "      <td>region_3</td>\n",
       "      <td>/pollard/data/projects/AlleleAnalyzer_data/wtc...</td>\n",
       "      <td>True</td>\n",
       "    </tr>\n",
       "    <tr>\n",
       "      <th>4</th>\n",
       "      <td>chr1</td>\n",
       "      <td>40000</td>\n",
       "      <td>50000</td>\n",
       "      <td>region_4</td>\n",
       "      <td>/pollard/data/projects/AlleleAnalyzer_data/wtc...</td>\n",
       "      <td>True</td>\n",
       "    </tr>\n",
       "  </tbody>\n",
       "</table>\n",
       "</div>"
      ],
      "text/plain": [
       "  chrom  start   stop region_id  \\\n",
       "0  chr1      0  10000  region_0   \n",
       "1  chr1  10000  20000  region_1   \n",
       "2  chr1  20000  30000  region_2   \n",
       "3  chr1  30000  40000  region_3   \n",
       "4  chr1  40000  50000  region_4   \n",
       "\n",
       "                                          gens_fname  gens_complete  \n",
       "0  /pollard/data/projects/AlleleAnalyzer_data/wtc...           True  \n",
       "1  /pollard/data/projects/AlleleAnalyzer_data/wtc...           True  \n",
       "2  /pollard/data/projects/AlleleAnalyzer_data/wtc...           True  \n",
       "3  /pollard/data/projects/AlleleAnalyzer_data/wtc...           True  \n",
       "4  /pollard/data/projects/AlleleAnalyzer_data/wtc...           True  "
      ]
     },
     "execution_count": 7,
     "metadata": {},
     "output_type": "execute_result"
    }
   ],
   "source": [
    "hg19_regions.head()"
   ]
  },
  {
   "cell_type": "code",
   "execution_count": 8,
   "metadata": {
    "collapsed": true
   },
   "outputs": [],
   "source": [
    "# see which regions have annotation files\n",
    "\n",
    "hg19_regions['annots_fname'] = '/pollard/data/projects/AlleleAnalyzer_data/wtc_data/hg19/wtc_annotated_variants/' + hg19_regions['region_id'] + '.h5' \n",
    "hg19_regions['annots_complete'] = hg19_regions['annots_fname'].map(os.path.isfile)"
   ]
  },
  {
   "cell_type": "code",
   "execution_count": 9,
   "metadata": {},
   "outputs": [
    {
     "data": {
      "text/html": [
       "<div>\n",
       "<style scoped>\n",
       "    .dataframe tbody tr th:only-of-type {\n",
       "        vertical-align: middle;\n",
       "    }\n",
       "\n",
       "    .dataframe tbody tr th {\n",
       "        vertical-align: top;\n",
       "    }\n",
       "\n",
       "    .dataframe thead th {\n",
       "        text-align: right;\n",
       "    }\n",
       "</style>\n",
       "<table border=\"1\" class=\"dataframe\">\n",
       "  <thead>\n",
       "    <tr style=\"text-align: right;\">\n",
       "      <th></th>\n",
       "      <th>chrom</th>\n",
       "      <th>start</th>\n",
       "      <th>stop</th>\n",
       "      <th>region_id</th>\n",
       "      <th>gens_fname</th>\n",
       "      <th>gens_complete</th>\n",
       "      <th>annots_fname</th>\n",
       "      <th>annots_complete</th>\n",
       "    </tr>\n",
       "  </thead>\n",
       "  <tbody>\n",
       "    <tr>\n",
       "      <th>309573</th>\n",
       "      <td>chr21</td>\n",
       "      <td>48070000</td>\n",
       "      <td>48080000</td>\n",
       "      <td>region_309573</td>\n",
       "      <td>/pollard/data/projects/AlleleAnalyzer_data/wtc...</td>\n",
       "      <td>True</td>\n",
       "      <td>/pollard/data/projects/AlleleAnalyzer_data/wtc...</td>\n",
       "      <td>True</td>\n",
       "    </tr>\n",
       "    <tr>\n",
       "      <th>309574</th>\n",
       "      <td>chr21</td>\n",
       "      <td>48080000</td>\n",
       "      <td>48090000</td>\n",
       "      <td>region_309574</td>\n",
       "      <td>/pollard/data/projects/AlleleAnalyzer_data/wtc...</td>\n",
       "      <td>True</td>\n",
       "      <td>/pollard/data/projects/AlleleAnalyzer_data/wtc...</td>\n",
       "      <td>True</td>\n",
       "    </tr>\n",
       "    <tr>\n",
       "      <th>309575</th>\n",
       "      <td>chr21</td>\n",
       "      <td>48090000</td>\n",
       "      <td>48100000</td>\n",
       "      <td>region_309575</td>\n",
       "      <td>/pollard/data/projects/AlleleAnalyzer_data/wtc...</td>\n",
       "      <td>True</td>\n",
       "      <td>/pollard/data/projects/AlleleAnalyzer_data/wtc...</td>\n",
       "      <td>True</td>\n",
       "    </tr>\n",
       "    <tr>\n",
       "      <th>309576</th>\n",
       "      <td>chr21</td>\n",
       "      <td>48100000</td>\n",
       "      <td>48110000</td>\n",
       "      <td>region_309576</td>\n",
       "      <td>/pollard/data/projects/AlleleAnalyzer_data/wtc...</td>\n",
       "      <td>True</td>\n",
       "      <td>/pollard/data/projects/AlleleAnalyzer_data/wtc...</td>\n",
       "      <td>True</td>\n",
       "    </tr>\n",
       "    <tr>\n",
       "      <th>309577</th>\n",
       "      <td>chr21</td>\n",
       "      <td>48110000</td>\n",
       "      <td>48120000</td>\n",
       "      <td>region_309577</td>\n",
       "      <td>/pollard/data/projects/AlleleAnalyzer_data/wtc...</td>\n",
       "      <td>True</td>\n",
       "      <td>/pollard/data/projects/AlleleAnalyzer_data/wtc...</td>\n",
       "      <td>True</td>\n",
       "    </tr>\n",
       "  </tbody>\n",
       "</table>\n",
       "</div>"
      ],
      "text/plain": [
       "        chrom     start      stop      region_id  \\\n",
       "309573  chr21  48070000  48080000  region_309573   \n",
       "309574  chr21  48080000  48090000  region_309574   \n",
       "309575  chr21  48090000  48100000  region_309575   \n",
       "309576  chr21  48100000  48110000  region_309576   \n",
       "309577  chr21  48110000  48120000  region_309577   \n",
       "\n",
       "                                               gens_fname  gens_complete  \\\n",
       "309573  /pollard/data/projects/AlleleAnalyzer_data/wtc...           True   \n",
       "309574  /pollard/data/projects/AlleleAnalyzer_data/wtc...           True   \n",
       "309575  /pollard/data/projects/AlleleAnalyzer_data/wtc...           True   \n",
       "309576  /pollard/data/projects/AlleleAnalyzer_data/wtc...           True   \n",
       "309577  /pollard/data/projects/AlleleAnalyzer_data/wtc...           True   \n",
       "\n",
       "                                             annots_fname  annots_complete  \n",
       "309573  /pollard/data/projects/AlleleAnalyzer_data/wtc...             True  \n",
       "309574  /pollard/data/projects/AlleleAnalyzer_data/wtc...             True  \n",
       "309575  /pollard/data/projects/AlleleAnalyzer_data/wtc...             True  \n",
       "309576  /pollard/data/projects/AlleleAnalyzer_data/wtc...             True  \n",
       "309577  /pollard/data/projects/AlleleAnalyzer_data/wtc...             True  "
      ]
     },
     "execution_count": 9,
     "metadata": {},
     "output_type": "execute_result"
    }
   ],
   "source": [
    "hg19_regions.query('annots_complete').tail()"
   ]
  },
  {
   "cell_type": "code",
   "execution_count": 10,
   "metadata": {
    "collapsed": true
   },
   "outputs": [],
   "source": [
    "hg19_regions.to_csv('/pollard/data/projects/AlleleAnalyzer_data/wtc_data/hg19/regions_w_fnames.tsv',\n",
    "                   sep='\\t')"
   ]
  },
  {
   "cell_type": "markdown",
   "metadata": {},
   "source": [
    "# ExcisionFinder analysis + single guide targetability analyses\n",
    "\n",
    "Running single cut targetability analysis:\n",
    "\n"
   ]
  },
  {
   "cell_type": "code",
   "execution_count": 3,
   "metadata": {
    "collapsed": true
   },
   "outputs": [],
   "source": [
    "test = pd.read_hdf('/pollard/data/projects/AlleleAnalyzer_data/1kgp_data/hg19_analysis/1kgp_excisionfinder_results/results_by_chrom/chr11_ef_res')\n"
   ]
  },
  {
   "cell_type": "code",
   "execution_count": 5,
   "metadata": {
    "collapsed": true
   },
   "outputs": [],
   "source": [
    "genes = pd.read_csv('/pollard/home/kathleen/projects/AlleleAnalyzer/manuscript_analyses/1000genomes_analysis/get_gene_list/gene_list_hg19.tsv',\n",
    "                   sep='\\t')"
   ]
  },
  {
   "cell_type": "code",
   "execution_count": 6,
   "metadata": {},
   "outputs": [
    {
     "data": {
      "text/html": [
       "<div>\n",
       "<style scoped>\n",
       "    .dataframe tbody tr th:only-of-type {\n",
       "        vertical-align: middle;\n",
       "    }\n",
       "\n",
       "    .dataframe tbody tr th {\n",
       "        vertical-align: top;\n",
       "    }\n",
       "\n",
       "    .dataframe thead th {\n",
       "        text-align: right;\n",
       "    }\n",
       "</style>\n",
       "<table border=\"1\" class=\"dataframe\">\n",
       "  <thead>\n",
       "    <tr style=\"text-align: right;\">\n",
       "      <th></th>\n",
       "      <th>official_gene_symbol</th>\n",
       "      <th>name</th>\n",
       "      <th>chrom</th>\n",
       "      <th>txStart</th>\n",
       "      <th>txEnd</th>\n",
       "      <th>cdsStart</th>\n",
       "      <th>cdsEnd</th>\n",
       "      <th>exonCount</th>\n",
       "      <th>exonStarts</th>\n",
       "      <th>exonEnds</th>\n",
       "      <th>size</th>\n",
       "    </tr>\n",
       "  </thead>\n",
       "  <tbody>\n",
       "    <tr>\n",
       "      <th>0</th>\n",
       "      <td>A1BG</td>\n",
       "      <td>NM_130786.3</td>\n",
       "      <td>chr19</td>\n",
       "      <td>58858171</td>\n",
       "      <td>58864865</td>\n",
       "      <td>58858387</td>\n",
       "      <td>58864803</td>\n",
       "      <td>8</td>\n",
       "      <td>58858171,58858718,58861735,58862756,58863648,5...</td>\n",
       "      <td>58858395,58859006,58862017,58863053,58863921,5...</td>\n",
       "      <td>6694</td>\n",
       "    </tr>\n",
       "    <tr>\n",
       "      <th>1</th>\n",
       "      <td>A1BG-AS1</td>\n",
       "      <td>NR_015380.2</td>\n",
       "      <td>chr19</td>\n",
       "      <td>58863335</td>\n",
       "      <td>58866549</td>\n",
       "      <td>58866549</td>\n",
       "      <td>58866549</td>\n",
       "      <td>4</td>\n",
       "      <td>58863335,58864744,58865079,58865734,</td>\n",
       "      <td>58864410,58864840,58865223,58866549,</td>\n",
       "      <td>3214</td>\n",
       "    </tr>\n",
       "    <tr>\n",
       "      <th>2</th>\n",
       "      <td>A1CF</td>\n",
       "      <td>NM_001198820.1</td>\n",
       "      <td>chr10</td>\n",
       "      <td>52559168</td>\n",
       "      <td>52645435</td>\n",
       "      <td>52566488</td>\n",
       "      <td>52610547</td>\n",
       "      <td>14</td>\n",
       "      <td>52559168,52569653,52570799,52573616,52575765,5...</td>\n",
       "      <td>52566640,52569802,52570936,52573798,52576039,5...</td>\n",
       "      <td>86267</td>\n",
       "    </tr>\n",
       "    <tr>\n",
       "      <th>3</th>\n",
       "      <td>A2M</td>\n",
       "      <td>NM_001347424.1</td>\n",
       "      <td>chr12</td>\n",
       "      <td>9220303</td>\n",
       "      <td>9268825</td>\n",
       "      <td>9220418</td>\n",
       "      <td>9265102</td>\n",
       "      <td>36</td>\n",
       "      <td>9220303,9220778,9221335,9222340,9223083,922495...</td>\n",
       "      <td>9220435,9220820,9221438,9222409,9223174,922508...</td>\n",
       "      <td>48522</td>\n",
       "    </tr>\n",
       "    <tr>\n",
       "      <th>4</th>\n",
       "      <td>A2M-AS1</td>\n",
       "      <td>NR_026971.1</td>\n",
       "      <td>chr12</td>\n",
       "      <td>9217772</td>\n",
       "      <td>9220651</td>\n",
       "      <td>9220651</td>\n",
       "      <td>9220651</td>\n",
       "      <td>3</td>\n",
       "      <td>9217772,9218421,9218751,</td>\n",
       "      <td>9217824,9218656,9220651,</td>\n",
       "      <td>2879</td>\n",
       "    </tr>\n",
       "  </tbody>\n",
       "</table>\n",
       "</div>"
      ],
      "text/plain": [
       "  official_gene_symbol            name  chrom   txStart     txEnd  cdsStart  \\\n",
       "0                 A1BG     NM_130786.3  chr19  58858171  58864865  58858387   \n",
       "1             A1BG-AS1     NR_015380.2  chr19  58863335  58866549  58866549   \n",
       "2                 A1CF  NM_001198820.1  chr10  52559168  52645435  52566488   \n",
       "3                  A2M  NM_001347424.1  chr12   9220303   9268825   9220418   \n",
       "4              A2M-AS1     NR_026971.1  chr12   9217772   9220651   9220651   \n",
       "\n",
       "     cdsEnd  exonCount                                         exonStarts  \\\n",
       "0  58864803          8  58858171,58858718,58861735,58862756,58863648,5...   \n",
       "1  58866549          4               58863335,58864744,58865079,58865734,   \n",
       "2  52610547         14  52559168,52569653,52570799,52573616,52575765,5...   \n",
       "3   9265102         36  9220303,9220778,9221335,9222340,9223083,922495...   \n",
       "4   9220651          3                           9217772,9218421,9218751,   \n",
       "\n",
       "                                            exonEnds   size  \n",
       "0  58858395,58859006,58862017,58863053,58863921,5...   6694  \n",
       "1               58864410,58864840,58865223,58866549,   3214  \n",
       "2  52566640,52569802,52570936,52573798,52576039,5...  86267  \n",
       "3  9220435,9220820,9221438,9222409,9223174,922508...  48522  \n",
       "4                           9217824,9218656,9220651,   2879  "
      ]
     },
     "execution_count": 6,
     "metadata": {},
     "output_type": "execute_result"
    }
   ],
   "source": [
    "genes.head()"
   ]
  },
  {
   "cell_type": "markdown",
   "metadata": {},
   "source": [
    "Identify targetable genes per person by each method:\n",
    "\n",
    "Dual-sgRNA approach:\n",
    "\n",
    "`python /pollard/home/kathleen/projects/AlleleAnalyzer/manuscript_analyses/wtc_analysis/src/hg19_analysis/targ_genes_per_person.py /pollard/home/kathleen/projects/AlleleAnalyzer/manuscript_analyses/1000genomes_analysis/get_gene_list/gene_list_hg19.tsv /pollard/home/kathleen/projects/AlleleAnalyzer/manuscript_analyses/wtc_analysis/src/hg19_analysis/samples.txt /pollard/data/projects/AlleleAnalyzer_data/wtc_data/hg19/wtc_excisionfinder_results/ /pollard/data/projects/AlleleAnalyzer_data/wtc_data/hg19/wtc_excisionfinder_results/`\n",
    "\n",
    "Single-sgRNA approach:\n",
    "\n",
    "`python /pollard/home/kathleen/projects/AlleleAnalyzer/manuscript_analyses/wtc_analysis/src/hg19_analysis/targ_genes_per_person_single.py /pollard/home/kathleen/projects/AlleleAnalyzer/manuscript_analyses/1000genomes_analysis/get_gene_list/gene_list_hg19.tsv /pollard/home/kathleen/projects/AlleleAnalyzer/manuscript_analyses/wtc_analysis/src/hg19_analysis/samples.txt /pollard/data/projects/AlleleAnalyzer_data/wtc_data/hg19/wtc_single_targ/ /pollard/data/projects/AlleleAnalyzer_data/wtc_data/hg19/wtc_single_targ/`\n",
    "\n",
    "Dual-sgRNA approach + 5kb:\n",
    "\n",
    "`python /pollard/home/kathleen/projects/AlleleAnalyzer/manuscript_analyses/wtc_analysis/src/hg19_analysis/targ_genes_per_person.py /pollard/home/kathleen/projects/AlleleAnalyzer/manuscript_analyses/1000genomes_analysis/get_gene_list/gene_list_hg19.tsv /pollard/home/kathleen/projects/AlleleAnalyzer/manuscript_analyses/wtc_analysis/src/hg19_analysis/samples.txt /pollard/data/projects/AlleleAnalyzer_data/wtc_data/hg19/wtc_excisionfinder_results_5kb/ /pollard/data/projects/AlleleAnalyzer_data/wtc_data/hg19/wtc_excisionfinder_results_5kb/`\n",
    "\n",
    "Single-sgRNA approach:\n",
    "\n",
    "`python /pollard/home/kathleen/projects/AlleleAnalyzer/manuscript_analyses/wtc_analysis/src/hg19_analysis/targ_genes_per_person_single.py /pollard/home/kathleen/projects/AlleleAnalyzer/manuscript_analyses/1000genomes_analysis/get_gene_list/gene_list_hg19.tsv /pollard/home/kathleen/projects/AlleleAnalyzer/manuscript_analyses/wtc_analysis/src/hg19_analysis/samples.txt /pollard/data/projects/AlleleAnalyzer_data/wtc_data/hg19/wtc_single_targ_5kb/ /pollard/data/projects/AlleleAnalyzer_data/wtc_data/hg19/wtc_single_targ_5kb/`"
   ]
  },
  {
   "cell_type": "markdown",
   "metadata": {},
   "source": [
    "# Determine # putatively targetable genes in WTC"
   ]
  },
  {
   "cell_type": "code",
   "execution_count": 2,
   "metadata": {
    "collapsed": true
   },
   "outputs": [],
   "source": [
    "genes = pd.read_csv('/pollard/home/kathleen/projects/AlleleAnalyzer/manuscript_analyses/1000genomes_analysis/get_gene_list/gene_list_hg19.tsv',\n",
    "                   sep='\\t')\n",
    "autosomal_genes = genes.query('(chrom != \"chrX\") and (chrom != \"chrY\")')\n",
    "protein_coding_autosomal_genes = set(genes[genes['name'].str.startswith('NM')]['official_gene_symbol'].tolist())"
   ]
  },
  {
   "cell_type": "code",
   "execution_count": 31,
   "metadata": {
    "collapsed": true
   },
   "outputs": [],
   "source": [
    "targ_genes_per_person = np.load('/pollard/data/projects/AlleleAnalyzer_data/wtc_data/hg19/wtc_excisionfinder_results/genes_per_person.npy').item()\n",
    "targ_genes_per_person_single = np.load('/pollard/data/projects/AlleleAnalyzer_data/wtc_data/hg19/wtc_single_targ/genes_per_person.npy').item()\n",
    "targ_genes_per_person_5kb = np.load('/pollard/data/projects/AlleleAnalyzer_data/wtc_data/hg19/wtc_excisionfinder_results_5kb/genes_per_person.npy').item()\n",
    "targ_genes_per_person_single_5kb = np.load('/pollard/data/projects/AlleleAnalyzer_data/wtc_data/hg19/wtc_single_targ_5kb/genes_per_person.npy').item()"
   ]
  },
  {
   "cell_type": "code",
   "execution_count": 32,
   "metadata": {},
   "outputs": [
    {
     "data": {
      "text/plain": [
       "54.84046607862354"
      ]
     },
     "execution_count": 32,
     "metadata": {},
     "output_type": "execute_result"
    }
   ],
   "source": [
    "ppl = []\n",
    "num_targ_genes = []\n",
    "cas = []\n",
    "\n",
    "for key in targ_genes_per_person:\n",
    "    ppl.append(key)\n",
    "    num_targ_genes.append(len(protein_coding_autosomal_genes.intersection(set(targ_genes_per_person[key]))))\n",
    "    \n",
    "targ_genes_per_person_df = pd.DataFrame({'ppl':ppl, 'num_targ_genes':num_targ_genes})\n",
    "\n",
    "targ_genes_per_person_df['perc_targ_genes'] = targ_genes_per_person_df['num_targ_genes'].divide(len(protein_coding_autosomal_genes)) * 100.0\n",
    "\n",
    "targ_genes_per_person_df['perc_targ_genes'].mean()"
   ]
  },
  {
   "cell_type": "code",
   "execution_count": 33,
   "metadata": {},
   "outputs": [
    {
     "data": {
      "text/plain": [
       "64.43972557987586"
      ]
     },
     "execution_count": 33,
     "metadata": {},
     "output_type": "execute_result"
    }
   ],
   "source": [
    "ppl = []\n",
    "num_targ_genes = []\n",
    "cas = []\n",
    "\n",
    "for key in targ_genes_per_person_5kb:\n",
    "    ppl.append(key)\n",
    "    num_targ_genes.append(len(protein_coding_autosomal_genes.intersection(set(targ_genes_per_person_5kb[key]))))\n",
    "    \n",
    "targ_genes_per_person_df = pd.DataFrame({'ppl':ppl, 'num_targ_genes':num_targ_genes})\n",
    "\n",
    "targ_genes_per_person_df['perc_targ_genes'] = targ_genes_per_person_df['num_targ_genes'].divide(len(protein_coding_autosomal_genes)) * 100.0\n",
    "\n",
    "targ_genes_per_person_df['perc_targ_genes'].mean()"
   ]
  },
  {
   "cell_type": "code",
   "execution_count": 34,
   "metadata": {},
   "outputs": [
    {
     "data": {
      "text/plain": [
       "26.908417728411195"
      ]
     },
     "execution_count": 34,
     "metadata": {},
     "output_type": "execute_result"
    }
   ],
   "source": [
    "ppl = []\n",
    "num_targ_genes = []\n",
    "cas = []\n",
    "\n",
    "for key in targ_genes_per_person_single:\n",
    "    ppl.append(key)\n",
    "    num_targ_genes.append(len(protein_coding_autosomal_genes.intersection(set(targ_genes_per_person_single[key]))))\n",
    "    \n",
    "targ_genes_per_person_df = pd.DataFrame({'ppl':ppl, 'num_targ_genes':num_targ_genes})\n",
    "\n",
    "targ_genes_per_person_df['perc_targ_genes'] = targ_genes_per_person_df['num_targ_genes'].divide(len(protein_coding_autosomal_genes)) * 100.0\n",
    "\n",
    "targ_genes_per_person_df['perc_targ_genes'].mean()"
   ]
  },
  {
   "cell_type": "code",
   "execution_count": 35,
   "metadata": {},
   "outputs": [
    {
     "data": {
      "text/plain": [
       "26.913862572144183"
      ]
     },
     "execution_count": 35,
     "metadata": {},
     "output_type": "execute_result"
    }
   ],
   "source": [
    "ppl = []\n",
    "num_targ_genes = []\n",
    "cas = []\n",
    "\n",
    "for key in targ_genes_per_person_single_5kb:\n",
    "    ppl.append(key)\n",
    "    num_targ_genes.append(len(protein_coding_autosomal_genes.intersection(set(targ_genes_per_person_single_5kb[key]))))\n",
    "    \n",
    "targ_genes_per_person_df = pd.DataFrame({'ppl':ppl, 'num_targ_genes':num_targ_genes})\n",
    "\n",
    "targ_genes_per_person_df['perc_targ_genes'] = targ_genes_per_person_df['num_targ_genes'].divide(len(protein_coding_autosomal_genes)) * 100.0\n",
    "\n",
    "targ_genes_per_person_df['perc_targ_genes'].mean()"
   ]
  },
  {
   "cell_type": "markdown",
   "metadata": {},
   "source": [
    "# Compare single to dual targeting in WTC"
   ]
  },
  {
   "cell_type": "code",
   "execution_count": 9,
   "metadata": {
    "collapsed": true
   },
   "outputs": [],
   "source": [
    "protein_coding_autosomal_genes_df = genes[genes['name'].str.startswith('NM')].query('(chrom != \"chrX\") and (chrom != \"chrY\")').copy()"
   ]
  },
  {
   "cell_type": "code",
   "execution_count": 10,
   "metadata": {
    "collapsed": true
   },
   "outputs": [],
   "source": [
    "vcf = VCF('/pollard/home/kathleen/conklin_wt_seq_data/wtc_wgs_data/phased_yin/wtc_PASS_hg19.phased.vcf.gz')"
   ]
  },
  {
   "cell_type": "markdown",
   "metadata": {},
   "source": [
    "## Get number of hets per gene in WTC"
   ]
  },
  {
   "cell_type": "code",
   "execution_count": 11,
   "metadata": {
    "collapsed": true
   },
   "outputs": [],
   "source": [
    "n_hets_per_gene = {}\n",
    "\n",
    "for ix, row in protein_coding_autosomal_genes_df.iterrows():\n",
    "    gene_chrom = row['chrom']#.replace('chr','')\n",
    "    gene_start = row['txStart']\n",
    "    gene_stop = row['txEnd']\n",
    "    gene_vars = vcf(f'{gene_chrom}:{gene_start}-{gene_stop}')\n",
    "    gene_name = row['official_gene_symbol']\n",
    "    n_hets = 0\n",
    "    for var in gene_vars:\n",
    "        hap1, hap2, whatever = var.genotypes[0]\n",
    "        if hap1 != hap2:\n",
    "            n_hets += 1\n",
    "        else:\n",
    "            continue\n",
    "    n_hets_per_gene[gene_name] = n_hets"
   ]
  },
  {
   "cell_type": "code",
   "execution_count": 12,
   "metadata": {
    "collapsed": true
   },
   "outputs": [],
   "source": [
    "n_hets_per_gene_df = pd.DataFrame.from_dict(n_hets_per_gene, orient='index')\n",
    "n_hets_per_gene_df['gene'] = n_hets_per_gene_df.index\n",
    "n_hets_per_gene_df.columns = ['n_hets','gene']"
   ]
  },
  {
   "cell_type": "code",
   "execution_count": 13,
   "metadata": {},
   "outputs": [
    {
     "data": {
      "text/html": [
       "<div>\n",
       "<style scoped>\n",
       "    .dataframe tbody tr th:only-of-type {\n",
       "        vertical-align: middle;\n",
       "    }\n",
       "\n",
       "    .dataframe tbody tr th {\n",
       "        vertical-align: top;\n",
       "    }\n",
       "\n",
       "    .dataframe thead th {\n",
       "        text-align: right;\n",
       "    }\n",
       "</style>\n",
       "<table border=\"1\" class=\"dataframe\">\n",
       "  <thead>\n",
       "    <tr style=\"text-align: right;\">\n",
       "      <th></th>\n",
       "      <th>n_hets</th>\n",
       "      <th>gene</th>\n",
       "    </tr>\n",
       "  </thead>\n",
       "  <tbody>\n",
       "    <tr>\n",
       "      <th>A1BG</th>\n",
       "      <td>4</td>\n",
       "      <td>A1BG</td>\n",
       "    </tr>\n",
       "    <tr>\n",
       "      <th>A1CF</th>\n",
       "      <td>9</td>\n",
       "      <td>A1CF</td>\n",
       "    </tr>\n",
       "    <tr>\n",
       "      <th>A2M</th>\n",
       "      <td>72</td>\n",
       "      <td>A2M</td>\n",
       "    </tr>\n",
       "    <tr>\n",
       "      <th>A2ML1</th>\n",
       "      <td>21</td>\n",
       "      <td>A2ML1</td>\n",
       "    </tr>\n",
       "    <tr>\n",
       "      <th>A3GALT2</th>\n",
       "      <td>17</td>\n",
       "      <td>A3GALT2</td>\n",
       "    </tr>\n",
       "  </tbody>\n",
       "</table>\n",
       "</div>"
      ],
      "text/plain": [
       "         n_hets     gene\n",
       "A1BG          4     A1BG\n",
       "A1CF          9     A1CF\n",
       "A2M          72      A2M\n",
       "A2ML1        21    A2ML1\n",
       "A3GALT2      17  A3GALT2"
      ]
     },
     "execution_count": 13,
     "metadata": {},
     "output_type": "execute_result"
    }
   ],
   "source": [
    "n_hets_per_gene_df.head()"
   ]
  },
  {
   "cell_type": "code",
   "execution_count": 14,
   "metadata": {
    "collapsed": true
   },
   "outputs": [],
   "source": [
    "less_two_hets = n_hets_per_gene_df.query('n_hets < 2')['gene'].tolist()\n",
    "single_targ = targ_genes_per_person_single['WTC']\n",
    "dual_targ = targ_genes_per_person['WTC']"
   ]
  },
  {
   "cell_type": "code",
   "execution_count": 19,
   "metadata": {
    "collapsed": true
   },
   "outputs": [],
   "source": [
    "upset_plot_dict = {'< 2 Hets': protein_coding_autosomal_genes_df[protein_coding_autosomal_genes_df['official_gene_symbol'].isin(less_two_hets)],\n",
    "                  'Single': protein_coding_autosomal_genes_df[protein_coding_autosomal_genes_df['official_gene_symbol'].isin(single_targ)],\n",
    "                  'Dual': protein_coding_autosomal_genes_df[protein_coding_autosomal_genes_df['official_gene_symbol'].isin(dual_targ)]}\n",
    "\n",
    "# upset_plot_dict['< 2 Heterozygous Variants'] = n"
   ]
  },
  {
   "cell_type": "code",
   "execution_count": 23,
   "metadata": {},
   "outputs": [
    {
     "data": {
      "image/png": "[encoded data removed]",
      "text/plain": [
       "<matplotlib.figure.Figure at 0x7faba9df1390>"
      ]
     },
     "metadata": {},
     "output_type": "display_data"
    }
   ],
   "source": [
    "fig = pyu.plot(upset_plot_dict, unique_keys=['official_gene_symbol'])"
   ]
  },
  {
   "cell_type": "code",
   "execution_count": 26,
   "metadata": {},
   "outputs": [
    {
     "data": {
      "text/plain": [
       "{'additional': [],\n",
       " 'base_set_size': <matplotlib.axes._subplots.AxesSubplot at 0x7faba85382e8>,\n",
       " 'figure': <matplotlib.figure.Figure at 0x7faba9df1390>,\n",
       " 'intersection_bars': <matplotlib.axes._subplots.AxesSubplot at 0x7faba81405f8>,\n",
       " 'intersection_matrix': <matplotlib.axes._subplots.AxesSubplot at 0x7faba852d2b0>,\n",
       " 'names': <matplotlib.axes._subplots.AxesSubplot at 0x7faba8200780>}"
      ]
     },
     "execution_count": 26,
     "metadata": {},
     "output_type": "execute_result"
    }
   ],
   "source": [
    "fig"
   ]
  },
  {
   "cell_type": "code",
   "execution_count": 27,
   "metadata": {},
   "outputs": [],
   "source": [
    "fig['figure'].savefig('single_vs_dual_wtc_hg19.pdf', dpi=300)"
   ]
  },
  {
   "cell_type": "code",
   "execution_count": null,
   "metadata": {
    "collapsed": true
   },
   "outputs": [],
   "source": []
  }
 ],
 "metadata": {
  "kernelspec": {
   "display_name": "Python [conda env:anaconda3]",
   "language": "python",
   "name": "conda-env-anaconda3-py"
  },
  "language_info": {
   "codemirror_mode": {
    "name": "ipython",
    "version": 3
   },
   "file_extension": ".py",
   "mimetype": "text/x-python",
   "name": "python",
   "nbconvert_exporter": "python",
   "pygments_lexer": "ipython3",
   "version": "3.6.2"
  },
  "toc": {
   "nav_menu": {},
   "number_sections": true,
   "sideBar": true,
   "skip_h1_title": false,
   "title_cell": "Table of Contents",
   "title_sidebar": "Contents",
   "toc_cell": false,
   "toc_position": {},
   "toc_section_display": true,
   "toc_window_display": false
  }
 },
 "nbformat": 4,
 "nbformat_minor": 2
}
