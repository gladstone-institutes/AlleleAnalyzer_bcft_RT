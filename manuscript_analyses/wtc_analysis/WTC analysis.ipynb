{
 "cells": [
  {
   "cell_type": "code",
   "execution_count": 1,
   "metadata": {
    "collapsed": true
   },
   "outputs": [],
   "source": [
    "import pandas as pd\n",
    "import os\n",
    "from pysam import VariantFile\n",
    "import matplotlib.pyplot as plt\n",
    "import numpy as np\n",
    "import seaborn as sns\n",
    "\n",
    "plt.style.use('aa_paper')\n",
    "%matplotlib inline"
   ]
  },
  {
   "cell_type": "markdown",
   "metadata": {},
   "source": [
    "# hg19\n",
    "\n",
    "## Reformat VCFs in parallel\n",
    "\n",
    "`/pollard/home/kathleen/projects/AlleleAnalyzer/manuscript_analyses/wtc_analysis/src/reformat_variants_wtc_hg19_1.sh` (1-4 to cover all 313762 regions defined in the 1000 Genomes hg19 region splitting)\n",
    "\n",
    "Verify that they all completed."
   ]
  },
  {
   "cell_type": "code",
   "execution_count": 3,
   "metadata": {},
   "outputs": [],
   "source": [
    "hg19_regions = pd.read_csv('../1000genomes_analysis/dat/1kgp_hg19_regions.bed', sep='\\t', header=None,\n",
    "                          names=['chrom','start','stop','region_id'])"
   ]
  },
  {
   "cell_type": "code",
   "execution_count": null,
   "metadata": {
    "collapsed": true
   },
   "outputs": [],
   "source": [
    "hg19_regions['gens_fname'] = '/pollard/data/projects/AlleleAnalyzer_data/wtc_data/wtc_formatted_variants/' + hg19_regions['region_id'] + '.h5'\n",
    "\n",
    "hg19_regions['gens_complete'] = hg19_regions['gens_fname'].map(os.path.isfile)"
   ]
  },
  {
   "cell_type": "markdown",
   "metadata": {},
   "source": [
    "Annotate variants in parallel\n",
    "\n"
   ]
  }
 ],
 "metadata": {
  "kernelspec": {
   "display_name": "Python [conda env:anaconda3]",
   "language": "python",
   "name": "conda-env-anaconda3-py"
  },
  "language_info": {
   "codemirror_mode": {
    "name": "ipython",
    "version": 3
   },
   "file_extension": ".py",
   "mimetype": "text/x-python",
   "name": "python",
   "nbconvert_exporter": "python",
   "pygments_lexer": "ipython3",
   "version": "3.6.2"
  },
  "toc": {
   "nav_menu": {},
   "number_sections": true,
   "sideBar": true,
   "skip_h1_title": false,
   "title_cell": "Table of Contents",
   "title_sidebar": "Contents",
   "toc_cell": false,
   "toc_position": {},
   "toc_section_display": true,
   "toc_window_display": false
  }
 },
 "nbformat": 4,
 "nbformat_minor": 2
}
