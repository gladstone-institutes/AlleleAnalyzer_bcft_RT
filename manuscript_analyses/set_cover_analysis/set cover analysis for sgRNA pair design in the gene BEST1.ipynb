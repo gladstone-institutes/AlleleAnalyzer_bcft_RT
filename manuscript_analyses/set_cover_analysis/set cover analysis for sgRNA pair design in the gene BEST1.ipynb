{
 "cells": [
  {
   "cell_type": "code",
   "execution_count": 1,
   "metadata": {
    "collapsed": true
   },
   "outputs": [],
   "source": [
    "import pandas as pd\n",
    "import seaborn as sns\n",
    "import matplotlib.pyplot as plt\n",
    "sns.set_palette('magma')\n",
    "import numpy as np\n",
    "\n",
    "plt.style.use('aa_paper')\n",
    "%matplotlib inline"
   ]
  },
  {
   "cell_type": "markdown",
   "metadata": {},
   "source": [
    "This notebook describes our process of designing optimal guides for allele-specific excision for the gene *BEST1*.\n",
    "\n",
    "# Identify variants to target - *BEST1*\n",
    "\n",
    "Identify exhaustive list of targetable variant pairs in the gene with 1000 Genomes data for different excision maximum limits. 5kb was used for the paper.\n",
    "\n",
    "**5kb:**\n",
    "\n",
    "`python ~/projects/AlleleAnalyzer/scripts/ExcisionFinder.py -v /pollard/home/kathleen/projects/AlleleAnalyzer/manuscript_analyses/1000genomes_analysis/get_gene_list/gene_list_hg38.tsv BEST1 /pollard/public-www/public-share-www/excisionFinderData_public/1kgp_dat/hg38/variants_annotations/hg38_targs/11_targ.hdf5 5000 SpCas9,SaCas9 /pollard/data/genetics/1kg/phase3/hg38/ALL.chr11_GRCh38.genotypes.20170504.bcf set_cover_5kb/best1 --window=5000 --exhaustive`\n",
    "\n",
    "**10kb:**\n",
    "\n",
    "`python ~/projects/AlleleAnalyzer/scripts/ExcisionFinder.py -v /pollard/public-www/public-share-www/excisionFinderData_public/gene_lists/gene_list_hg38.tsv BEST1 /pollard/public-www/public-share-www/excisionFinderData_public/1kgp_dat/hg38/variants_annotations/hg38_targs/11_targ.hdf5 10000 SpCas9,SaCas9 /pollard/data/genetics/1kg/phase3/hg38/ALL.chr11_GRCh38.genotypes.20170504.bcf best1 --window=5000 --exhaustive`\n",
    "\n",
    "**20kb:**:\n",
    "`python ~/projects/AlleleAnalyzer/scripts/ExcisionFinder.py -v /pollard/public-www/public-share-www/excisionFinderData_public/gene_lists/gene_list_hg38.tsv BEST1 /pollard/public-www/public-share-www/excisionFinderData_public/1kgp_dat/hg38/variants_annotations/hg38_targs/11_targ.hdf5 20000 SpCas9,SaCas9 /pollard/data/genetics/1kg/phase3/hg38/ALL.chr11_GRCh38.genotypes.20170504.bcf set_cover_20kb/best1 --window=5000 --exhaustive`.\n",
    "\n",
    "Generate arcplot input for all populations together and for each superpopulation.\n",
    "\n",
    "`python ~/projects/AlleleAnalyzer/plotting_scripts/gen_arcplot_input.py set_cover_5kb/best1_exh.tsv set_cover_5kb/best1_arcplot_ALL`\n",
    "\n",
    "`parallel \" python ~/projects/AlleleAnalyzer/plotting_scripts/gen_arcplot_input.py set_cover_5kb/best1_exh.tsv set_cover_5kb/best1_arcplot_{} --sample_legend=/pollard/public-www/public-share-www/excisionFinderData_public/1kgp_dat/1kg_allsamples.tsv --pop={} \" ::: AFR AMR EAS EUR SAS`\n",
    "\n",
    "Plot arcplots together to demonstrate the different patterns of sharing.\n",
    "\n",
    "`python ~/projects/AlleleAnalyzer/manuscript_analyses/set_cover_analysis/src/superpops_for_arcplot_merged.py best1_arcplot_ best1_`\n",
    "\n",
    "`Rscript ~/projects/AlleleAnalyzer/manuscript_analyses/set_cover_analysis/src/arcplot_superpops_for_paper.R best1_all_pops_arcplot_input.tsv BEST1_filt30_allpops 30 61946721 61964465 5000 BEST1`\n",
    "\n",
    "Use set cover to identify top 5 variant pairs, or at least 50% of population.\n",
    "\n",
    "**5kb:**\n",
    "`python ~/projects/AlleleAnalyzer/scripts/optimize_ppl_covered.py --type=max_probes 5 set_cover_5kb/best1_exh.tsv set_cover_5kb/best1_set_cover_5_pairs`\n",
    "\n",
    "**10kb**:\n",
    "`python ~/projects/AlleleAnalyzer/scripts/optimize_ppl_covered.py --type=max_probes 5 set_cover_10kb/best1_test_exh.tsv set_cover_10kb/best1_set_cover_5_pairs`\n",
    "\n",
    "**20kb**:\n",
    "`python ~/projects/AlleleAnalyzer/scripts/optimize_ppl_covered.py --type=max_probes 5 set_cover_20kb/best1_exh.tsv set_cover_20kb/best1_set_cover_5_pairs`\n",
    "\n",
    "Cover at least 50% of population, 10 kb distance max.\n",
    "`python ~/projects/AlleleAnalyzer/scripts/optimize_ppl_covered.py --type=min_prop 0.5 set_cover_5kb/best1_exh.tsv best1_set_cover_min_50 --total_pop_size=2504`\n",
    "\n",
    "plot in black\n",
    "\n",
    "Rscript /pollard/home/kathleen/projects/AlleleAnalyzer/plotting_scripts/arcplot_black.R best1_arcplot_ALL.tsv arcplot_30_black 30 61946721 61964465 5000 BEST1\n",
    "\n",
    "parallel \" Rscript /pollard/home/kathleen/projects/AlleleAnalyzer/plotting_scripts/arcplot_black.R best1_arcplot_{}.tsv arcplot_30_black_{} 30 61946721 61964465 5000 BEST1_{} \" ::: AFR AMR EAS EUR SAS\n",
    "\n",
    "Rscript /pollard/home/kathleen/projects/AlleleAnalyzer/plotting_scripts/arcplot_black.R set_cover_5_pairs_for_arcplot.tsv arcplot_set_cover_black_ 0 61946721 61964465 5000 BEST1"
   ]
  },
  {
   "cell_type": "markdown",
   "metadata": {},
   "source": [
    "Demonstrate the difference in population coverages between top 5 shared pairs and set cover identified pairs."
   ]
  },
  {
   "cell_type": "markdown",
   "metadata": {},
   "source": [
    "## 5kb"
   ]
  },
  {
   "cell_type": "code",
   "execution_count": 14,
   "metadata": {
    "collapsed": true
   },
   "outputs": [],
   "source": [
    "superpop_dict = {\n",
    "    'AFR':'African',\n",
    "    'AMR':'Admixed\\n American',\n",
    "    'EAS':'East\\n Asian',\n",
    "    'EUR':'European',\n",
    "    'SAS':'South\\n Asian'\n",
    "}"
   ]
  },
  {
   "cell_type": "code",
   "execution_count": 15,
   "metadata": {},
   "outputs": [
    {
     "name": "stderr",
     "output_type": "stream",
     "text": [
      "/pollard/home/kathleen/tools/anaconda3/lib/python3.6/site-packages/IPython/core/interactiveshell.py:2698: DtypeWarning: Columns (3,4) have mixed types. Specify dtype option on import or set low_memory=False.\n",
      "  interactivity=interactivity, compiler=compiler, result=result)\n"
     ]
    }
   ],
   "source": [
    "pairs_available = pd.read_csv('BEST1/set_cover_5kb/best1_arcplot_all_pops.tsv', sep='\\t', low_memory=False)\n",
    "\n",
    "inds = pd.read_csv('/pollard/data/projects/AlleleAnalyzer_data/1kgp_data/1kg_allsamples.tsv',\n",
    "                  sep='\\t')\n",
    "\n",
    "pairs_to_ppl = pd.read_csv('BEST1/set_cover_5kb/best1_exh.tsv', sep='\\t')\n",
    "\n",
    "inds_cov = inds.copy()"
   ]
  },
  {
   "cell_type": "code",
   "execution_count": 6,
   "metadata": {},
   "outputs": [
    {
     "data": {
      "text/html": [
       "<div>\n",
       "<style scoped>\n",
       "    .dataframe tbody tr th:only-of-type {\n",
       "        vertical-align: middle;\n",
       "    }\n",
       "\n",
       "    .dataframe tbody tr th {\n",
       "        vertical-align: top;\n",
       "    }\n",
       "\n",
       "    .dataframe thead th {\n",
       "        text-align: right;\n",
       "    }\n",
       "</style>\n",
       "<table border=\"1\" class=\"dataframe\">\n",
       "  <thead>\n",
       "    <tr style=\"text-align: right;\">\n",
       "      <th></th>\n",
       "      <th>var1</th>\n",
       "      <th>var2</th>\n",
       "      <th>n_inds</th>\n",
       "      <th>percent_pop_covered</th>\n",
       "    </tr>\n",
       "  </thead>\n",
       "  <tbody>\n",
       "    <tr>\n",
       "      <th>0</th>\n",
       "      <td>61941957</td>\n",
       "      <td>61951915</td>\n",
       "      <td>3</td>\n",
       "      <td>0.119808</td>\n",
       "    </tr>\n",
       "    <tr>\n",
       "      <th>1</th>\n",
       "      <td>61942040</td>\n",
       "      <td>61951915</td>\n",
       "      <td>10</td>\n",
       "      <td>0.399361</td>\n",
       "    </tr>\n",
       "    <tr>\n",
       "      <th>2</th>\n",
       "      <td>61942165</td>\n",
       "      <td>61951915</td>\n",
       "      <td>12</td>\n",
       "      <td>0.479233</td>\n",
       "    </tr>\n",
       "    <tr>\n",
       "      <th>3</th>\n",
       "      <td>61942371</td>\n",
       "      <td>61952303</td>\n",
       "      <td>2</td>\n",
       "      <td>0.079872</td>\n",
       "    </tr>\n",
       "    <tr>\n",
       "      <th>4</th>\n",
       "      <td>61942374</td>\n",
       "      <td>61951826</td>\n",
       "      <td>1</td>\n",
       "      <td>0.039936</td>\n",
       "    </tr>\n",
       "  </tbody>\n",
       "</table>\n",
       "</div>"
      ],
      "text/plain": [
       "       var1      var2  n_inds  percent_pop_covered\n",
       "0  61941957  61951915       3             0.119808\n",
       "1  61942040  61951915      10             0.399361\n",
       "2  61942165  61951915      12             0.479233\n",
       "3  61942371  61952303       2             0.079872\n",
       "4  61942374  61951826       1             0.039936"
      ]
     },
     "execution_count": 6,
     "metadata": {},
     "output_type": "execute_result"
    }
   ],
   "source": [
    "pairs_available.head()"
   ]
  },
  {
   "cell_type": "code",
   "execution_count": 7,
   "metadata": {},
   "outputs": [
    {
     "data": {
      "text/plain": [
       "563"
      ]
     },
     "execution_count": 7,
     "metadata": {},
     "output_type": "execute_result"
    }
   ],
   "source": [
    "len(pairs_available.query('percent_pop_covered > 10.0'))"
   ]
  },
  {
   "cell_type": "code",
   "execution_count": 16,
   "metadata": {
    "collapsed": true
   },
   "outputs": [],
   "source": [
    "# top 5 method\n",
    "\n",
    "top_shared = pairs_available.sort_values(by='n_inds', ascending=False).head().copy()\n",
    "\n",
    "# set cover method\n",
    "\n",
    "sc_pairs_used = pd.read_csv('BEST1/set_cover_5kb/best1_set_cover_5_pairs_pairs_used.txt', sep='\\t')"
   ]
  },
  {
   "cell_type": "code",
   "execution_count": 17,
   "metadata": {
    "collapsed": true
   },
   "outputs": [],
   "source": [
    "def ppl_covered(guides_used_df, cohort_df):\n",
    "    guides_list = guides_used_df['var1'].tolist() + guides_used_df['var2'].tolist()\n",
    "    ppl_covered = cohort_df.query('(var1 in @guides_list) and (var1 in @guides_list)').copy()\n",
    "    return ppl_covered"
   ]
  },
  {
   "cell_type": "code",
   "execution_count": 18,
   "metadata": {
    "collapsed": true
   },
   "outputs": [],
   "source": [
    "ptp_sc_5 = ppl_covered(sc_pairs_used, pairs_to_ppl)\n",
    "ptp_top_5 = ppl_covered(top_shared, pairs_to_ppl)"
   ]
  },
  {
   "cell_type": "code",
   "execution_count": 19,
   "metadata": {},
   "outputs": [
    {
     "data": {
      "text/plain": [
       "1952"
      ]
     },
     "execution_count": 19,
     "metadata": {},
     "output_type": "execute_result"
    }
   ],
   "source": [
    "len(ptp_sc_5.ind.drop_duplicates())"
   ]
  },
  {
   "cell_type": "code",
   "execution_count": 20,
   "metadata": {},
   "outputs": [
    {
     "data": {
      "text/plain": [
       "1190"
      ]
     },
     "execution_count": 20,
     "metadata": {},
     "output_type": "execute_result"
    }
   ],
   "source": [
    "len(ptp_top_5.ind.drop_duplicates())"
   ]
  },
  {
   "cell_type": "code",
   "execution_count": 21,
   "metadata": {
    "collapsed": true
   },
   "outputs": [],
   "source": [
    "def cov_cat(row):\n",
    "    if row['sample'] in ptp_top_5['ind'].tolist() and row['sample'] in ptp_sc_5['ind'].tolist():\n",
    "        return 'Both'\n",
    "    elif row['sample'] in ptp_top_5['ind'].tolist():\n",
    "        return 'Top 5'\n",
    "    elif row['sample'] in ptp_sc_5['ind'].tolist():\n",
    "        return 'Set Cover'\n",
    "    else:\n",
    "        return 'Neither'\n",
    "\n",
    "inds_cov['Coverage'] = inds_cov.apply(lambda row: cov_cat(row), axis=1)"
   ]
  },
  {
   "cell_type": "code",
   "execution_count": 22,
   "metadata": {},
   "outputs": [
    {
     "data": {
      "text/html": [
       "<div>\n",
       "<style scoped>\n",
       "    .dataframe tbody tr th:only-of-type {\n",
       "        vertical-align: middle;\n",
       "    }\n",
       "\n",
       "    .dataframe tbody tr th {\n",
       "        vertical-align: top;\n",
       "    }\n",
       "\n",
       "    .dataframe thead th {\n",
       "        text-align: right;\n",
       "    }\n",
       "</style>\n",
       "<table border=\"1\" class=\"dataframe\">\n",
       "  <thead>\n",
       "    <tr style=\"text-align: right;\">\n",
       "      <th></th>\n",
       "      <th>sample</th>\n",
       "      <th>pop</th>\n",
       "      <th>superpop</th>\n",
       "      <th>sex</th>\n",
       "      <th>Coverage</th>\n",
       "    </tr>\n",
       "  </thead>\n",
       "  <tbody>\n",
       "    <tr>\n",
       "      <th>0</th>\n",
       "      <td>HG01879</td>\n",
       "      <td>ACB</td>\n",
       "      <td>AFR</td>\n",
       "      <td>male</td>\n",
       "      <td>Both</td>\n",
       "    </tr>\n",
       "    <tr>\n",
       "      <th>1</th>\n",
       "      <td>HG01880</td>\n",
       "      <td>ACB</td>\n",
       "      <td>AFR</td>\n",
       "      <td>female</td>\n",
       "      <td>Both</td>\n",
       "    </tr>\n",
       "    <tr>\n",
       "      <th>2</th>\n",
       "      <td>HG01882</td>\n",
       "      <td>ACB</td>\n",
       "      <td>AFR</td>\n",
       "      <td>male</td>\n",
       "      <td>Both</td>\n",
       "    </tr>\n",
       "    <tr>\n",
       "      <th>3</th>\n",
       "      <td>HG01883</td>\n",
       "      <td>ACB</td>\n",
       "      <td>AFR</td>\n",
       "      <td>female</td>\n",
       "      <td>Both</td>\n",
       "    </tr>\n",
       "    <tr>\n",
       "      <th>4</th>\n",
       "      <td>HG01885</td>\n",
       "      <td>ACB</td>\n",
       "      <td>AFR</td>\n",
       "      <td>male</td>\n",
       "      <td>Both</td>\n",
       "    </tr>\n",
       "  </tbody>\n",
       "</table>\n",
       "</div>"
      ],
      "text/plain": [
       "    sample  pop superpop     sex Coverage\n",
       "0  HG01879  ACB      AFR    male     Both\n",
       "1  HG01880  ACB      AFR  female     Both\n",
       "2  HG01882  ACB      AFR    male     Both\n",
       "3  HG01883  ACB      AFR  female     Both\n",
       "4  HG01885  ACB      AFR    male     Both"
      ]
     },
     "execution_count": 22,
     "metadata": {},
     "output_type": "execute_result"
    }
   ],
   "source": [
    "inds_cov.head()"
   ]
  },
  {
   "cell_type": "code",
   "execution_count": 23,
   "metadata": {
    "collapsed": true
   },
   "outputs": [],
   "source": [
    "inds_cov['AlleleAnalyzer'] = inds['sample'].isin(ptp_sc_5['ind'])\n",
    "inds_cov['Top 5'] = inds['sample'].isin(ptp_top_5['ind'])"
   ]
  },
  {
   "cell_type": "code",
   "execution_count": 24,
   "metadata": {},
   "outputs": [
    {
     "data": {
      "text/html": [
       "<div>\n",
       "<style scoped>\n",
       "    .dataframe tbody tr th:only-of-type {\n",
       "        vertical-align: middle;\n",
       "    }\n",
       "\n",
       "    .dataframe tbody tr th {\n",
       "        vertical-align: top;\n",
       "    }\n",
       "\n",
       "    .dataframe thead th {\n",
       "        text-align: right;\n",
       "    }\n",
       "</style>\n",
       "<table border=\"1\" class=\"dataframe\">\n",
       "  <thead>\n",
       "    <tr style=\"text-align: right;\">\n",
       "      <th></th>\n",
       "      <th>sample</th>\n",
       "      <th>pop</th>\n",
       "      <th>superpop</th>\n",
       "      <th>sex</th>\n",
       "      <th>Coverage</th>\n",
       "      <th>AlleleAnalyzer</th>\n",
       "      <th>Top 5</th>\n",
       "    </tr>\n",
       "  </thead>\n",
       "  <tbody>\n",
       "    <tr>\n",
       "      <th>0</th>\n",
       "      <td>HG01879</td>\n",
       "      <td>ACB</td>\n",
       "      <td>AFR</td>\n",
       "      <td>male</td>\n",
       "      <td>Both</td>\n",
       "      <td>True</td>\n",
       "      <td>True</td>\n",
       "    </tr>\n",
       "    <tr>\n",
       "      <th>1</th>\n",
       "      <td>HG01880</td>\n",
       "      <td>ACB</td>\n",
       "      <td>AFR</td>\n",
       "      <td>female</td>\n",
       "      <td>Both</td>\n",
       "      <td>True</td>\n",
       "      <td>True</td>\n",
       "    </tr>\n",
       "    <tr>\n",
       "      <th>2</th>\n",
       "      <td>HG01882</td>\n",
       "      <td>ACB</td>\n",
       "      <td>AFR</td>\n",
       "      <td>male</td>\n",
       "      <td>Both</td>\n",
       "      <td>True</td>\n",
       "      <td>True</td>\n",
       "    </tr>\n",
       "    <tr>\n",
       "      <th>3</th>\n",
       "      <td>HG01883</td>\n",
       "      <td>ACB</td>\n",
       "      <td>AFR</td>\n",
       "      <td>female</td>\n",
       "      <td>Both</td>\n",
       "      <td>True</td>\n",
       "      <td>True</td>\n",
       "    </tr>\n",
       "    <tr>\n",
       "      <th>4</th>\n",
       "      <td>HG01885</td>\n",
       "      <td>ACB</td>\n",
       "      <td>AFR</td>\n",
       "      <td>male</td>\n",
       "      <td>Both</td>\n",
       "      <td>True</td>\n",
       "      <td>True</td>\n",
       "    </tr>\n",
       "  </tbody>\n",
       "</table>\n",
       "</div>"
      ],
      "text/plain": [
       "    sample  pop superpop     sex Coverage  AlleleAnalyzer  Top 5\n",
       "0  HG01879  ACB      AFR    male     Both            True   True\n",
       "1  HG01880  ACB      AFR  female     Both            True   True\n",
       "2  HG01882  ACB      AFR    male     Both            True   True\n",
       "3  HG01883  ACB      AFR  female     Both            True   True\n",
       "4  HG01885  ACB      AFR    male     Both            True   True"
      ]
     },
     "execution_count": 24,
     "metadata": {},
     "output_type": "execute_result"
    }
   ],
   "source": [
    "inds_cov.head()"
   ]
  },
  {
   "cell_type": "code",
   "execution_count": 29,
   "metadata": {},
   "outputs": [
    {
     "data": {
      "image/png": "[encoded data removed]",
      "text/plain": [
       "<matplotlib.figure.Figure at 0x7ff84f9e4240>"
      ]
     },
     "metadata": {},
     "output_type": "display_data"
    }
   ],
   "source": [
    "sns.set_palette('Dark2', n_colors=3)\n",
    "fig, ax = plt.subplots(figsize=(2.8, 1.8))\n",
    "sns.countplot(y='superpop', hue='AlleleAnalyzer', data=inds_cov.replace(superpop_dict).sort_values(by=['superpop','Coverage']))\n",
    "plt.xlabel('Number of individuals')\n",
    "plt.ylabel('Super Populations')\n",
    "plt.xticks(rotation=0)\n",
    "ax.legend(loc='upper right',prop={'size': 9},\n",
    "         frameon=False,\n",
    "         borderaxespad=0.1)\n",
    "ax.set_xlim([0,600])\n",
    "plt.title('AlleleAnalyzer')\n",
    "fig.savefig('BEST1/set_cover_5kb/aa_set_cover.pdf',\n",
    "           dpi=300, bbox_inches='tight')"
   ]
  },
  {
   "cell_type": "code",
   "execution_count": 30,
   "metadata": {},
   "outputs": [
    {
     "data": {
      "image/png": "[encoded data removed]",
      "text/plain": [
       "<matplotlib.figure.Figure at 0x7ff84f942e80>"
      ]
     },
     "metadata": {},
     "output_type": "display_data"
    }
   ],
   "source": [
    "sns.set_palette('Dark2', n_colors=3)\n",
    "fig, ax = plt.subplots(figsize=(2.8, 1.8))\n",
    "sns.countplot(y='superpop', hue='Top 5', data=inds_cov.replace(superpop_dict).sort_values(by=['superpop','Coverage']))\n",
    "plt.xlabel('Number of individuals')\n",
    "plt.ylabel('Super Populations')\n",
    "plt.xticks(rotation=0)\n",
    "ax.legend(loc='upper right',prop={'size': 9},\n",
    "         frameon=False,\n",
    "         borderaxespad=0.1)\n",
    "ax.set_xlim([0,600])\n",
    "plt.title('Top 5')\n",
    "fig.savefig('BEST1/set_cover_5kb/top5_cover.pdf',\n",
    "           dpi=300, bbox_inches='tight')"
   ]
  },
  {
   "cell_type": "code",
   "execution_count": 15,
   "metadata": {},
   "outputs": [
    {
     "data": {
      "text/plain": [
       "<matplotlib.text.Text at 0x7fd4ace5a2b0>"
      ]
     },
     "execution_count": 15,
     "metadata": {},
     "output_type": "execute_result"
    },
    {
     "data": {
      "image/png": "[encoded data removed]",
      "text/plain": [
       "<matplotlib.figure.Figure at 0x7fd4ad0d39b0>"
      ]
     },
     "metadata": {},
     "output_type": "display_data"
    }
   ],
   "source": [
    "sns.set_palette('Dark2', n_colors=3)\n",
    "fig, ax = plt.subplots(figsize=(2.8, 1.8))\n",
    "sns.countplot(y='superpop', hue='Coverage', data=inds_cov.query('Coverage == \"Set Cover\" or Coverage == \"Neither\" or Coverage == \"Both\"').replace(superpop_dict).sort_values(by=['superpop','Coverage']))\n",
    "plt.xlabel('Number of individuals')\n",
    "plt.ylabel('Super Populations')\n",
    "plt.xticks(rotation=0)\n",
    "ax.legend(loc='lower right',prop={'size': 9},\n",
    "         frameon=False,\n",
    "         borderaxespad=0.1)\n",
    "ax.set_xlim([0,460])\n",
    "plt.title('Set Cover')\n",
    "# fig.savefig('BEST1/set_cover_10kb/set_cover.pdf',\n",
    "#            dpi=300)"
   ]
  },
  {
   "cell_type": "code",
   "execution_count": 16,
   "metadata": {},
   "outputs": [
    {
     "data": {
      "image/png": "[encoded data removed]",
      "text/plain": [
       "<matplotlib.figure.Figure at 0x7fd4acdebd30>"
      ]
     },
     "metadata": {},
     "output_type": "display_data"
    }
   ],
   "source": [
    "fig, ax = plt.subplots(figsize=(2.8, 1.8))\n",
    "sns.countplot(y='superpop', hue='Coverage',\n",
    "              data=inds_cov.query('Coverage == \"Top 5\" or Coverage == \"Neither\" or Coverage==\"Both\"').replace(superpop_dict).sort_values(by=['superpop','Coverage']))\n",
    "plt.xlabel('Number of individuals')\n",
    "# plt.xlabel(False)\n",
    "plt.ylabel('Super Populations')\n",
    "plt.xticks(rotation=45)\n",
    "ax.legend(loc='lower right',prop={'size': 9},\n",
    "         frameon=False,\n",
    "         borderaxespad=0.1)\n",
    "ax.set_xlim([0,460])\n",
    "plt.ylabel('')\n",
    "plt.title('Top Five')\n",
    "plt.xticks(rotation=0)\n",
    "# ax.xaxis.set_ticks_position('none') \n",
    "# plt.yticks(None)\n",
    "ax.get_yaxis().set_visible(False)\n",
    "# fig.savefig('BEST1/set_cover_10kb/top_5.pdf',\n",
    "#            dpi=300)\n"
   ]
  },
  {
   "cell_type": "code",
   "execution_count": 19,
   "metadata": {},
   "outputs": [
    {
     "data": {
      "text/plain": [
       "<matplotlib.text.Text at 0x7fd4ac71f6d8>"
      ]
     },
     "execution_count": 19,
     "metadata": {},
     "output_type": "execute_result"
    },
    {
     "data": {
      "image/png": "[encoded data removed]",
      "text/plain": [
       "<matplotlib.figure.Figure at 0x7fd4ac6b2160>"
      ]
     },
     "metadata": {},
     "output_type": "display_data"
    }
   ],
   "source": [
    "sns.barplot(y=[100.0*len(inds_cov.query('(Coverage == \"Both\") or (Coverage == \"Top 5\")'))/2504.0,100.0*len(inds_cov.query('(Coverage == \"Both\") or (Coverage == \"Set Cover\")'))/2504.0],\n",
    "           x=['Top 5','Set Cover'])\n",
    "plt.ylabel('Percent of 1000 Genomes Cohort Covered')\n",
    "plt.xlabel('Method')"
   ]
  },
  {
   "cell_type": "markdown",
   "metadata": {},
   "source": [
    "Plot each set of pairs on arcplot to see how they vary."
   ]
  },
  {
   "cell_type": "code",
   "execution_count": 29,
   "metadata": {
    "collapsed": true
   },
   "outputs": [],
   "source": [
    "# save set cover arcplot df to file\n",
    "\n",
    "pairs_available = pd.read_csv('BEST1/set_cover_5kb/best1_arcplot_all_pops.tsv', sep='\\t', low_memory=False)\n",
    "\n",
    "sc_pairs_used = pd.read_csv('BEST1/set_cover_5kb/best1_set_cover_5_pairs_pairs_used.txt', sep='\\t')\n",
    "sc_arcplot_out_list = []\n",
    "\n",
    "for ix, row in sc_pairs_used.iterrows():\n",
    "    var1 = row['var1']\n",
    "    var2 = row['var2']\n",
    "    sc_arcplot_out_list.append(pairs_available.query('(var1 == @var1) and (var2 == @var2)'))\n",
    "\n",
    "sc_arcplot_out = pd.concat(sc_arcplot_out_list)\n",
    "sc_arcplot_out['analysis_set'] = 'Set Cover'\n",
    "\n",
    "top5_arcplot_out_list = []\n",
    "\n",
    "for ix, row in top_shared.iterrows():\n",
    "    var1 = row['var1']\n",
    "    var2 = row['var2']\n",
    "    top5_arcplot_out_list.append(pairs_available.query('(var1 == @var1) and (var2 == @var2)'))\n",
    "\n",
    "top5_arcplot_out = pd.concat(top5_arcplot_out_list)\n",
    "top5_arcplot_out['analysis_set'] = 'Top Five'\n",
    "\n",
    "together = pd.concat([sc_arcplot_out, top5_arcplot_out])\n",
    "together.to_csv('BEST1/set_cover_5kb/set_cover_top_5_arcplot.tsv', sep='\\t',\n",
    "     index=False)"
   ]
  },
  {
   "cell_type": "markdown",
   "metadata": {},
   "source": [
    "Arcplots, set cover\n",
    "\n",
    "Set cover + 5 overall 10 kb:\n",
    "\n",
    "`Rscript ~/projects/AlleleAnalyzer/manuscript_analyses/DN_sgRNAs_compendium/src/arcplot_st_cover_for_paper.R set_cover_10kb/set_cover_top_5_arcplot.tsv set_cover_10kb/BEST1_set_cover_top5 0 61946721 61964465 5000 BEST1`\n",
    "\n",
    "20kb:\n",
    "\n",
    "`python ~/projects/AlleleAnalyzer/plotting_scripts/gen_arcplot_input.py set_cover_20kb/best1_exh.tsv set_cover_20kb/best1_arcplot_all_pops`\n",
    "\n",
    "`Rscript ~/projects/AlleleAnalyzer/manuscript_analyses/DN_sgRNAs_compendium/src/arcplot_paper.R set_cover_20kb/best1_arcplot_all_pops.tsv set_cover_20kb/BEST1_filt10 10 61946721 61964465 5000 BEST1`\n",
    "\n",
    "10kb:\n",
    "\n",
    "`Rscript ~/projects/AlleleAnalyzer/manuscript_analyses/DN_sgRNAs_compendium/src/arcplot_paper.R set_cover_10kb/best1_all_pops_arcplot_input.tsv set_cover_10kb/BEST1_set_cover_arcplot 0 61946721 61964465 5000 BEST1`\n",
    "\n",
    "arcplot set cover pairs\n",
    "\n",
    "`Rscript ~/projects/AlleleAnalyzer/plotting_scripts/arcplot_generic.R set_cover_20kb/set_cover_5_pairs_for_arcplot.tsv set_cover_20kb/BEST1_set_cover 0 61946721 61964465 5000 BEST1`\n",
    "\n",
    "5kb:\n",
    "\n",
    "`python ~/projects/AlleleAnalyzer/plotting_scripts/gen_arcplot_input.py set_cover_5kb/best1_exh.tsv set_cover_5kb/best1_arcplot_all_pops`\n",
    "\n",
    "`Rscript ~/projects/AlleleAnalyzer/plotting_scripts/arcplot_generic.R set_cover_5kb/best1_arcplot_all_pops.tsv set_cover_5kb/BEST1_filt10 10 61946721 61964465 5000 BEST1`\n",
    "\n",
    "arcplot set cover pairs\n",
    "\n",
    "`Rscript ~/projects/AlleleAnalyzer/plotting_scripts/arcplot_generic.R set_cover_5kb/set_cover_5_pairs_for_arcplot.tsv set_cover_5kb/BEST1_set_cover 0 61946721 61964465 5000 BEST1`"
   ]
  },
  {
   "cell_type": "code",
   "execution_count": 102,
   "metadata": {
    "collapsed": true
   },
   "outputs": [],
   "source": [
    "# save top 5 arcplot df to file\n",
    "\n",
    "top5_arcplot_out_list = []\n",
    "\n",
    "for ix, row in top_shared.iterrows():\n",
    "    var1 = row['var1']\n",
    "    var2 = row['var2']\n",
    "    top5_arcplot_out_list.append(pairs_available.query('(var1 == @var1) and (var2 == @var2)'))\n",
    "\n",
    "top5_arcplot_out = pd.concat(top5_arcplot_out_list)\n",
    "top5_arcplot_out.to_csv('BEST1/top5_pairs_for_arcplot.tsv', sep='\\t',\n",
    "     index=False)"
   ]
  },
  {
   "cell_type": "markdown",
   "metadata": {},
   "source": [
    "Each pair site has multiple potential sgRNAs."
   ]
  },
  {
   "cell_type": "code",
   "execution_count": 36,
   "metadata": {
    "collapsed": true
   },
   "outputs": [],
   "source": [
    "# generate BED file for set cover sites\n",
    "\n",
    "sc_positions = list(set(list(set(sc_arcplot_out['var1'].tolist())) + list(set(sc_arcplot_out['var2'].tolist()))))"
   ]
  },
  {
   "cell_type": "code",
   "execution_count": 37,
   "metadata": {},
   "outputs": [
    {
     "data": {
      "text/plain": [
       "10"
      ]
     },
     "execution_count": 37,
     "metadata": {},
     "output_type": "execute_result"
    }
   ],
   "source": [
    "len(sc_positions)"
   ]
  },
  {
   "cell_type": "code",
   "execution_count": 38,
   "metadata": {
    "collapsed": true
   },
   "outputs": [],
   "source": [
    "sc_pos_df = pd.DataFrame()\n",
    "sc_pos_df['chrom'] = ['chr11'] * len(sc_positions)\n",
    "sc_pos_df['start'] = sc_positions\n",
    "sc_pos_df['start'] = sc_pos_df['start']\n",
    "sc_pos_df['stop'] = sc_pos_df['start']\n",
    "sc_pos_df['name'] = sc_pos_df.index.astype(str)\n",
    "sc_pos_df['name'] = 'region' + sc_pos_df['name']\n",
    "sc_pos_df.to_csv('BEST1/set_cover_5kb/set_cover_best1.bed', sep='\\t', header=False, index=False)"
   ]
  },
  {
   "cell_type": "markdown",
   "metadata": {},
   "source": [
    "Run gen_sgRNAs.py with `--sim` option to simulate a BCF with all heterozygous genotypes at these positions.\n",
    "\n",
    "`python ~/projects/AlleleAnalyzer/scripts/gen_sgRNAs.py -v /pollard/data/genetics/1kg/phase3/hg38/ALL.chr11_GRCh38.genotypes.20170504.bcf /pollard/data/projects/AlleleAnalyzer_data/1kgp_data/hg38_analysis/1kgp_annotated_variants_by_chrom/chr11_annotated.h5 /pollard/home/kathleen/projects/AlleleAnalyzer/manuscript_analyses/set_cover_analysis/BEST1/set_cover_5kb/set_cover_best1.bed /pollard/data/projects/AlleleAnalyzer_data/pam_sites_hg38/ /pollard/data/vertebrate_genomes/human/hg38/hg38/hg38.fa /pollard/home/kathleen/projects/AlleleAnalyzer/manuscript_analyses/DN_sgRNAs_compendium/BEST1/set_cover_5kb/guides_set_cover_best1 SpCas9,SaCas9 20 --bed --sim -d --crispor=hg38`\n",
    "\n",
    "Make a version formatted for IGV.\n",
    "\n",
    "`python ~/projects/AlleleAnalyzer/scripts/make_pretty_igv.py guides_set_cover_best1.tsv guides_best1_igv best1_set_cover --no_score`"
   ]
  },
  {
   "cell_type": "markdown",
   "metadata": {},
   "source": [
    "Assess sgRNA scores from CRISPOR."
   ]
  },
  {
   "cell_type": "code",
   "execution_count": 2,
   "metadata": {
    "collapsed": true
   },
   "outputs": [],
   "source": [
    "df = pd.read_csv('BEST1/set_cover_5kb/guides_set_cover_best1.tsv',\n",
    "                sep='\\t').replace(np.nan, 0)"
   ]
  },
  {
   "cell_type": "code",
   "execution_count": 3,
   "metadata": {
    "collapsed": true
   },
   "outputs": [],
   "source": [
    "loci = df['locus'].tolist() + df['locus'].tolist()\n",
    "scores = df['offtargcount_ref'].tolist() + df['offtargcount_alt'].tolist()\n",
    "labels = ['reference'] * len(df['scores_ref'].tolist()) + ['alternate'] * len(df['scores_alt'].tolist())\n",
    "df_plot = pd.DataFrame({\n",
    "    'sgRNA site':loci,\n",
    "    'Off-Target Sites':scores,\n",
    "    'Allele':labels\n",
    "})\n",
    "\n",
    "df_plot['region_'] = df_plot['sgRNA site'].str.split('region').str[1]\n",
    "df_plot['region_'] = df_plot['region_'].astype(int) + 1\n",
    "\n",
    "df_plot['sgRNA site'] = df_plot['region_']#['locus '] + df_plot['region_'].astype(str)\n",
    "\n",
    "fig, ax = plt.subplots(figsize=(3.6, 1.0))\n",
    "sns.set_palette('Dark2', n_colors=2)\n",
    "sns.swarmplot(x='sgRNA site', y='Off-Target Sites', \n",
    "              hue='Allele',data=df_plot, dodge=True,\n",
    "             size=3)\n",
    "plt.title('Number of off-target sites per sgRNA')\n",
    "plt.legend(loc='upper center',borderaxespad=0.2,\n",
    "          prop={'size': 9},\n",
    "          markerscale=0.5, frameon=False)\n",
    "# plt.xticks(rotation=45)\n",
    "plt.xlabel('sgRNA sites ordered by genomic position')\n",
    "plt.ylabel('Number of\\noff-target sites')\n",
    "# fig.savefig('BEST1/set_cover_5kb/off_targets_for_sgRNAs.pdf',\n",
    "#            dpi=300, bbox_inches='tight')"
   ]
  },
  {
   "cell_type": "code",
   "execution_count": 7,
   "metadata": {},
   "outputs": [
    {
     "data": {
      "text/html": [
       "<div>\n",
       "<style scoped>\n",
       "    .dataframe tbody tr th:only-of-type {\n",
       "        vertical-align: middle;\n",
       "    }\n",
       "\n",
       "    .dataframe tbody tr th {\n",
       "        vertical-align: top;\n",
       "    }\n",
       "\n",
       "    .dataframe thead th {\n",
       "        text-align: right;\n",
       "    }\n",
       "</style>\n",
       "<table border=\"1\" class=\"dataframe\">\n",
       "  <thead>\n",
       "    <tr style=\"text-align: right;\">\n",
       "      <th></th>\n",
       "      <th>alt</th>\n",
       "      <th>cas_type</th>\n",
       "      <th>chrom</th>\n",
       "      <th>gRNA_alt</th>\n",
       "      <th>gRNA_ref</th>\n",
       "      <th>ref</th>\n",
       "      <th>start</th>\n",
       "      <th>stop</th>\n",
       "      <th>strand</th>\n",
       "      <th>variant_position</th>\n",
       "      <th>variant_position_in_guide</th>\n",
       "      <th>scores_ref</th>\n",
       "      <th>offtargcount_ref</th>\n",
       "      <th>scores_alt</th>\n",
       "      <th>offtargcount_alt</th>\n",
       "      <th>locus</th>\n",
       "      <th>id</th>\n",
       "      <th>guide_id</th>\n",
       "    </tr>\n",
       "  </thead>\n",
       "  <tbody>\n",
       "    <tr>\n",
       "      <th>0</th>\n",
       "      <td>A</td>\n",
       "      <td>SpCas9</td>\n",
       "      <td>11</td>\n",
       "      <td>CATCTTCCCTGCCAAAGCAA</td>\n",
       "      <td>CGTCTTCCCTGCCAAAGCAA</td>\n",
       "      <td>G</td>\n",
       "      <td>61951552</td>\n",
       "      <td>61951572</td>\n",
       "      <td>positive</td>\n",
       "      <td>61951554</td>\n",
       "      <td>21</td>\n",
       "      <td>60</td>\n",
       "      <td>153</td>\n",
       "      <td>35.0</td>\n",
       "      <td>275.0</td>\n",
       "      <td>region0</td>\n",
       "      <td>0</td>\n",
       "      <td>SpCas9_0</td>\n",
       "    </tr>\n",
       "    <tr>\n",
       "      <th>1</th>\n",
       "      <td>A</td>\n",
       "      <td>SpCas9</td>\n",
       "      <td>11</td>\n",
       "      <td>ATCTTCCCTGCCAAAGCAAA</td>\n",
       "      <td>GTCTTCCCTGCCAAAGCAAA</td>\n",
       "      <td>G</td>\n",
       "      <td>61951553</td>\n",
       "      <td>61951573</td>\n",
       "      <td>positive</td>\n",
       "      <td>61951554</td>\n",
       "      <td>22</td>\n",
       "      <td>60</td>\n",
       "      <td>236</td>\n",
       "      <td>37.0</td>\n",
       "      <td>299.0</td>\n",
       "      <td>region0</td>\n",
       "      <td>1</td>\n",
       "      <td>SpCas9_1</td>\n",
       "    </tr>\n",
       "    <tr>\n",
       "      <th>2</th>\n",
       "      <td>A</td>\n",
       "      <td>SpCas9</td>\n",
       "      <td>11</td>\n",
       "      <td>TTGGCAGGGAAGATGTAGAT</td>\n",
       "      <td>TTGGCAGGGAAGACGTAGAT</td>\n",
       "      <td>G</td>\n",
       "      <td>61951547</td>\n",
       "      <td>61951567</td>\n",
       "      <td>negative</td>\n",
       "      <td>61951554</td>\n",
       "      <td>9</td>\n",
       "      <td>88</td>\n",
       "      <td>146</td>\n",
       "      <td>63.0</td>\n",
       "      <td>265.0</td>\n",
       "      <td>region0</td>\n",
       "      <td>2</td>\n",
       "      <td>SpCas9_2</td>\n",
       "    </tr>\n",
       "    <tr>\n",
       "      <th>3</th>\n",
       "      <td>A</td>\n",
       "      <td>SpCas9</td>\n",
       "      <td>11</td>\n",
       "      <td>GTGTCTGTACAAATGCCCTG</td>\n",
       "      <td>GTGTCTGTGCAAATGCCCTG</td>\n",
       "      <td>G</td>\n",
       "      <td>61950555</td>\n",
       "      <td>61950575</td>\n",
       "      <td>positive</td>\n",
       "      <td>61950564</td>\n",
       "      <td>14</td>\n",
       "      <td>34</td>\n",
       "      <td>685</td>\n",
       "      <td>39.0</td>\n",
       "      <td>300.0</td>\n",
       "      <td>region1</td>\n",
       "      <td>0</td>\n",
       "      <td>SpCas9_0</td>\n",
       "    </tr>\n",
       "    <tr>\n",
       "      <th>4</th>\n",
       "      <td>A</td>\n",
       "      <td>SpCas9</td>\n",
       "      <td>11</td>\n",
       "      <td>TCTGTACAAATGCCCTGAGG</td>\n",
       "      <td>TCTGTGCAAATGCCCTGAGG</td>\n",
       "      <td>G</td>\n",
       "      <td>61950558</td>\n",
       "      <td>61950578</td>\n",
       "      <td>positive</td>\n",
       "      <td>61950564</td>\n",
       "      <td>17</td>\n",
       "      <td>11</td>\n",
       "      <td>1157</td>\n",
       "      <td>30.0</td>\n",
       "      <td>411.0</td>\n",
       "      <td>region1</td>\n",
       "      <td>1</td>\n",
       "      <td>SpCas9_1</td>\n",
       "    </tr>\n",
       "  </tbody>\n",
       "</table>\n",
       "</div>"
      ],
      "text/plain": [
       "  alt cas_type  chrom              gRNA_alt              gRNA_ref ref  \\\n",
       "0   A   SpCas9     11  CATCTTCCCTGCCAAAGCAA  CGTCTTCCCTGCCAAAGCAA   G   \n",
       "1   A   SpCas9     11  ATCTTCCCTGCCAAAGCAAA  GTCTTCCCTGCCAAAGCAAA   G   \n",
       "2   A   SpCas9     11  TTGGCAGGGAAGATGTAGAT  TTGGCAGGGAAGACGTAGAT   G   \n",
       "3   A   SpCas9     11  GTGTCTGTACAAATGCCCTG  GTGTCTGTGCAAATGCCCTG   G   \n",
       "4   A   SpCas9     11  TCTGTACAAATGCCCTGAGG  TCTGTGCAAATGCCCTGAGG   G   \n",
       "\n",
       "      start      stop    strand  variant_position  variant_position_in_guide  \\\n",
       "0  61951552  61951572  positive          61951554                         21   \n",
       "1  61951553  61951573  positive          61951554                         22   \n",
       "2  61951547  61951567  negative          61951554                          9   \n",
       "3  61950555  61950575  positive          61950564                         14   \n",
       "4  61950558  61950578  positive          61950564                         17   \n",
       "\n",
       "   scores_ref  offtargcount_ref  scores_alt  offtargcount_alt    locus  id  \\\n",
       "0          60               153        35.0             275.0  region0   0   \n",
       "1          60               236        37.0             299.0  region0   1   \n",
       "2          88               146        63.0             265.0  region0   2   \n",
       "3          34               685        39.0             300.0  region1   0   \n",
       "4          11              1157        30.0             411.0  region1   1   \n",
       "\n",
       "   guide_id  \n",
       "0  SpCas9_0  \n",
       "1  SpCas9_1  \n",
       "2  SpCas9_2  \n",
       "3  SpCas9_0  \n",
       "4  SpCas9_1  "
      ]
     },
     "execution_count": 7,
     "metadata": {},
     "output_type": "execute_result"
    }
   ],
   "source": [
    "df.head()"
   ]
  },
  {
   "cell_type": "code",
   "execution_count": 13,
   "metadata": {},
   "outputs": [
    {
     "data": {
      "image/png": "[encoded data removed]",
      "text/plain": [
       "<matplotlib.figure.Figure at 0x7ff85025c8d0>"
      ]
     },
     "metadata": {},
     "output_type": "display_data"
    }
   ],
   "source": [
    "loci = df['locus'].tolist() + df['locus'].tolist()\n",
    "scores = df['scores_ref'].tolist() + df['scores_alt'].tolist()\n",
    "labels = ['reference'] * len(df['scores_ref'].tolist()) + ['alternate'] * len(df['scores_alt'].tolist())\n",
    "df_plot = pd.DataFrame({\n",
    "    'sgRNA site':loci,\n",
    "    'Off-Target Sites':scores,\n",
    "    'Allele':labels\n",
    "})\n",
    "\n",
    "df_plot['region_'] = df_plot['sgRNA site'].str.split('region').str[1]\n",
    "df_plot['region_'] = df_plot['region_'].astype(int) + 1\n",
    "\n",
    "df_plot['sgRNA site'] = df_plot['region_']#['locus '] + df_plot['region_'].astype(str)\n",
    "\n",
    "fig, ax = plt.subplots()\n",
    "sns.set_palette('Dark2', n_colors=2)\n",
    "sns.swarmplot(x='sgRNA site', y='Off-Target Sites', \n",
    "              hue='Allele',data=df_plot, dodge=True,\n",
    "             size=3)\n",
    "plt.title('CRISPOR specificity scores per sgRNA')\n",
    "plt.legend(loc='upper center',borderaxespad=0.2,\n",
    "          prop={'size': 9},\n",
    "          markerscale=0.5, frameon=False)\n",
    "# plt.xticks(rotation=45)\n",
    "plt.xlabel('sgRNA sites ordered by genomic position')\n",
    "plt.ylabel('Specificity scores (CRISPOR)')\n",
    "plt.legend(bbox_to_anchor=(1.05, 1), loc=2, borderaxespad=0.)\n",
    "fig.savefig('BEST1/set_cover_5kb/spec_scores_for_sgRNAs.pdf',\n",
    "           dpi=300, bbox_inches='tight')"
   ]
  },
  {
   "cell_type": "code",
   "execution_count": null,
   "metadata": {
    "collapsed": true
   },
   "outputs": [],
   "source": []
  }
 ],
 "metadata": {
  "kernelspec": {
   "display_name": "Python [conda env:anaconda3]",
   "language": "python",
   "name": "conda-env-anaconda3-py"
  },
  "language_info": {
   "codemirror_mode": {
    "name": "ipython",
    "version": 3
   },
   "file_extension": ".py",
   "mimetype": "text/x-python",
   "name": "python",
   "nbconvert_exporter": "python",
   "pygments_lexer": "ipython3",
   "version": "3.6.2"
  },
  "toc": {
   "nav_menu": {},
   "number_sections": true,
   "sideBar": true,
   "skip_h1_title": false,
   "title_cell": "Table of Contents",
   "title_sidebar": "Contents",
   "toc_cell": false,
   "toc_position": {},
   "toc_section_display": true,
   "toc_window_display": false
  }
 },
 "nbformat": 4,
 "nbformat_minor": 2
}
