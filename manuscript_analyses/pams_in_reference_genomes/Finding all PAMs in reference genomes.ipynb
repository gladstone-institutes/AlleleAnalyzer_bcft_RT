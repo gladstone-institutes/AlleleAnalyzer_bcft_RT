{
 "cells": [
  {
   "cell_type": "code",
   "execution_count": 1,
   "metadata": {
    "collapsed": true
   },
   "outputs": [],
   "source": [
    "import pandas as pd\n",
    "import numpy as np\n",
    "import gzip\n",
    "import sys\n",
    "import os\n",
    "from pyfaidx import Fasta\n",
    "import matplotlib as mpl\n",
    "import matplotlib.pyplot as plt\n",
    "import seaborn as sns\n",
    "\n",
    "# Get absolute path for gen_targ_dfs.py, and edit it for cas_object.py\n",
    "ef_path = os.path.dirname(os.getcwd())\n",
    "cas_obj_path = ef_path.replace('manuscript_analyses','scripts/')\n",
    "sys.path.append(cas_obj_path)\n",
    "import cas_object as cas_obj\n",
    "\n",
    "%matplotlib inline"
   ]
  },
  {
   "cell_type": "markdown",
   "metadata": {},
   "source": [
    "# Identification of PAM sites in the hg19 and hg38 human reference genomes\n",
    "\n",
    "The first step in any AlleleAnalyzer cohort analysis is determining where the PAM sites are in the reference genome. This is so one can determine when variants occur in or near an existing PAM. \n",
    "\n",
    "The fasta files for these reference genomes were downloaded from the [UCSC Genome Browser](https://genome.ucsc.edu/index.html.\n",
    "\n",
    "The relevant script from AlleleAnalyzer to annotate PAM sites in a reference genome is `pam_pos_genome.py` in `preprocessing/find_pams_in_reference/`. \n",
    "\n",
    "**Sample command for chromosome 1 analysing all Cas varieties from AlleleAnalyzer manuscript:**\n",
    "\n",
    "`python pam_pos_genome.py chr1 hg38.fa cpf1,SpCas9,SpCas9_VRER,SpCas9_EQR,SpCas9_VQR_1,\\\n",
    "SpCas9_VQR_2,StCas9,StCas9_2,SaCas9,SaCas9_KKH,\\\n",
    "nmCas9,cjCas9 output_directory/`\n",
    "\n",
    "We parallelized this by chromosome using the QB3 cluster at UCSF. PAM sites analyzed for each Cas are shown in Supplementary Figure 1. Adding a new PAM or Cas enzyme can be simply done by editing that file `AlleleAnalyzer/scripts/CAS_LIST.txt `. This takes between a few minutes to around a half hour depending on the size of the chromosome and the type of computer you're using.\n",
    "\n",
    "# Visualization of PAM sites\n",
    "\n",
    "In order to visualize these PAM sites, we generated BED files for visualization in the [UCSC genome browser](https://genome.ucsc.edu/FAQ/FAQformat.html). This process is shown below.\n",
    "\n",
    "PAM table: \n",
    "\n",
    "| **Cas Type** | **Alternative Names** | **PAM Site** | **PAM Size** |\n",
    "| --- | --- | --- | --- |\n",
    "| SpCas9 | SpCas9 | NGG | 2 |\n",
    "| SpCas9-V1 | SaCas9_KKH | NGCG | 3 |\n",
    "| SpCas9-V2 | SpCas9_EQR | NGAG | 3 |\n",
    "| SpCas9-V3 | SpCas9_VQR_1 and SpCas9_VQR_2 | NGAN or NGNG | 2 |\n",
    "| SaCas9 | SaCaas9 | NNGRRT | 4 |\n",
    "| SaCas9-V1 | SpCas9_VRER | NNNRRT | 3 |\n",
    "| nmCas9 | nmCas9 | NNNNGATT | 4 |\n",
    "| cpf1 | cpf1 | TTTN | 3 |\n",
    "| StCas9-V1 | StCas9_1 | NNAGAA | 4 |\n",
    "| StCas9-V2 | StCas9_2| NGGNG | 4 |\n",
    "| cjCas9 | cjCas9 | NNNNACA | 3 |"
   ]
  },
  {
   "cell_type": "markdown",
   "metadata": {},
   "source": [
    "BED files were generated with the scripts `pam_beds_hg38.py` and `pam_beds_hg19.py`, with BED headers prepended with the following commands. For hg38 the Python script took ~5.5 hours to run."
   ]
  },
  {
   "cell_type": "markdown",
   "metadata": {},
   "source": [
    "`sed -i.old '1s;^;track name=\"pams_hg38\" description=\"PAM sites hg38\" itemRgb=\"On\"\\n;' pams_hg38.bed`\n",
    "\n",
    "\n",
    "`sed -i.old '1s;^;track name=\"pams_hg19\" description=\"PAM sites hg19\" itemRgb=\"On\"\\n;' /pollard/data/projects/AlleleAnalyzer_data/pam_beds/pams_hg19.bed`"
   ]
  },
  {
   "cell_type": "code",
   "execution_count": 3,
   "metadata": {
    "collapsed": true
   },
   "outputs": [],
   "source": [
    "cas_to_colors = {\n",
    "'SpCas9':'0,0,255',\n",
    "'SpCas9_VRER':'102,0,204',\n",
    "'SpCas9_EQR':'255,0,255',\n",
    "'SpCas9_VQR_1':'255,0,102',\n",
    "'SpCas9_VQR_2':'255,0,0',\n",
    "'StCas9':'255,102,0',\n",
    "'StCas9_2':'255,204,0',\n",
    "'SaCas9':'0,153,0',\n",
    "'SaCas9_KKH':'0,255,0',\n",
    "'nmCas9':'0,204,153',\n",
    "'cjCas9':'0,102,102',\n",
    "'cpf1':'0,153,255'\n",
    "}"
   ]
  },
  {
   "cell_type": "code",
   "execution_count": 5,
   "metadata": {},
   "outputs": [
    {
     "data": {
      "text/html": [
       "<div>\n",
       "<style scoped>\n",
       "    .dataframe tbody tr th:only-of-type {\n",
       "        vertical-align: middle;\n",
       "    }\n",
       "\n",
       "    .dataframe tbody tr th {\n",
       "        vertical-align: top;\n",
       "    }\n",
       "\n",
       "    .dataframe thead th {\n",
       "        text-align: right;\n",
       "    }\n",
       "</style>\n",
       "<table border=\"1\" class=\"dataframe\">\n",
       "  <thead>\n",
       "    <tr style=\"text-align: right;\">\n",
       "      <th></th>\n",
       "      <th>chrom</th>\n",
       "      <th>start</th>\n",
       "      <th>stop</th>\n",
       "      <th>cas</th>\n",
       "      <th>blah</th>\n",
       "      <th>strand</th>\n",
       "      <th>start_</th>\n",
       "      <th>stop_</th>\n",
       "      <th>color</th>\n",
       "      <th>cas_</th>\n",
       "      <th>color_</th>\n",
       "    </tr>\n",
       "  </thead>\n",
       "  <tbody>\n",
       "    <tr>\n",
       "      <th>0</th>\n",
       "      <td>chr1</td>\n",
       "      <td>10002</td>\n",
       "      <td>10008</td>\n",
       "      <td>SaCas9_KKH-</td>\n",
       "      <td>0</td>\n",
       "      <td>-</td>\n",
       "      <td>10002</td>\n",
       "      <td>10008</td>\n",
       "      <td>0.319809,0.770914,0.411152</td>\n",
       "      <td>SaCas9_KKH</td>\n",
       "      <td>0,255,0</td>\n",
       "    </tr>\n",
       "    <tr>\n",
       "      <th>1</th>\n",
       "      <td>chr1</td>\n",
       "      <td>10003</td>\n",
       "      <td>10006</td>\n",
       "      <td>SpCas9-</td>\n",
       "      <td>0</td>\n",
       "      <td>-</td>\n",
       "      <td>10003</td>\n",
       "      <td>10006</td>\n",
       "      <td>0.267004,0.004874,0.329415</td>\n",
       "      <td>SpCas9</td>\n",
       "      <td>0,0,255</td>\n",
       "    </tr>\n",
       "    <tr>\n",
       "      <th>2</th>\n",
       "      <td>chr1</td>\n",
       "      <td>10003</td>\n",
       "      <td>10007</td>\n",
       "      <td>SpCas9_VQR_2-</td>\n",
       "      <td>0</td>\n",
       "      <td>-</td>\n",
       "      <td>10003</td>\n",
       "      <td>10007</td>\n",
       "      <td>0.177423,0.437527,0.557565</td>\n",
       "      <td>SpCas9_VQR_2</td>\n",
       "      <td>255,0,0</td>\n",
       "    </tr>\n",
       "    <tr>\n",
       "      <th>3</th>\n",
       "      <td>chr1</td>\n",
       "      <td>10004</td>\n",
       "      <td>10007</td>\n",
       "      <td>SpCas9-</td>\n",
       "      <td>0</td>\n",
       "      <td>-</td>\n",
       "      <td>10004</td>\n",
       "      <td>10007</td>\n",
       "      <td>0.267004,0.004874,0.329415</td>\n",
       "      <td>SpCas9</td>\n",
       "      <td>0,0,255</td>\n",
       "    </tr>\n",
       "    <tr>\n",
       "      <th>4</th>\n",
       "      <td>chr1</td>\n",
       "      <td>10008</td>\n",
       "      <td>10014</td>\n",
       "      <td>SaCas9-</td>\n",
       "      <td>0</td>\n",
       "      <td>-</td>\n",
       "      <td>10008</td>\n",
       "      <td>10014</td>\n",
       "      <td>0.166383,0.690856,0.496502</td>\n",
       "      <td>SaCas9</td>\n",
       "      <td>0,153,0</td>\n",
       "    </tr>\n",
       "  </tbody>\n",
       "</table>\n",
       "</div>"
      ],
      "text/plain": [
       "  chrom  start   stop            cas  blah strand  start_  stop_  \\\n",
       "0  chr1  10002  10008    SaCas9_KKH-     0      -   10002  10008   \n",
       "1  chr1  10003  10006        SpCas9-     0      -   10003  10006   \n",
       "2  chr1  10003  10007  SpCas9_VQR_2-     0      -   10003  10007   \n",
       "3  chr1  10004  10007        SpCas9-     0      -   10004  10007   \n",
       "4  chr1  10008  10014        SaCas9-     0      -   10008  10014   \n",
       "\n",
       "                        color          cas_   color_  \n",
       "0  0.319809,0.770914,0.411152    SaCas9_KKH  0,255,0  \n",
       "1  0.267004,0.004874,0.329415        SpCas9  0,0,255  \n",
       "2  0.177423,0.437527,0.557565  SpCas9_VQR_2  255,0,0  \n",
       "3  0.267004,0.004874,0.329415        SpCas9  0,0,255  \n",
       "4  0.166383,0.690856,0.496502        SaCas9  0,153,0  "
      ]
     },
     "execution_count": 5,
     "metadata": {},
     "output_type": "execute_result"
    }
   ],
   "source": [
    "pams = pd.read_csv('/pollard/data/projects/AlleleAnalyzer_data/pam_beds_hg19/head_pams_hg19_sorted.bed',\n",
    "                   sep='\\t', header=None, skiprows=1, names=['chrom','start','stop','cas','blah','strand',\n",
    "                                                            'start_','stop_','color'])\n",
    "pams['cas_'] = pams['cas'].str[:-1]\n",
    "pams['color_'] = pams['cas_'].map(cas_to_colors)\n",
    "\n",
    "pams.head()"
   ]
  },
  {
   "cell_type": "code",
   "execution_count": 8,
   "metadata": {
    "collapsed": true
   },
   "outputs": [],
   "source": [
    "# for cas in cas_to_colors.keys():\n",
    "#     cas_color = cas_to_colors[cas]\n",
    "#     pams.query('cas_ == @cas')[['chrom','start','stop','cas_','blah','strand',\n",
    "#       'start_','stop_','color_']].to_csv(f'/pollard/data/projects/AlleleAnalyzer_data/pam_beds_hg19/test_{cas}.bed',\n",
    "#            sep='\\t', index=None, header=[f'track name={cas} description={cas} color={cas_color},']\n",
    "#                                                       +['']*8)"
   ]
  },
  {
   "cell_type": "markdown",
   "metadata": {},
   "source": [
    "## hg19"
   ]
  },
  {
   "cell_type": "code",
   "execution_count": 11,
   "metadata": {
    "collapsed": true
   },
   "outputs": [],
   "source": [
    "track_headers = []\n",
    "\n",
    "for cas in cas_to_colors.keys():\n",
    "    color=cas_to_colors[cas]\n",
    "    track_headers.append(f'track type=bigBed name={cas} description={cas} visibility=full color={color}, bigDataUrl=http://lighthouse.ucsf.edu/public_files_no_password/excisionFinderData_public/ucsc_track_hub/hg19_pams/{cas}_ucsc.bb')\n",
    "\n",
    "with open('track_headers_hg19.txt','w') as f:\n",
    "    for header in track_headers:\n",
    "        f.write(header + '\\n\\n')"
   ]
  },
  {
   "cell_type": "markdown",
   "metadata": {},
   "source": [
    "## hg38"
   ]
  },
  {
   "cell_type": "code",
   "execution_count": 4,
   "metadata": {
    "collapsed": true
   },
   "outputs": [],
   "source": [
    "track_headers = []\n",
    "\n",
    "for cas in cas_to_colors.keys():\n",
    "    color=cas_to_colors[cas]\n",
    "    track_headers.append(f'track type=bigBed name={cas} description={cas} visibility=full color={color}, bigDataUrl=http://lighthouse.ucsf.edu/public_files_no_password/excisionFinderData_public/ucsc_track_hub/hg38_pams/{cas}_ucsc.bb')\n",
    "\n",
    "with open('track_headers_hg38.txt','w') as f:\n",
    "    for header in track_headers:\n",
    "        f.write(header + '\\n\\n')"
   ]
  },
  {
   "cell_type": "code",
   "execution_count": 33,
   "metadata": {},
   "outputs": [
    {
     "name": "stderr",
     "output_type": "stream",
     "text": [
      "cat: /pollard/data/projects/AlleleAnalyzer_data/pam_beds_hg19/test_*.bed: No such file or directory\n"
     ]
    }
   ],
   "source": [
    "%%bash\n",
    "\n",
    "cat /pollard/data/projects/AlleleAnalyzer_data/pam_beds_hg19/test_*.bed > /pollard/data/projects/AlleleAnalyzer_data/pam_beds_hg19/test.bed"
   ]
  },
  {
   "cell_type": "code",
   "execution_count": 7,
   "metadata": {
    "collapsed": true
   },
   "outputs": [],
   "source": [
    "pams[['chrom','start','stop','cas_','blah','strand',\n",
    "      'start_','stop_','color_']].to_csv('/pollard/data/projects/AlleleAnalyzer_data/pam_beds_hg19/test.bed',\n",
    "           sep='\\t', header=None, index=None)"
   ]
  },
  {
   "cell_type": "markdown",
   "metadata": {},
   "source": [
    "# Analysis of prevalence of PAM sites for each type of Cas enzyme in the human reference genomes\n",
    "\n",
    "Different PAM sites occur at different frequencies in the genome, which we determined was highly correlated with size of the non-degenerate portion of the PAM motif, demonstrated below. First, number of occurrences of each PAM site is evaluated with `get_n_occurrences_pams.py`.\n",
    "\n",
    "**hg19:**\n",
    "\n",
    "`python get_n_occurrences_pams.py /pollard/data/projects/AlleleAnalyzer_data/pam_sites_hg19/ /pollard/data/projects/AlleleAnalyzer_data/pam_sites_hg19/` \n",
    "\n",
    "This took < 3 minutes to run.\n",
    "\n",
    "\n",
    "**hg38:**\n",
    "\n",
    "`python get_n_occurrences_pams.py /pollard/data/projects/AlleleAnalyzer_data/pam_sites_hg38/ /pollard/data/projects/AlleleAnalyzer_data/pam_sites_hg38/` \n",
    "\n",
    "This took ~ 3.5 minutes to run."
   ]
  },
  {
   "cell_type": "code",
   "execution_count": 2,
   "metadata": {
    "collapsed": true
   },
   "outputs": [],
   "source": [
    "pam_sizes = {'SpCas9':2, 'SpCas9-V1':3, 'SpCas9-V2':3, 'SpCas9-V3':2, \n",
    "             'SaCas9':4, 'SaCas9-V1':3, 'nmCas9':4, 'cpf1':3, \n",
    "             'StCas9-V1':4, 'StCas9-V2':4, 'cjCas9':3}"
   ]
  },
  {
   "cell_type": "code",
   "execution_count": 3,
   "metadata": {},
   "outputs": [
    {
     "data": {
      "text/html": [
       "<div>\n",
       "<style scoped>\n",
       "    .dataframe tbody tr th:only-of-type {\n",
       "        vertical-align: middle;\n",
       "    }\n",
       "\n",
       "    .dataframe tbody tr th {\n",
       "        vertical-align: top;\n",
       "    }\n",
       "\n",
       "    .dataframe thead th {\n",
       "        text-align: right;\n",
       "    }\n",
       "</style>\n",
       "<table border=\"1\" class=\"dataframe\">\n",
       "  <thead>\n",
       "    <tr style=\"text-align: right;\">\n",
       "      <th></th>\n",
       "      <th>n_occurrences</th>\n",
       "      <th>Cas</th>\n",
       "      <th>PAM_size</th>\n",
       "    </tr>\n",
       "  </thead>\n",
       "  <tbody>\n",
       "    <tr>\n",
       "      <th>SpCas9_VQR</th>\n",
       "      <td>610826829</td>\n",
       "      <td>SpCas9-V3</td>\n",
       "      <td>2</td>\n",
       "    </tr>\n",
       "    <tr>\n",
       "      <th>SaCas9_KKH</th>\n",
       "      <td>377660720</td>\n",
       "      <td>SaCas9-V1</td>\n",
       "      <td>3</td>\n",
       "    </tr>\n",
       "    <tr>\n",
       "      <th>SpCas9</th>\n",
       "      <td>298215692</td>\n",
       "      <td>SpCas9</td>\n",
       "      <td>2</td>\n",
       "    </tr>\n",
       "    <tr>\n",
       "      <th>cpf1</th>\n",
       "      <td>219915585</td>\n",
       "      <td>cpf1</td>\n",
       "      <td>3</td>\n",
       "    </tr>\n",
       "    <tr>\n",
       "      <th>cjCas9</th>\n",
       "      <td>115415889</td>\n",
       "      <td>cjCas9</td>\n",
       "      <td>3</td>\n",
       "    </tr>\n",
       "    <tr>\n",
       "      <th>SpCas9_EQR</th>\n",
       "      <td>96335412</td>\n",
       "      <td>SpCas9-V2</td>\n",
       "      <td>3</td>\n",
       "    </tr>\n",
       "    <tr>\n",
       "      <th>SaCas9</th>\n",
       "      <td>81995513</td>\n",
       "      <td>SaCas9</td>\n",
       "      <td>4</td>\n",
       "    </tr>\n",
       "    <tr>\n",
       "      <th>StCas9_2</th>\n",
       "      <td>73084178</td>\n",
       "      <td>StCas9-V2</td>\n",
       "      <td>4</td>\n",
       "    </tr>\n",
       "    <tr>\n",
       "      <th>StCas9</th>\n",
       "      <td>44842077</td>\n",
       "      <td>StCas9-V1</td>\n",
       "      <td>4</td>\n",
       "    </tr>\n",
       "    <tr>\n",
       "      <th>nmCas9</th>\n",
       "      <td>23337243</td>\n",
       "      <td>nmCas9</td>\n",
       "      <td>4</td>\n",
       "    </tr>\n",
       "    <tr>\n",
       "      <th>SpCas9_VRER</th>\n",
       "      <td>13621250</td>\n",
       "      <td>SpCas9-V1</td>\n",
       "      <td>3</td>\n",
       "    </tr>\n",
       "  </tbody>\n",
       "</table>\n",
       "</div>"
      ],
      "text/plain": [
       "             n_occurrences        Cas  PAM_size\n",
       "SpCas9_VQR       610826829  SpCas9-V3         2\n",
       "SaCas9_KKH       377660720  SaCas9-V1         3\n",
       "SpCas9           298215692     SpCas9         2\n",
       "cpf1             219915585       cpf1         3\n",
       "cjCas9           115415889     cjCas9         3\n",
       "SpCas9_EQR        96335412  SpCas9-V2         3\n",
       "SaCas9            81995513     SaCas9         4\n",
       "StCas9_2          73084178  StCas9-V2         4\n",
       "StCas9            44842077  StCas9-V1         4\n",
       "nmCas9            23337243     nmCas9         4\n",
       "SpCas9_VRER       13621250  SpCas9-V1         3"
      ]
     },
     "execution_count": 3,
     "metadata": {},
     "output_type": "execute_result"
    }
   ],
   "source": [
    "cas_dict = np.load('/pollard/data/projects/AlleleAnalyzer_data/cas_abbrev_dict.npy').item()\n",
    "pam_presence_dict = np.load('/pollard/data/projects/AlleleAnalyzer_data/pam_sites_hg19/n_pams_per_cas.npy').item()\n",
    "pam_presence_df = pd.DataFrame.from_dict(pam_presence_dict, orient='index')\n",
    "pam_presence_df.columns = ['n_occurrences']\n",
    "pam_presence_df['Cas'] = pam_presence_df.index\n",
    "cas_list = list(pam_sizes.keys())\n",
    "pam_presence_df = pam_presence_df.replace(cas_dict)\n",
    "pam_presence_df['in_list'] = pam_presence_df['Cas'].isin(cas_list)\n",
    "pam_presence_df = pam_presence_df.query('in_list')[['n_occurrences','Cas']]\n",
    "pam_presence_df['PAM_size'] = pam_presence_df.apply(lambda row: pam_sizes[row['Cas']], axis=1)\n",
    "\n",
    "pam_presence_df.sort_values(by='n_occurrences', ascending=False)"
   ]
  },
  {
   "cell_type": "code",
   "execution_count": 13,
   "metadata": {},
   "outputs": [
    {
     "data": {
      "text/plain": [
       "<matplotlib.text.Text at 0x7fee008904e0>"
      ]
     },
     "execution_count": 13,
     "metadata": {},
     "output_type": "execute_result"
    },
    {
     "data": {
      "image/png": "[encoded data removed]",
      "text/plain": [
       "<matplotlib.figure.Figure at 0x7fee00c7ac50>"
      ]
     },
     "metadata": {},
     "output_type": "display_data"
    }
   ],
   "source": [
    "# plot relationship of PAM size to presence in genome\n",
    "fig, ax = plt.subplots()\n",
    "fig.set_size_inches(8, 4)\n",
    "p = sns.regplot('n_occurrences', 'PAM_size', data=pam_presence_df, ci=95)\n",
    "counter = -1\n",
    "for cas in pam_presence_df.Cas.tolist():\n",
    "    counter += 1\n",
    "    if cas == 'cjCas9':\n",
    "        p.annotate(cas, xy=(pam_presence_df.n_occurrences.tolist()[counter],pam_presence_df.PAM_size.tolist()[counter]),\n",
    "              rotation=30, xytext=(pam_presence_df.n_occurrences.tolist()[counter]+0.6,\n",
    "                                   pam_presence_df.PAM_size.tolist()[counter]+0.28))\n",
    "    else:\n",
    "        p.annotate(cas, xy=(pam_presence_df.n_occurrences.tolist()[counter],pam_presence_df.PAM_size.tolist()[counter]),\n",
    "              rotation=30, xytext=(pam_presence_df.n_occurrences.tolist()[counter],\n",
    "                                   pam_presence_df.PAM_size.tolist()[counter]+0.28))\\\n",
    "        \n",
    "plt.xlabel('Number of PAM occurences in hg19')\n",
    "plt.ylabel('Size of non-degenerate PAM motif')\n",
    "plt.title('Correlation of PAM size with frequency in the hg19 reference genome')"
   ]
  },
  {
   "cell_type": "code",
   "execution_count": 7,
   "metadata": {},
   "outputs": [
    {
     "data": {
      "image/png": "[encoded data removed]",
      "text/plain": [
       "<matplotlib.figure.Figure at 0x7fa0329f3ef0>"
      ]
     },
     "metadata": {},
     "output_type": "display_data"
    }
   ],
   "source": [
    "p = sns.barplot(x='Cas',y='n_occurrences',hue='PAM_size',data=pam_presence_df.sort_values(by='n_occurrences'),\n",
    "           palette='Dark2')\n",
    "plt.xticks(rotation=90)\n",
    "plt.ylabel('Number of PAM occurences in hg19')\n",
    "plt.xlabel('Cas type')\n",
    "plt.title('Number of occurrences of PAM\\n motifs in hg19 reference genome')\n",
    "p.get_figure().savefig('n_occurrences_per_cas.pdf', dpi=300, bbox_inches='tight')"
   ]
  },
  {
   "cell_type": "code",
   "execution_count": 20,
   "metadata": {},
   "outputs": [
    {
     "data": {
      "image/png": "[encoded data removed]",
      "text/plain": [
       "<matplotlib.figure.Figure at 0x7fede8272278>"
      ]
     },
     "metadata": {},
     "output_type": "display_data"
    }
   ],
   "source": [
    "pam_presence_dict = np.load('/pollard/data/projects/AlleleAnalyzer_data/pam_sites_hg38/n_pams_per_cas.npy').item()\n",
    "pam_presence_df = pd.DataFrame.from_dict(pam_presence_dict, orient='index')\n",
    "pam_presence_df.columns = ['n_occurrences']\n",
    "pam_presence_df['Cas'] = pam_presence_df.index\n",
    "cas_list = list(pam_sizes.keys())\n",
    "pam_presence_df = pam_presence_df.replace(cas_dict)\n",
    "pam_presence_df['in_list'] = pam_presence_df['Cas'].isin(cas_list)\n",
    "pam_presence_df = pam_presence_df.query('in_list')[['n_occurrences','Cas']]\n",
    "pam_presence_df['PAM_size'] = pam_presence_df.apply(lambda row: pam_sizes[row['Cas']], axis=1)\n",
    "\n",
    "pam_presence_df.sort_values(by='n_occurrences', ascending=False)\n",
    "\n",
    "# plot relationship of PAM size to presence in genome\n",
    "fig, ax = plt.subplots()\n",
    "fig.set_size_inches(8, 4)\n",
    "p = sns.regplot('n_occurrences', 'PAM_size', data=pam_presence_df, ci=95)\n",
    "counter = -1\n",
    "for cas in pam_presence_df.Cas.tolist():\n",
    "    counter += 1\n",
    "    if cas == 'cjCas9':\n",
    "        p.annotate(cas, xy=(pam_presence_df.n_occurrences.tolist()[counter],pam_presence_df.PAM_size.tolist()[counter]),\n",
    "              rotation=30, xytext=(pam_presence_df.n_occurrences.tolist()[counter]+0.6,\n",
    "                                   pam_presence_df.PAM_size.tolist()[counter]+0.28))\n",
    "    else:\n",
    "        p.annotate(cas, xy=(pam_presence_df.n_occurrences.tolist()[counter],pam_presence_df.PAM_size.tolist()[counter]),\n",
    "              rotation=30, xytext=(pam_presence_df.n_occurrences.tolist()[counter],\n",
    "                                   pam_presence_df.PAM_size.tolist()[counter]+0.28))"
   ]
  },
  {
   "cell_type": "code",
   "execution_count": 21,
   "metadata": {},
   "outputs": [
    {
     "data": {
      "text/plain": [
       "<matplotlib.text.Text at 0x7fede8196f28>"
      ]
     },
     "execution_count": 21,
     "metadata": {},
     "output_type": "execute_result"
    },
    {
     "data": {
      "image/png": "[encoded data removed]",
      "text/plain": [
       "<matplotlib.figure.Figure at 0x7fede83b5f28>"
      ]
     },
     "metadata": {},
     "output_type": "display_data"
    }
   ],
   "source": [
    "sns.barplot(x='Cas',y='n_occurrences',hue='PAM_size',data=pam_presence_df.sort_values(by='n_occurrences'))\n",
    "plt.xticks(rotation=90)\n",
    "plt.ylabel('Number of PAM occurences in hg38')\n",
    "plt.xlabel('Cas type')\n",
    "plt.title('Number of occurrences of PAM\\n motifs in hg38 reference genome')"
   ]
  },
  {
   "cell_type": "code",
   "execution_count": null,
   "metadata": {
    "collapsed": true
   },
   "outputs": [],
   "source": []
  }
 ],
 "metadata": {
  "kernelspec": {
   "display_name": "Python [default]",
   "language": "python",
   "name": "python3"
  },
  "language_info": {
   "codemirror_mode": {
    "name": "ipython",
    "version": 3
   },
   "file_extension": ".py",
   "mimetype": "text/x-python",
   "name": "python",
   "nbconvert_exporter": "python",
   "pygments_lexer": "ipython3",
   "version": "3.6.2"
  },
  "toc": {
   "nav_menu": {},
   "number_sections": true,
   "sideBar": true,
   "skip_h1_title": false,
   "title_cell": "Table of Contents",
   "title_sidebar": "Contents",
   "toc_cell": false,
   "toc_position": {},
   "toc_section_display": true,
   "toc_window_display": false
  }
 },
 "nbformat": 4,
 "nbformat_minor": 2
}
