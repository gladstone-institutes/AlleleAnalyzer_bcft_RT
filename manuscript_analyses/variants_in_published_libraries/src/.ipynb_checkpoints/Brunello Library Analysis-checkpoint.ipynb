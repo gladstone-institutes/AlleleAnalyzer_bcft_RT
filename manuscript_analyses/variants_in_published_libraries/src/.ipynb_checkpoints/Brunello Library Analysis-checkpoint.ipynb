{
 "cells": [
  {
   "cell_type": "markdown",
   "metadata": {},
   "source": [
    "# Brunello Library Analysis"
   ]
  },
  {
   "cell_type": "markdown",
   "metadata": {},
   "source": [
    "The Brunello sgRNA library was downloaded from the publication by [Doench et al. Nature Biotechnology 2016](https://www.nature.com/articles/nbt.3437), in supplementary table 21. The start and end positions for the BED file from the provided \"position of base after cut\" because it is known for SpCas9 that the cut occurs 3 bp upstream of the PAM. "
   ]
  },
  {
   "cell_type": "code",
   "execution_count": 1,
   "metadata": {
    "collapsed": true
   },
   "outputs": [],
   "source": [
    "import pandas as pd\n",
    "import seaborn as sns\n",
    "import matplotlib.pyplot as plt\n",
    "\n",
    "sns.set_context('paper')\n",
    "\n",
    "%matplotlib inline"
   ]
  },
  {
   "cell_type": "markdown",
   "metadata": {},
   "source": [
    "Load file."
   ]
  },
  {
   "cell_type": "code",
   "execution_count": 2,
   "metadata": {
    "collapsed": true
   },
   "outputs": [],
   "source": [
    "brunello = pd.read_excel('../dat/brunello/STable 21 Brunello.xlsx')"
   ]
  },
  {
   "cell_type": "code",
   "execution_count": 3,
   "metadata": {},
   "outputs": [
    {
     "data": {
      "text/html": [
       "<div>\n",
       "<style scoped>\n",
       "    .dataframe tbody tr th:only-of-type {\n",
       "        vertical-align: middle;\n",
       "    }\n",
       "\n",
       "    .dataframe tbody tr th {\n",
       "        vertical-align: top;\n",
       "    }\n",
       "\n",
       "    .dataframe thead th {\n",
       "        text-align: right;\n",
       "    }\n",
       "</style>\n",
       "<table border=\"1\" class=\"dataframe\">\n",
       "  <thead>\n",
       "    <tr style=\"text-align: right;\">\n",
       "      <th></th>\n",
       "      <th>Input</th>\n",
       "      <th>Target Gene ID</th>\n",
       "      <th>Target Gene Symbol</th>\n",
       "      <th>Target Transcript</th>\n",
       "      <th>Genomic Sequence</th>\n",
       "      <th>Position of Base After Cut (1-based)</th>\n",
       "      <th>Strand</th>\n",
       "      <th>sgRNA Target Sequence</th>\n",
       "      <th>Target Context Sequence</th>\n",
       "      <th>PAM Sequence</th>\n",
       "      <th>Exon Number</th>\n",
       "      <th>Rule Set 2 score</th>\n",
       "    </tr>\n",
       "  </thead>\n",
       "  <tbody>\n",
       "    <tr>\n",
       "      <th>0</th>\n",
       "      <td>85352</td>\n",
       "      <td>85352</td>\n",
       "      <td>KIAA1644</td>\n",
       "      <td>NM_001099294.1</td>\n",
       "      <td>NC_000022.11</td>\n",
       "      <td>44285732</td>\n",
       "      <td>antisense</td>\n",
       "      <td>GATCCACACTCCCAACAAGG</td>\n",
       "      <td>CATAGATCCACACTCCCAACAAGGCGGTGT</td>\n",
       "      <td>CGG</td>\n",
       "      <td>4</td>\n",
       "      <td>0.7651</td>\n",
       "    </tr>\n",
       "    <tr>\n",
       "      <th>1</th>\n",
       "      <td>85352</td>\n",
       "      <td>85352</td>\n",
       "      <td>KIAA1644</td>\n",
       "      <td>NM_001099294.1</td>\n",
       "      <td>NC_000022.11</td>\n",
       "      <td>44296763</td>\n",
       "      <td>sense</td>\n",
       "      <td>CTGTTGTCACCATAACAACA</td>\n",
       "      <td>TCCTCTGTTGTCACCATAACAACACGGTCT</td>\n",
       "      <td>CGG</td>\n",
       "      <td>3</td>\n",
       "      <td>0.6916</td>\n",
       "    </tr>\n",
       "    <tr>\n",
       "      <th>2</th>\n",
       "      <td>85352</td>\n",
       "      <td>85352</td>\n",
       "      <td>KIAA1644</td>\n",
       "      <td>NM_001099294.1</td>\n",
       "      <td>NC_000022.11</td>\n",
       "      <td>44296843</td>\n",
       "      <td>sense</td>\n",
       "      <td>GAACCATACACAGACCACAA</td>\n",
       "      <td>CTGTGAACCATACACAGACCACAAAGGCCG</td>\n",
       "      <td>AGG</td>\n",
       "      <td>3</td>\n",
       "      <td>0.7121</td>\n",
       "    </tr>\n",
       "    <tr>\n",
       "      <th>3</th>\n",
       "      <td>85352</td>\n",
       "      <td>85352</td>\n",
       "      <td>KIAA1644</td>\n",
       "      <td>NM_001099294.1</td>\n",
       "      <td>NC_000022.11</td>\n",
       "      <td>44285674</td>\n",
       "      <td>antisense</td>\n",
       "      <td>TCATTGCCGAGTAATACAAA</td>\n",
       "      <td>TAGTTCATTGCCGAGTAATACAAAAGGTCC</td>\n",
       "      <td>AGG</td>\n",
       "      <td>4</td>\n",
       "      <td>0.5870</td>\n",
       "    </tr>\n",
       "    <tr>\n",
       "      <th>4</th>\n",
       "      <td>115708</td>\n",
       "      <td>115708</td>\n",
       "      <td>TRMT61A</td>\n",
       "      <td>NM_152307.2</td>\n",
       "      <td>NC_000014.9</td>\n",
       "      <td>103530047</td>\n",
       "      <td>antisense</td>\n",
       "      <td>GCACCGCCACCATTGCACCA</td>\n",
       "      <td>ACACGCACCGCCACCATTGCACCATGGCCC</td>\n",
       "      <td>TGG</td>\n",
       "      <td>2</td>\n",
       "      <td>0.6755</td>\n",
       "    </tr>\n",
       "  </tbody>\n",
       "</table>\n",
       "</div>"
      ],
      "text/plain": [
       "    Input  Target Gene ID Target Gene Symbol Target Transcript  \\\n",
       "0   85352           85352           KIAA1644    NM_001099294.1   \n",
       "1   85352           85352           KIAA1644    NM_001099294.1   \n",
       "2   85352           85352           KIAA1644    NM_001099294.1   \n",
       "3   85352           85352           KIAA1644    NM_001099294.1   \n",
       "4  115708          115708            TRMT61A       NM_152307.2   \n",
       "\n",
       "  Genomic Sequence  Position of Base After Cut (1-based)     Strand  \\\n",
       "0     NC_000022.11                              44285732  antisense   \n",
       "1     NC_000022.11                              44296763      sense   \n",
       "2     NC_000022.11                              44296843      sense   \n",
       "3     NC_000022.11                              44285674  antisense   \n",
       "4      NC_000014.9                             103530047  antisense   \n",
       "\n",
       "  sgRNA Target Sequence         Target Context Sequence PAM Sequence  \\\n",
       "0  GATCCACACTCCCAACAAGG  CATAGATCCACACTCCCAACAAGGCGGTGT          CGG   \n",
       "1  CTGTTGTCACCATAACAACA  TCCTCTGTTGTCACCATAACAACACGGTCT          CGG   \n",
       "2  GAACCATACACAGACCACAA  CTGTGAACCATACACAGACCACAAAGGCCG          AGG   \n",
       "3  TCATTGCCGAGTAATACAAA  TAGTTCATTGCCGAGTAATACAAAAGGTCC          AGG   \n",
       "4  GCACCGCCACCATTGCACCA  ACACGCACCGCCACCATTGCACCATGGCCC          TGG   \n",
       "\n",
       "   Exon Number  Rule Set 2 score  \n",
       "0            4            0.7651  \n",
       "1            3            0.6916  \n",
       "2            3            0.7121  \n",
       "3            4            0.5870  \n",
       "4            2            0.6755  "
      ]
     },
     "execution_count": 3,
     "metadata": {},
     "output_type": "execute_result"
    }
   ],
   "source": [
    "brunello.head()"
   ]
  },
  {
   "cell_type": "markdown",
   "metadata": {},
   "source": [
    "Convert to BED, including PAM. "
   ]
  },
  {
   "cell_type": "code",
   "execution_count": 41,
   "metadata": {
    "collapsed": true
   },
   "outputs": [],
   "source": [
    "brunello_bed = pd.DataFrame()\n",
    "brunello_bed['chrom'] = brunello['Genomic Sequence'].str.split('_').str[1].str.split('.').str[0].str.replace('0','')\n",
    "\n",
    "starts = []\n",
    "stops = []\n",
    "# use this later to filter variants that occur in \"N\" position\n",
    "n_positions = []\n",
    "\n",
    "for ix, row in brunello.iterrows():\n",
    "    # sense and antisense appear to be mixed up in spreadsheet\n",
    "    if row['Strand'] == 'antisense':\n",
    "        starts.append(row['Position of Base After Cut (1-based)'] - 17)\n",
    "        stops.append(row['Position of Base After Cut (1-based)'] + 5)  # to incorporate PAM\n",
    "        n_positions.append(row['Position of Base After Cut (1-based)'] + 3)\n",
    "    else:\n",
    "        starts.append(row['Position of Base After Cut (1-based)'] - 6)\n",
    "        stops.append(row['Position of Base After Cut (1-based)'] + 16)\n",
    "        n_positions.append(row['Position of Base After Cut (1-based)'] - 4)\n",
    "                     \n",
    "brunello_bed['start'] = starts\n",
    "brunello_bed['stop'] = stops\n",
    "brunello_bed['name'] = brunello.index.astype(str) + '_' + brunello['Target Gene Symbol']"
   ]
  },
  {
   "cell_type": "code",
   "execution_count": 42,
   "metadata": {},
   "outputs": [
    {
     "data": {
      "text/html": [
       "<div>\n",
       "<style scoped>\n",
       "    .dataframe tbody tr th:only-of-type {\n",
       "        vertical-align: middle;\n",
       "    }\n",
       "\n",
       "    .dataframe tbody tr th {\n",
       "        vertical-align: top;\n",
       "    }\n",
       "\n",
       "    .dataframe thead th {\n",
       "        text-align: right;\n",
       "    }\n",
       "</style>\n",
       "<table border=\"1\" class=\"dataframe\">\n",
       "  <thead>\n",
       "    <tr style=\"text-align: right;\">\n",
       "      <th></th>\n",
       "      <th>chrom</th>\n",
       "      <th>start</th>\n",
       "      <th>stop</th>\n",
       "      <th>name</th>\n",
       "    </tr>\n",
       "  </thead>\n",
       "  <tbody>\n",
       "    <tr>\n",
       "      <th>0</th>\n",
       "      <td>22</td>\n",
       "      <td>44285715</td>\n",
       "      <td>44285737</td>\n",
       "      <td>0_KIAA1644</td>\n",
       "    </tr>\n",
       "    <tr>\n",
       "      <th>1</th>\n",
       "      <td>22</td>\n",
       "      <td>44296757</td>\n",
       "      <td>44296779</td>\n",
       "      <td>1_KIAA1644</td>\n",
       "    </tr>\n",
       "    <tr>\n",
       "      <th>2</th>\n",
       "      <td>22</td>\n",
       "      <td>44296837</td>\n",
       "      <td>44296859</td>\n",
       "      <td>2_KIAA1644</td>\n",
       "    </tr>\n",
       "    <tr>\n",
       "      <th>3</th>\n",
       "      <td>22</td>\n",
       "      <td>44285657</td>\n",
       "      <td>44285679</td>\n",
       "      <td>3_KIAA1644</td>\n",
       "    </tr>\n",
       "    <tr>\n",
       "      <th>4</th>\n",
       "      <td>14</td>\n",
       "      <td>103530030</td>\n",
       "      <td>103530052</td>\n",
       "      <td>4_TRMT61A</td>\n",
       "    </tr>\n",
       "  </tbody>\n",
       "</table>\n",
       "</div>"
      ],
      "text/plain": [
       "  chrom      start       stop        name\n",
       "0    22   44285715   44285737  0_KIAA1644\n",
       "1    22   44296757   44296779  1_KIAA1644\n",
       "2    22   44296837   44296859  2_KIAA1644\n",
       "3    22   44285657   44285679  3_KIAA1644\n",
       "4    14  103530030  103530052   4_TRMT61A"
      ]
     },
     "execution_count": 42,
     "metadata": {},
     "output_type": "execute_result"
    }
   ],
   "source": [
    "brunello_bed.head()"
   ]
  },
  {
   "cell_type": "markdown",
   "metadata": {},
   "source": [
    "Save BED file of sgRNA protospacer and PAM coordinates."
   ]
  },
  {
   "cell_type": "code",
   "execution_count": 43,
   "metadata": {
    "collapsed": true
   },
   "outputs": [],
   "source": [
    "brunello_bed_chr = brunello_bed.copy()\n",
    "brunello_bed_chr['chrom'] = 'chr' + brunello_bed['chrom'].astype(str)"
   ]
  },
  {
   "cell_type": "code",
   "execution_count": 44,
   "metadata": {
    "collapsed": true
   },
   "outputs": [],
   "source": [
    "brunello_bed.to_csv('../dat/brunello/brunello.bed', sep='\\t', index=False, header=False)\n",
    "brunello_bed_chr.to_csv('../dat/brunello/brunello_chr.bed', sep='\\t', index=False, header=False)"
   ]
  },
  {
   "cell_type": "code",
   "execution_count": 30,
   "metadata": {
    "collapsed": true
   },
   "outputs": [],
   "source": [
    "brunello_bed = pd.read_csv('../dat/brunello/brunello.bed', sep='\\t', header=None, names=['chrom','start','stop','name'])"
   ]
  },
  {
   "cell_type": "markdown",
   "metadata": {},
   "source": [
    "BCFtools command to determine which common variants from the 1000 Genomes Project occur in the sgRNAs.\n",
    "\n",
    "`bcftools view -R ../dat/brunello.bed --min-af 0.05 -G ~/path_to_1kg_dat/1kg_all_autosomal_variants.bcf -O v > ../dat/variants_in_guides_init.vcf`"
   ]
  },
  {
   "cell_type": "markdown",
   "metadata": {},
   "source": [
    "Filter these to make sure none of the variants we identified are from the \"N\" position of the \"NGG\" PAM. `n_positions` defined above stored the positions where the \"N\" in the \"NGG\" PAM is. "
   ]
  },
  {
   "cell_type": "code",
   "execution_count": 56,
   "metadata": {
    "collapsed": true
   },
   "outputs": [],
   "source": [
    "unfilt_vars = pd.read_csv('../dat/brunello/variants_in_guides_init.vcf', sep='\\t', header=None,\n",
    "                         names=['chrom','position','rsid','ref','alt','score','passing','info'], comment='#')"
   ]
  },
  {
   "cell_type": "markdown",
   "metadata": {},
   "source": [
    "Determine the number of variants present before filtering out variants in the \"N\" position:"
   ]
  },
  {
   "cell_type": "code",
   "execution_count": 57,
   "metadata": {},
   "outputs": [
    {
     "data": {
      "text/plain": [
       "3017"
      ]
     },
     "execution_count": 57,
     "metadata": {},
     "output_type": "execute_result"
    }
   ],
   "source": [
    "len(unfilt_vars)"
   ]
  },
  {
   "cell_type": "markdown",
   "metadata": {},
   "source": [
    "Determine the number of variants that occur in the \"N\" position."
   ]
  },
  {
   "cell_type": "code",
   "execution_count": 58,
   "metadata": {},
   "outputs": [
    {
     "data": {
      "text/plain": [
       "151"
      ]
     },
     "execution_count": 58,
     "metadata": {},
     "output_type": "execute_result"
    }
   ],
   "source": [
    "len(unfilt_vars[unfilt_vars['position'].isin(n_positions)])"
   ]
  },
  {
   "cell_type": "markdown",
   "metadata": {},
   "source": [
    "Generate a filtered set of non-N position variants."
   ]
  },
  {
   "cell_type": "code",
   "execution_count": 59,
   "metadata": {
    "collapsed": true
   },
   "outputs": [],
   "source": [
    "filt_vars = unfilt_vars[~unfilt_vars['position'].isin(n_positions)].copy()"
   ]
  },
  {
   "cell_type": "markdown",
   "metadata": {},
   "source": [
    "Determine how many sgRNAs are impacted by the non-N variants."
   ]
  },
  {
   "cell_type": "code",
   "execution_count": 60,
   "metadata": {
    "collapsed": true
   },
   "outputs": [],
   "source": [
    "brunello_guides = brunello_bed.copy().sort_values(by='chrom')"
   ]
  },
  {
   "cell_type": "code",
   "execution_count": 61,
   "metadata": {
    "collapsed": true
   },
   "outputs": [],
   "source": [
    "brun_n_vars = []\n",
    "\n",
    "for ix, row in brunello_guides.iterrows():\n",
    "    chrom = row['chrom']\n",
    "    start = row['start']\n",
    "    stop = row['stop']\n",
    "    guide_positions = list(range(start, stop))\n",
    "    vars_in_guide = filt_vars.query('(chrom == @chrom) and (position >= @start) and (position <= @stop)')\n",
    "    brun_n_vars.append(len(vars_in_guide))"
   ]
  },
  {
   "cell_type": "code",
   "execution_count": 62,
   "metadata": {
    "collapsed": true
   },
   "outputs": [],
   "source": [
    "brunello_guides['n_vars'] = brun_n_vars"
   ]
  },
  {
   "cell_type": "markdown",
   "metadata": {},
   "source": [
    "Identify the percentage of guides that have a common variant in the non-N position."
   ]
  },
  {
   "cell_type": "code",
   "execution_count": 63,
   "metadata": {},
   "outputs": [
    {
     "data": {
      "text/plain": [
       "3.4444865975065735"
      ]
     },
     "execution_count": 63,
     "metadata": {},
     "output_type": "execute_result"
    }
   ],
   "source": [
    "100.0 * len(brunello_guides.query('n_vars > 0')) / len(brunello_guides)"
   ]
  },
  {
   "cell_type": "markdown",
   "metadata": {},
   "source": [
    "Save the results to a file."
   ]
  },
  {
   "cell_type": "code",
   "execution_count": 64,
   "metadata": {
    "collapsed": true
   },
   "outputs": [],
   "source": [
    "brunello_guides.to_csv('../dat/brunello/brunello_guides_results_1kgp.tsv', sep='\\t')"
   ]
  },
  {
   "cell_type": "markdown",
   "metadata": {},
   "source": [
    "Visualize the number of variants per sgRNA."
   ]
  },
  {
   "cell_type": "code",
   "execution_count": 65,
   "metadata": {},
   "outputs": [
    {
     "data": {
      "text/plain": [
       "Text(0.5,1,'Common Variants from the\\n 1000 Genomes Project\\n in the Brunello gRNA library')"
      ]
     },
     "execution_count": 65,
     "metadata": {},
     "output_type": "execute_result"
    },
    {
     "data": {
      "image/png": "[encoded data removed]",
      "text/plain": [
       "<Figure size 432x288 with 1 Axes>"
      ]
     },
     "metadata": {},
     "output_type": "display_data"
    }
   ],
   "source": [
    "p = sns.countplot(x=brunello_guides['n_vars'], color='dodgerblue')\n",
    "p.set_yscale('log')\n",
    "plt.ylabel('Number of gRNAs')\n",
    "plt.xlabel('Number of Common Variants (MAF >= 5%)')\n",
    "plt.title('Common Variants from the\\n 1000 Genomes Project\\n in the Brunello gRNA library')"
   ]
  },
  {
   "cell_type": "markdown",
   "metadata": {},
   "source": [
    "## WTC analysis of Brunello sgRNA library\n",
    "\n",
    "BCFtools command to figure out which variants in WTC are in Brunello gRNAs.\n",
    "\n",
    "`bcftools view -R ../dat/brunello_chr.bed ~/path_to_wtc_dat/wtc.bcf -O v > ../dat/wtc_variants_in_guides_init.vcf`"
   ]
  },
  {
   "cell_type": "code",
   "execution_count": 47,
   "metadata": {
    "collapsed": true
   },
   "outputs": [],
   "source": [
    "unfilt_vars_wtc = pd.read_csv('../dat/brunello/wtc_variants_in_guides_init.vcf', sep='\\t', header=None,\n",
    "                         names=['chrom','position','random','ref','alt','rsid','score','passing','info','genotype'], comment='#')"
   ]
  },
  {
   "cell_type": "markdown",
   "metadata": {},
   "source": [
    "Determine the number of variants present before filtering out variants in the \"N\" position:"
   ]
  },
  {
   "cell_type": "code",
   "execution_count": 48,
   "metadata": {},
   "outputs": [
    {
     "data": {
      "text/plain": [
       "1728"
      ]
     },
     "execution_count": 48,
     "metadata": {},
     "output_type": "execute_result"
    }
   ],
   "source": [
    "len(unfilt_vars_wtc)"
   ]
  },
  {
   "cell_type": "markdown",
   "metadata": {},
   "source": [
    "Determine the number of variants that occur in the \"N\" position."
   ]
  },
  {
   "cell_type": "code",
   "execution_count": 49,
   "metadata": {},
   "outputs": [
    {
     "data": {
      "text/plain": [
       "81"
      ]
     },
     "execution_count": 49,
     "metadata": {},
     "output_type": "execute_result"
    }
   ],
   "source": [
    "len(unfilt_vars_wtc[unfilt_vars_wtc['position'].isin(n_positions)])"
   ]
  },
  {
   "cell_type": "markdown",
   "metadata": {},
   "source": [
    "Generate a filtered file with only non-N variants."
   ]
  },
  {
   "cell_type": "code",
   "execution_count": 50,
   "metadata": {
    "collapsed": true
   },
   "outputs": [],
   "source": [
    "filt_vars_wtc = unfilt_vars_wtc[~unfilt_vars_wtc['position'].isin(n_positions)].copy()"
   ]
  },
  {
   "cell_type": "markdown",
   "metadata": {},
   "source": [
    "Determine how many sgRNAs are impacted by the non-N variants."
   ]
  },
  {
   "cell_type": "code",
   "execution_count": 70,
   "metadata": {
    "collapsed": true
   },
   "outputs": [],
   "source": [
    "brunello_guides_wtc = brunello_bed_chr.copy().sort_values(by='chrom')\n",
    "\n",
    "brun_n_vars_wtc = []\n",
    "\n",
    "for ix, row in brunello_guides_wtc.iterrows():\n",
    "    chrom = row['chrom']\n",
    "    start = row['start']\n",
    "    stop = row['stop']\n",
    "    guide_positions = list(range(start, stop))\n",
    "    vars_in_guide = filt_vars_wtc.query('(chrom == @chrom) and (position >= @start) and (position <= @stop)')\n",
    "    brun_n_vars_wtc.append(len(vars_in_guide))"
   ]
  },
  {
   "cell_type": "code",
   "execution_count": 52,
   "metadata": {
    "collapsed": true
   },
   "outputs": [],
   "source": [
    "brunello_guides_wtc['n_vars'] = brun_n_vars_wtc"
   ]
  },
  {
   "cell_type": "markdown",
   "metadata": {},
   "source": [
    "Identify the percentage of guides that have a common variant in the non-N position."
   ]
  },
  {
   "cell_type": "code",
   "execution_count": 53,
   "metadata": {},
   "outputs": [
    {
     "data": {
      "text/plain": [
       "1.9400583456522023"
      ]
     },
     "execution_count": 53,
     "metadata": {},
     "output_type": "execute_result"
    }
   ],
   "source": [
    "100.0 * len(brunello_guides_wtc.query('n_vars > 0')) / len(brunello_guides_wtc)"
   ]
  },
  {
   "cell_type": "markdown",
   "metadata": {},
   "source": [
    "Save the results to a file."
   ]
  },
  {
   "cell_type": "code",
   "execution_count": 54,
   "metadata": {
    "collapsed": true
   },
   "outputs": [],
   "source": [
    "brunello_guides_wtc.to_csv('../dat/brunello/brunello_guides_results_wtc.tsv', sep='\\t')"
   ]
  },
  {
   "cell_type": "code",
   "execution_count": 55,
   "metadata": {},
   "outputs": [
    {
     "data": {
      "text/plain": [
       "Text(0.5,1,'Variants from WTC\\n in the Brunello gRNA library')"
      ]
     },
     "execution_count": 55,
     "metadata": {},
     "output_type": "execute_result"
    },
    {
     "data": {
      "image/png": "[encoded data removed]",
      "text/plain": [
       "<Figure size 432x288 with 1 Axes>"
      ]
     },
     "metadata": {},
     "output_type": "display_data"
    }
   ],
   "source": [
    "p = sns.countplot(x=brunello_guides_wtc['n_vars'], color='dodgerblue')\n",
    "p.set_yscale('log')\n",
    "plt.ylabel('Number of gRNAs')\n",
    "plt.xlabel('Number of Variants')\n",
    "plt.title('Variants from WTC\\n in the Brunello gRNA library')"
   ]
  },
  {
   "cell_type": "markdown",
   "metadata": {},
   "source": [
    "Put the plots together for 1000 Genomes and WTC and save to a file."
   ]
  },
  {
   "cell_type": "code",
   "execution_count": 67,
   "metadata": {
    "collapsed": true
   },
   "outputs": [],
   "source": [
    "brunello_guides['Dataset'] = 'Common variants\\n (MAF >= 5%)\\n 1000 Genomes'\n",
    "brunello_guides_wtc['Dataset'] = 'WTC variants'\n",
    "df_overall = pd.concat([brunello_guides, brunello_guides_wtc])"
   ]
  },
  {
   "cell_type": "code",
   "execution_count": 68,
   "metadata": {
    "collapsed": true
   },
   "outputs": [],
   "source": [
    "df_overall.to_csv('../dat/brunello/1kg_wtc_brunello_results.tsv', sep='\\t', index=False)"
   ]
  },
  {
   "cell_type": "code",
   "execution_count": 71,
   "metadata": {},
   "outputs": [
    {
     "data": {
      "text/plain": [
       "Text(0.5,1,'Variants from WTC and \\nthe 1000 Genomes Project\\n in the Brunello gRNA library')"
      ]
     },
     "execution_count": 71,
     "metadata": {},
     "output_type": "execute_result"
    },
    {
     "data": {
      "image/png": "[encoded data removed]",
      "text/plain": [
       "<Figure size 432x288 with 1 Axes>"
      ]
     },
     "metadata": {},
     "output_type": "display_data"
    }
   ],
   "source": [
    "p = sns.countplot(x=df_overall['n_vars'], hue=df_overall['Dataset'])\n",
    "p.set_yscale('log')\n",
    "plt.ylabel('Number of gRNAs')\n",
    "plt.xlabel('Number of Variants')\n",
    "plt.title('Variants from WTC and \\nthe 1000 Genomes Project\\n in the Brunello gRNA library')"
   ]
  },
  {
   "cell_type": "code",
   "execution_count": 69,
   "metadata": {},
   "outputs": [
    {
     "data": {
      "image/png": "[encoded data removed]",
      "text/plain": [
       "<Figure size 432x432 with 2 Axes>"
      ]
     },
     "metadata": {},
     "output_type": "display_data"
    }
   ],
   "source": [
    "p = sns.catplot('n_vars', kind='count', row='Dataset', hue='Dataset', \n",
    "                data=df_overall, height=3, aspect=2, sharex=False)\n",
    "(p.set_axis_labels('Number of Variants', 'Number of gRNAs (log scale)')\n",
    " .set_titles('{row_name} {row_var}', verticalalignment='top'))\n",
    "p.fig.get_axes()[0].set_yscale('log')\n",
    "p.fig.suptitle('Variants in the Brunello gRNA library')\n",
    "p.savefig('../figs/brunello_wtc_1kgp_countplots.pdf', dpi=300,\n",
    "                    bbox_inches='tight')"
   ]
  },
  {
   "cell_type": "code",
   "execution_count": null,
   "metadata": {
    "collapsed": true
   },
   "outputs": [],
   "source": []
  }
 ],
 "metadata": {
  "kernelspec": {
   "display_name": "Python [default]",
   "language": "python",
   "name": "python3"
  },
  "language_info": {
   "codemirror_mode": {
    "name": "ipython",
    "version": 3
   },
   "file_extension": ".py",
   "mimetype": "text/x-python",
   "name": "python",
   "nbconvert_exporter": "python",
   "pygments_lexer": "ipython3",
   "version": "3.6.2"
  },
  "toc": {
   "nav_menu": {},
   "number_sections": true,
   "sideBar": true,
   "skip_h1_title": false,
   "title_cell": "Table of Contents",
   "title_sidebar": "Contents",
   "toc_cell": false,
   "toc_position": {},
   "toc_section_display": true,
   "toc_window_display": false
  }
 },
 "nbformat": 4,
 "nbformat_minor": 2
}
