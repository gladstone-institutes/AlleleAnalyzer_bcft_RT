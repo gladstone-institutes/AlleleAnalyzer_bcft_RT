{
 "cells": [
  {
   "cell_type": "markdown",
   "metadata": {},
   "source": [
    "# Bassik lab library analysis\n",
    "\n",
    "This library was downloaded from Supplementary Table 5 from [Morgens et al. Nature Communications 2017](https://www.nature.com/articles/ncomms15178#s6). These are in reference **hg19**. This library comprises 10 variable length (17-20bp) top-scoring gRNAs per gene. "
   ]
  },
  {
   "cell_type": "code",
   "execution_count": 4,
   "metadata": {
    "collapsed": true
   },
   "outputs": [],
   "source": [
    "import pandas as pd\n",
    "import seaborn as sns\n",
    "import matplotlib.pyplot as plt\n",
    "\n",
    "sns.set_context('paper')\n",
    "\n",
    "%matplotlib inline"
   ]
  },
  {
   "cell_type": "markdown",
   "metadata": {},
   "source": [
    "Load the file."
   ]
  },
  {
   "cell_type": "code",
   "execution_count": 5,
   "metadata": {
    "collapsed": true
   },
   "outputs": [],
   "source": [
    "bassik = pd.read_excel('../dat/bassik/ncomms15178-s8.xlsx')[['chrom','start','end','strand']]"
   ]
  },
  {
   "cell_type": "code",
   "execution_count": 38,
   "metadata": {},
   "outputs": [
    {
     "data": {
      "text/html": [
       "<div>\n",
       "<style scoped>\n",
       "    .dataframe tbody tr th:only-of-type {\n",
       "        vertical-align: middle;\n",
       "    }\n",
       "\n",
       "    .dataframe tbody tr th {\n",
       "        vertical-align: top;\n",
       "    }\n",
       "\n",
       "    .dataframe thead th {\n",
       "        text-align: right;\n",
       "    }\n",
       "</style>\n",
       "<table border=\"1\" class=\"dataframe\">\n",
       "  <thead>\n",
       "    <tr style=\"text-align: right;\">\n",
       "      <th></th>\n",
       "      <th>chrom</th>\n",
       "      <th>start</th>\n",
       "      <th>end</th>\n",
       "      <th>strand</th>\n",
       "    </tr>\n",
       "  </thead>\n",
       "  <tbody>\n",
       "    <tr>\n",
       "      <th>0</th>\n",
       "      <td>chr1</td>\n",
       "      <td>69495</td>\n",
       "      <td>69515</td>\n",
       "      <td>+</td>\n",
       "    </tr>\n",
       "    <tr>\n",
       "      <th>1</th>\n",
       "      <td>chr1</td>\n",
       "      <td>69503</td>\n",
       "      <td>69521</td>\n",
       "      <td>+</td>\n",
       "    </tr>\n",
       "    <tr>\n",
       "      <th>2</th>\n",
       "      <td>chr1</td>\n",
       "      <td>69545</td>\n",
       "      <td>69564</td>\n",
       "      <td>-</td>\n",
       "    </tr>\n",
       "    <tr>\n",
       "      <th>3</th>\n",
       "      <td>chr1</td>\n",
       "      <td>69555</td>\n",
       "      <td>69575</td>\n",
       "      <td>+</td>\n",
       "    </tr>\n",
       "    <tr>\n",
       "      <th>4</th>\n",
       "      <td>chr1</td>\n",
       "      <td>138772</td>\n",
       "      <td>138790</td>\n",
       "      <td>-</td>\n",
       "    </tr>\n",
       "  </tbody>\n",
       "</table>\n",
       "</div>"
      ],
      "text/plain": [
       "  chrom   start     end strand\n",
       "0  chr1   69495   69515      +\n",
       "1  chr1   69503   69521      +\n",
       "2  chr1   69545   69564      -\n",
       "3  chr1   69555   69575      +\n",
       "4  chr1  138772  138790      -"
      ]
     },
     "execution_count": 38,
     "metadata": {},
     "output_type": "execute_result"
    }
   ],
   "source": [
    "bassik.head()"
   ]
  },
  {
   "cell_type": "markdown",
   "metadata": {},
   "source": [
    "Convert to BED, including PAM."
   ]
  },
  {
   "cell_type": "code",
   "execution_count": 39,
   "metadata": {
    "collapsed": true
   },
   "outputs": [],
   "source": [
    "starts = []\n",
    "stops = []\n",
    "n_positions = []\n",
    "\n",
    "for ix, row in bassik.iterrows():\n",
    "    if row['strand'] == '-':\n",
    "        starts.append(row['start'] - 2)\n",
    "        stops.append(row['end'] + 1)\n",
    "        n_positions.append(row['start'])\n",
    "    else:\n",
    "        starts.append(row['start'] + 1)\n",
    "        stops.append(row['end'] + 3)\n",
    "        n_positions.append(row['end'] + 1)"
   ]
  },
  {
   "cell_type": "code",
   "execution_count": 45,
   "metadata": {
    "collapsed": true
   },
   "outputs": [],
   "source": [
    "bassik_bed = pd.DataFrame()\n",
    "bassik_bed['chrom'] = bassik['chrom'].str[3:]\n",
    "bassik_bed['start'] = starts\n",
    "bassik_bed['stop'] = stops\n",
    "bassik_bed['name'] = bassik_bed.index"
   ]
  },
  {
   "cell_type": "markdown",
   "metadata": {},
   "source": [
    "Save BED file of sgRNA protospacer and PAM coordinates."
   ]
  },
  {
   "cell_type": "code",
   "execution_count": 48,
   "metadata": {
    "collapsed": true
   },
   "outputs": [],
   "source": [
    "bassik_bed_chr = bassik_bed.copy()\n",
    "bassik_bed_chr['chrom'] = 'chr' + bassik_bed['chrom'].astype(str)"
   ]
  },
  {
   "cell_type": "code",
   "execution_count": 49,
   "metadata": {
    "collapsed": true
   },
   "outputs": [],
   "source": [
    "bassik_bed.to_csv('../dat/bassik/bassik.bed', sep='\\t', index=False, header=False)\n",
    "bassik_bed_chr.to_csv('../dat/bassik/bassik_chr.bed', sep='\\t', index=False, header=False)"
   ]
  },
  {
   "cell_type": "markdown",
   "metadata": {},
   "source": [
    "BCFtools command to determine which common variants from the 1000 Genomes Project occur in the sgRNAs.\n",
    "\n",
    "`bcftools view -R ../dat/bassik.bed --min-af 0.05 -G ~/path_to_1kg_dat/1kg_all_autosomal_variants.bcf -O v > ../dat/variants_in_guides_init.vcf`"
   ]
  },
  {
   "cell_type": "markdown",
   "metadata": {},
   "source": [
    "Now we need to filter these to make sure none of the variants we identified are from the \"N\" position of the \"NGG\" PAM. `n_positions` defined above stored the positions where the \"N\" in the \"NGG\" PAM is. "
   ]
  },
  {
   "cell_type": "code",
   "execution_count": 51,
   "metadata": {
    "collapsed": true
   },
   "outputs": [],
   "source": [
    "unfilt_vars = pd.read_csv('../dat/bassik/variants_in_guides_init.vcf', sep='\\t', header=None,\n",
    "                         names=['chrom','position','rsid','ref','alt','score','passing','info'], comment='#')"
   ]
  },
  {
   "cell_type": "markdown",
   "metadata": {},
   "source": [
    "Determine the number of variants present before filtering out variants in the \"N\" position:"
   ]
  },
  {
   "cell_type": "code",
   "execution_count": 52,
   "metadata": {},
   "outputs": [
    {
     "data": {
      "text/plain": [
       "10469"
      ]
     },
     "execution_count": 52,
     "metadata": {},
     "output_type": "execute_result"
    }
   ],
   "source": [
    "len(unfilt_vars)"
   ]
  },
  {
   "cell_type": "markdown",
   "metadata": {},
   "source": [
    "Determine the number of variants that occur in the \"N\" position of the PAM."
   ]
  },
  {
   "cell_type": "code",
   "execution_count": 53,
   "metadata": {},
   "outputs": [
    {
     "data": {
      "text/plain": [
       "558"
      ]
     },
     "execution_count": 53,
     "metadata": {},
     "output_type": "execute_result"
    }
   ],
   "source": [
    "len(unfilt_vars[unfilt_vars['position'].isin(n_positions)])"
   ]
  },
  {
   "cell_type": "markdown",
   "metadata": {},
   "source": [
    "Generate a filtered set of non-N position variants."
   ]
  },
  {
   "cell_type": "code",
   "execution_count": 54,
   "metadata": {
    "collapsed": true
   },
   "outputs": [],
   "source": [
    "filt_vars = unfilt_vars[~unfilt_vars['position'].isin(n_positions)].copy()"
   ]
  },
  {
   "cell_type": "markdown",
   "metadata": {},
   "source": [
    "Determine the number of variants per sgRNA."
   ]
  },
  {
   "cell_type": "code",
   "execution_count": 66,
   "metadata": {
    "collapsed": true
   },
   "outputs": [],
   "source": [
    "bassik_guides = bassik_bed.copy().sort_values(by='chrom')\n",
    "\n",
    "bassik_n_vars = []\n",
    "\n",
    "for ix, row in bassik_guides.iterrows():\n",
    "    chrom = row['chrom']\n",
    "    start = row['start']\n",
    "    stop = row['stop']\n",
    "    guide_positions = list(range(start, stop))\n",
    "    vars_in_guide = filt_vars.query('(chrom == @chrom) and (position >= @start) and (position <= @stop)')['rsid'].drop_duplicates()\n",
    "    bassik_n_vars.append(len(vars_in_guide))"
   ]
  },
  {
   "cell_type": "code",
   "execution_count": 67,
   "metadata": {
    "collapsed": true
   },
   "outputs": [],
   "source": [
    "bassik_guides['n_vars'] = bassik_n_vars"
   ]
  },
  {
   "cell_type": "code",
   "execution_count": 68,
   "metadata": {},
   "outputs": [
    {
     "data": {
      "text/html": [
       "<div>\n",
       "<style scoped>\n",
       "    .dataframe tbody tr th:only-of-type {\n",
       "        vertical-align: middle;\n",
       "    }\n",
       "\n",
       "    .dataframe tbody tr th {\n",
       "        vertical-align: top;\n",
       "    }\n",
       "\n",
       "    .dataframe thead th {\n",
       "        text-align: right;\n",
       "    }\n",
       "</style>\n",
       "<table border=\"1\" class=\"dataframe\">\n",
       "  <thead>\n",
       "    <tr style=\"text-align: right;\">\n",
       "      <th></th>\n",
       "      <th>chrom</th>\n",
       "      <th>start</th>\n",
       "      <th>stop</th>\n",
       "      <th>name</th>\n",
       "      <th>n_vars</th>\n",
       "    </tr>\n",
       "  </thead>\n",
       "  <tbody>\n",
       "    <tr>\n",
       "      <th>158483</th>\n",
       "      <td>6</td>\n",
       "      <td>31324492</td>\n",
       "      <td>31324514</td>\n",
       "      <td>158483</td>\n",
       "      <td>8</td>\n",
       "    </tr>\n",
       "    <tr>\n",
       "      <th>158484</th>\n",
       "      <td>6</td>\n",
       "      <td>31324531</td>\n",
       "      <td>31324552</td>\n",
       "      <td>158484</td>\n",
       "      <td>8</td>\n",
       "    </tr>\n",
       "    <tr>\n",
       "      <th>158065</th>\n",
       "      <td>6</td>\n",
       "      <td>29910763</td>\n",
       "      <td>29910785</td>\n",
       "      <td>158065</td>\n",
       "      <td>6</td>\n",
       "    </tr>\n",
       "    <tr>\n",
       "      <th>19673</th>\n",
       "      <td>1</td>\n",
       "      <td>248084739</td>\n",
       "      <td>248084760</td>\n",
       "      <td>19673</td>\n",
       "      <td>5</td>\n",
       "    </tr>\n",
       "    <tr>\n",
       "      <th>158478</th>\n",
       "      <td>6</td>\n",
       "      <td>31239614</td>\n",
       "      <td>31239636</td>\n",
       "      <td>158478</td>\n",
       "      <td>5</td>\n",
       "    </tr>\n",
       "  </tbody>\n",
       "</table>\n",
       "</div>"
      ],
      "text/plain": [
       "       chrom      start       stop    name  n_vars\n",
       "158483     6   31324492   31324514  158483       8\n",
       "158484     6   31324531   31324552  158484       8\n",
       "158065     6   29910763   29910785  158065       6\n",
       "19673      1  248084739  248084760   19673       5\n",
       "158478     6   31239614   31239636  158478       5"
      ]
     },
     "execution_count": 68,
     "metadata": {},
     "output_type": "execute_result"
    }
   ],
   "source": [
    "bassik_guides.sort_values(by='n_vars', ascending=False).head()"
   ]
  },
  {
   "cell_type": "markdown",
   "metadata": {},
   "source": [
    "Identify the percentage of guides that have a common variant (MAF > 5% in 1000 Genomes cohort) in the non-N position."
   ]
  },
  {
   "cell_type": "code",
   "execution_count": 71,
   "metadata": {},
   "outputs": [
    {
     "data": {
      "text/plain": [
       "3.586576236733577"
      ]
     },
     "execution_count": 71,
     "metadata": {},
     "output_type": "execute_result"
    }
   ],
   "source": [
    "100.0 * len(bassik_guides.query('n_vars > 0')) / len(bassik_guides)"
   ]
  },
  {
   "cell_type": "markdown",
   "metadata": {},
   "source": [
    "Save the results to a file."
   ]
  },
  {
   "cell_type": "code",
   "execution_count": 72,
   "metadata": {
    "collapsed": true
   },
   "outputs": [],
   "source": [
    "bassik_guides.to_csv('../dat/bassik/bassik_guides_results_1kgp.tsv', sep='\\t')"
   ]
  },
  {
   "cell_type": "markdown",
   "metadata": {},
   "source": [
    "Visualize the number of variants per sgRNA."
   ]
  },
  {
   "cell_type": "code",
   "execution_count": 73,
   "metadata": {},
   "outputs": [
    {
     "data": {
      "text/plain": [
       "Text(0.5,1,'Common Variants from the\\n 1000 Genomes Project\\n in the Bassik gRNA library')"
      ]
     },
     "execution_count": 73,
     "metadata": {},
     "output_type": "execute_result"
    },
    {
     "data": {
      "image/png": "[encoded data removed]",
      "text/plain": [
       "<Figure size 432x288 with 1 Axes>"
      ]
     },
     "metadata": {},
     "output_type": "display_data"
    }
   ],
   "source": [
    "p = sns.countplot(x=bassik_guides['n_vars'], color='dodgerblue')\n",
    "p.set_yscale('log')\n",
    "plt.ylabel('Number of gRNAs')\n",
    "plt.xlabel('Number of Common Variants (MAF >= 5%)')\n",
    "plt.title('Common Variants from the\\n 1000 Genomes Project\\n in the Bassik gRNA library')"
   ]
  },
  {
   "cell_type": "markdown",
   "metadata": {},
   "source": [
    "## WTC analysis of Bassik sgRNA library\n",
    "\n",
    "BCFtools command to extract WTC variants in Bassik library sgRNAs.\n",
    "\n",
    "`bcftools view -R ../dat/brunello_chr.bed ~/path_to_wtc_dat/wtc.bcf -O v > ../dat/wtc_variants_in_guides_init.vcf`"
   ]
  },
  {
   "cell_type": "code",
   "execution_count": 74,
   "metadata": {
    "collapsed": true
   },
   "outputs": [],
   "source": [
    "unfilt_vars_wtc = pd.read_csv('../dat/bassik/wtc_variants_in_guides_init.vcf', sep='\\t', header=None,\n",
    "                         names=['chrom','position','random','ref','alt','rsid','score','passing','info','genotype'], comment='#')"
   ]
  },
  {
   "cell_type": "markdown",
   "metadata": {},
   "source": [
    "Determine the number of variants present before filtering out variants in the \"N\" position:"
   ]
  },
  {
   "cell_type": "code",
   "execution_count": 75,
   "metadata": {},
   "outputs": [
    {
     "data": {
      "text/plain": [
       "4093"
      ]
     },
     "execution_count": 75,
     "metadata": {},
     "output_type": "execute_result"
    }
   ],
   "source": [
    "len(unfilt_vars_wtc)"
   ]
  },
  {
   "cell_type": "markdown",
   "metadata": {},
   "source": [
    "Determine the number of variants that occur in the \"N\" position."
   ]
  },
  {
   "cell_type": "code",
   "execution_count": 76,
   "metadata": {},
   "outputs": [
    {
     "data": {
      "text/plain": [
       "239"
      ]
     },
     "execution_count": 76,
     "metadata": {},
     "output_type": "execute_result"
    }
   ],
   "source": [
    "len(unfilt_vars_wtc[unfilt_vars_wtc['position'].isin(n_positions)])"
   ]
  },
  {
   "cell_type": "markdown",
   "metadata": {},
   "source": [
    "Generate a filtered file with only non-N variants."
   ]
  },
  {
   "cell_type": "code",
   "execution_count": 77,
   "metadata": {
    "collapsed": true
   },
   "outputs": [],
   "source": [
    "filt_vars_wtc = unfilt_vars_wtc[~unfilt_vars_wtc['position'].isin(n_positions)].copy()"
   ]
  },
  {
   "cell_type": "markdown",
   "metadata": {},
   "source": [
    "Determine how many sgRNAs are impacted by the non-N variants."
   ]
  },
  {
   "cell_type": "code",
   "execution_count": 79,
   "metadata": {
    "collapsed": true
   },
   "outputs": [],
   "source": [
    "bassik_guides_wtc = bassik_bed_chr.copy().sort_values(by='chrom')\n",
    "\n",
    "bassik_n_vars_wtc = []\n",
    "\n",
    "for ix, row in bassik_guides_wtc.iterrows():\n",
    "    chrom = row['chrom']\n",
    "    start = row['start']\n",
    "    stop = row['stop']\n",
    "    guide_positions = list(range(start, stop))\n",
    "    vars_in_guide = filt_vars_wtc.query('(chrom == @chrom) and (position >= @start) and (position <= @stop)')\n",
    "    bassik_n_vars_wtc.append(len(vars_in_guide))"
   ]
  },
  {
   "cell_type": "code",
   "execution_count": 80,
   "metadata": {
    "collapsed": true
   },
   "outputs": [],
   "source": [
    "bassik_guides_wtc['n_vars'] = bassik_n_vars_wtc"
   ]
  },
  {
   "cell_type": "markdown",
   "metadata": {},
   "source": [
    "Identify the percentage of guides that have a common variant in the non-N position."
   ]
  },
  {
   "cell_type": "code",
   "execution_count": 81,
   "metadata": {},
   "outputs": [
    {
     "data": {
      "text/plain": [
       "1.787913140355335"
      ]
     },
     "execution_count": 81,
     "metadata": {},
     "output_type": "execute_result"
    }
   ],
   "source": [
    "100.0 * len(bassik_guides_wtc.query('n_vars > 0')) / len(bassik_guides_wtc)"
   ]
  },
  {
   "cell_type": "markdown",
   "metadata": {},
   "source": [
    "Save the results to a file."
   ]
  },
  {
   "cell_type": "code",
   "execution_count": 82,
   "metadata": {
    "collapsed": true
   },
   "outputs": [],
   "source": [
    "bassik_guides_wtc.to_csv('../dat/bassik/bassik_guides_results_wtc.tsv', sep='\\t')"
   ]
  },
  {
   "cell_type": "code",
   "execution_count": 83,
   "metadata": {},
   "outputs": [
    {
     "data": {
      "text/plain": [
       "Text(0.5,1,'Variants from WTC\\n in the Bassik gRNA library')"
      ]
     },
     "execution_count": 83,
     "metadata": {},
     "output_type": "execute_result"
    },
    {
     "data": {
      "image/png": "[encoded data removed]",
      "text/plain": [
       "<Figure size 432x288 with 1 Axes>"
      ]
     },
     "metadata": {},
     "output_type": "display_data"
    }
   ],
   "source": [
    "p = sns.countplot(x=bassik_guides_wtc['n_vars'], color='dodgerblue')\n",
    "p.set_yscale('log')\n",
    "plt.ylabel('Number of gRNAs')\n",
    "plt.xlabel('Number of Variants')\n",
    "plt.title('Variants from WTC\\n in the Bassik gRNA library')"
   ]
  },
  {
   "cell_type": "markdown",
   "metadata": {},
   "source": [
    "Put the plots together for 1000 Genomes and WTC and save compiled data to a file."
   ]
  },
  {
   "cell_type": "code",
   "execution_count": 84,
   "metadata": {
    "collapsed": true
   },
   "outputs": [],
   "source": [
    "bassik_guides['Dataset'] = 'Common variants\\n (MAF >= 5%)\\n 1000 Genomes'\n",
    "bassik_guides_wtc['Dataset'] = 'WTC variants'\n",
    "df_overall = pd.concat([bassik_guides, bassik_guides_wtc])\n",
    "\n",
    "df_overall.to_csv('../dat/bassik/1kg_wtc_bassik_results.tsv', sep='\\t', index=False)"
   ]
  },
  {
   "cell_type": "code",
   "execution_count": 85,
   "metadata": {},
   "outputs": [
    {
     "data": {
      "text/plain": [
       "Text(0.5,1,'Variants from WTC and \\nthe 1000 Genomes Project\\n in the Bassik gRNA library')"
      ]
     },
     "execution_count": 85,
     "metadata": {},
     "output_type": "execute_result"
    },
    {
     "data": {
      "image/png": "[encoded data removed]",
      "text/plain": [
       "<Figure size 432x288 with 1 Axes>"
      ]
     },
     "metadata": {},
     "output_type": "display_data"
    }
   ],
   "source": [
    "p = sns.countplot(x=df_overall['n_vars'], hue=df_overall['Dataset'])\n",
    "p.set_yscale('log')\n",
    "plt.ylabel('Number of gRNAs')\n",
    "plt.xlabel('Number of Variants')\n",
    "plt.title('Variants from WTC and \\nthe 1000 Genomes Project\\n in the Bassik gRNA library')"
   ]
  },
  {
   "cell_type": "code",
   "execution_count": 86,
   "metadata": {},
   "outputs": [
    {
     "data": {
      "image/png": "[encoded data removed]",
      "text/plain": [
       "<Figure size 432x432 with 2 Axes>"
      ]
     },
     "metadata": {},
     "output_type": "display_data"
    }
   ],
   "source": [
    "p = sns.catplot('n_vars', kind='count', row='Dataset', hue='Dataset', \n",
    "                data=df_overall, height=3, aspect=2, sharex=False)\n",
    "(p.set_axis_labels('Number of Variants', 'Number of gRNAs (log scale)')\n",
    " .set_titles('{row_name} {row_var}', verticalalignment='top'))\n",
    "p.fig.get_axes()[0].set_yscale('log')\n",
    "p.fig.suptitle('Variants in the Bassik gRNA library')\n",
    "p.savefig('../figs/bassik_wtc_1kgp_countplots.pdf', dpi=300,\n",
    "                    bbox_inches='tight')"
   ]
  },
  {
   "cell_type": "code",
   "execution_count": null,
   "metadata": {
    "collapsed": true
   },
   "outputs": [],
   "source": []
  }
 ],
 "metadata": {
  "kernelspec": {
   "display_name": "Python [default]",
   "language": "python",
   "name": "python3"
  },
  "language_info": {
   "codemirror_mode": {
    "name": "ipython",
    "version": 3
   },
   "file_extension": ".py",
   "mimetype": "text/x-python",
   "name": "python",
   "nbconvert_exporter": "python",
   "pygments_lexer": "ipython3",
   "version": "3.6.2"
  },
  "toc": {
   "nav_menu": {},
   "number_sections": true,
   "sideBar": true,
   "skip_h1_title": false,
   "title_cell": "Table of Contents",
   "title_sidebar": "Contents",
   "toc_cell": false,
   "toc_position": {},
   "toc_section_display": true,
   "toc_window_display": false
  }
 },
 "nbformat": 4,
 "nbformat_minor": 2
}
