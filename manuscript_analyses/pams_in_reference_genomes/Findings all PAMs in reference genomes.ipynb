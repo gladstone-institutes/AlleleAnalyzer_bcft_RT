{
 "cells": [
  {
   "cell_type": "markdown",
   "metadata": {},
   "source": [
    "# Identification of PAM sites in the hg19 and hg38 human reference genomes\n",
    "\n",
    "The first step in any AlleleAnalyzer cohort analysis is determining where the PAM sites are in the reference genome. This is so one can determine when variants occur in or near an existing PAM. \n",
    "\n",
    "The fasta files for these reference genomes were downloaded from the [UCSC Genome Browser](https://genome.ucsc.edu/index.html.\n",
    "\n",
    "The relevant script from AlleleAnalyzer to annotate PAM sites in a reference genome is `pam_pos_genome.py` in `preprocessing/find_pams_in_reference/`. \n",
    "\n",
    "**Sample command for chromosome 1 analysing all Cas varieties from AlleleAnalyzer manuscript:**\n",
    "\n",
    "`python pam_pos_genome.py chr1 hg38.fa cpf1,SpCas9,SpCas9_VRER,SpCas9_EQR,SpCas9_VQR_1,\\\n",
    "SpCas9_VQR_2,StCas9,StCas9_2,SaCas9,SaCas9_KKH,\\\n",
    "nmCas9,cjCas9 output_directory/`\n",
    "\n",
    "We parallelized this by chromosome using the QB3 cluster at UCSF. PAM sites analyzed for each Cas are shown in Supplementary Figure 1. Adding a new PAM or Cas enzyme can be simply done by editing that file `AlleleAnalyzer/scripts/CAS_LIST.txt `. This takes between a few minutes to around a half hour depending on the size of the chromosome and the type of computer you're using.\n",
    "\n",
    "# Analysis of prevalence of PAM sites for each type of Cas enzyme in the human reference genomes\n",
    "\n"
   ]
  },
  {
   "cell_type": "code",
   "execution_count": null,
   "metadata": {
    "collapsed": true
   },
   "outputs": [],
   "source": []
  }
 ],
 "metadata": {
  "kernelspec": {
   "display_name": "Python 3",
   "language": "python",
   "name": "python3"
  },
  "language_info": {
   "codemirror_mode": {
    "name": "ipython",
    "version": 3
   },
   "file_extension": ".py",
   "mimetype": "text/x-python",
   "name": "python",
   "nbconvert_exporter": "python",
   "pygments_lexer": "ipython3",
   "version": "3.6.7"
  }
 },
 "nbformat": 4,
 "nbformat_minor": 2
}
