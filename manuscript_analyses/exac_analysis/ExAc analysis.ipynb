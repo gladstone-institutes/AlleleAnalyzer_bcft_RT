{
 "cells": [
  {
   "cell_type": "markdown",
   "metadata": {},
   "source": [
    "Documentation of ExAc analysis for allele-specific excision of all protein-coding genes with AlleleAnalyzer."
   ]
  },
  {
   "cell_type": "markdown",
   "metadata": {},
   "source": [
    "# Identification of PAM sites in the hg38 human reference genome\n",
    "\n",
    "The first step in any AlleleAnalyzer cohort analysis is determining where the PAM sites are in the reference genome. This is so one can determine when variants occur in or near an existing PAM. \n",
    "\n",
    "This analysis will be done in hg38, downloaded from the [UCSC genome browser](http://hgdownload.soe.ucsc.edu/goldenPath/hg38/bigZips/)."
   ]
  },
  {
   "cell_type": "code",
   "execution_count": null,
   "metadata": {
    "collapsed": true
   },
   "outputs": [],
   "source": []
  }
 ],
 "metadata": {
  "kernelspec": {
   "display_name": "Python 3",
   "language": "python",
   "name": "python3"
  },
  "language_info": {
   "codemirror_mode": {
    "name": "ipython",
    "version": 3
   },
   "file_extension": ".py",
   "mimetype": "text/x-python",
   "name": "python",
   "nbconvert_exporter": "python",
   "pygments_lexer": "ipython3",
   "version": "3.6.7"
  }
 },
 "nbformat": 4,
 "nbformat_minor": 2
}
