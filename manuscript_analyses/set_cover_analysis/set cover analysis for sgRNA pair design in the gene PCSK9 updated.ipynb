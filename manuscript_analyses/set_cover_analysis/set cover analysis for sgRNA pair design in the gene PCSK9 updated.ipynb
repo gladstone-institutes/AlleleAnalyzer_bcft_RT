{
 "cells": [
  {
   "cell_type": "code",
   "execution_count": 1,
   "metadata": {
    "scrolled": true
   },
   "outputs": [],
   "source": [
    "import pandas as pd\n",
    "import seaborn as sns\n",
    "import matplotlib.pyplot as plt\n",
    "sns.set_palette('magma')\n",
    "import numpy as np\n",
    "\n",
    "plt.style.use('aa_paper')\n",
    "%matplotlib inline\n",
    "\n",
    "gene = 'PCSK9'\n",
    "gene_lower = gene.lower()\n",
    "chrom = 'chr1'\n",
    "start = 55040221\n",
    "end = 55064853"
   ]
  },
  {
   "cell_type": "markdown",
   "metadata": {
    "variables": {
     "chrom": "chr1",
     "end": "55064853",
     "gene": "PCSK9",
     "gene_lower": "pcsk9",
     "start": "55040221"
    }
   },
   "source": [
    "Note: this notebook relies on the Jupyter extension [Python Markdown](https://github.com/ipython-contrib/jupyter_contrib_nbextensions/tree/master/src/jupyter_contrib_nbextensions/nbextensions/python-markdown) to properly display the commands below, and in other markdown cells. \n",
    "\n",
    "This notebook describes our process of designing optimal guides for allele-specific excision for the gene *{{gene}}*. *{{gene}}* is a gene located on {{chrom}}.\n",
    "\n",
    "# Identify variants to target \n",
    "\n",
    "Identify exhaustive list of targetable variant pairs in the gene with 1000 Genomes data for excision maximum limit = 10kb for the paper.\n",
    "\n",
    "`python ~/projects/AlleleAnalyzer/scripts/ExcisionFinder.py -v /pollard/home/kathleen/projects/AlleleAnalyzer/manuscript_analyses/1000genomes_analysis/get_gene_list/gene_list_hg38.tsv {{gene}} /pollard/data/projects/AlleleAnalyzer_data/1kgp_data/hg38_analysis/1kgp_annotated_variants_by_chrom/{{chrom}}_annotated.h5 10000 SpCas9,SaCas9 /pollard/data/genetics/1kg/phase3/hg38/ALL.{{chrom}}_GRCh38.genotypes.20170504.bcf /pollard/home/kathleen/projects/AlleleAnalyzer/manuscript_analyses/set_cover_analysis/{{gene}}/{{gene_lower}}_var_pairs_ --window=5000 --exhaustive`\n",
    "\n",
    "## Generate arcplot input for all populations together and for each superpopulation.\n",
    "\n",
    "`python ~/projects/AlleleAnalyzer/plotting_scripts/gen_arcplot_input.py /pollard/home/kathleen/projects/AlleleAnalyzer/manuscript_analyses/set_cover_analysis/{{gene}}/{{gene_lower}}_var_pairs_exh.tsv /pollard/home/kathleen/projects/AlleleAnalyzer/manuscript_analyses/set_cover_analysis/{{gene}}/{{gene_lower}}_arcplot_ALL`\n",
    "\n",
    "`parallel \" python ~/projects/AlleleAnalyzer/plotting_scripts/gen_arcplot_input.py /pollard/home/kathleen/projects/AlleleAnalyzer/manuscript_analyses/set_cover_analysis/{{gene}}/{{gene_lower}}_var_pairs_exh.tsv /pollard/home/kathleen/projects/AlleleAnalyzer/manuscript_analyses/set_cover_analysis/{{gene}}/{{gene_lower}}_arcplot_{} --sample_legend=/pollard/data/projects/AlleleAnalyzer_data/1kgp_data/1kg_allsamples.tsv --pop={} \" ::: AFR AMR EAS EUR SAS`\n",
    "\n",
    "### Plot arcplots together to demonstrate the different patterns of sharing.\n",
    "\n",
    "`python ~/projects/AlleleAnalyzer/manuscript_analyses/set_cover_analysis/src/superpops_for_arcplot_merged.py ~/projects/AlleleAnalyzer/manuscript_analyses/set_cover_analysis/{{gene}}/{{gene_lower}}_arcplot_ ~/projects/AlleleAnalyzer/manuscript_analyses/set_cover_analysis/{{gene}}/{{gene_lower}}_`\n",
    "\n",
    "`Rscript ~/projects/AlleleAnalyzer/manuscript_analyses/set_cover_analysis/src/arcplot_superpops_for_paper.R ~/projects/AlleleAnalyzer/manuscript_analyses/set_cover_analysis/{{gene}}/{{gene_lower}}_all_pops_arcplot_input.tsv ~/projects/AlleleAnalyzer/manuscript_analyses/set_cover_analysis/{{gene}}/{{gene_lower}}_filt15_allpops 15 {{start}} {{end}} 5000 {{gene}}`\n",
    "\n",
    "# Set Cover\n",
    "\n",
    "## Use set cover to identify top 5 variant pairs\n",
    "\n",
    "`python ~/projects/AlleleAnalyzer/scripts/optimize_ppl_covered.py --type=max_probes 5 ~/projects/AlleleAnalyzer/manuscript_analyses/set_cover_analysis/{{gene}}/{{gene_lower}}_var_pairs_exh.tsv ~/projects/AlleleAnalyzer/manuscript_analyses/set_cover_analysis/{{gene}}/{{gene_lower}}_set_cover_5_pairs`\n",
    "\n"
   ]
  },
  {
   "cell_type": "code",
   "execution_count": 2,
   "metadata": {},
   "outputs": [],
   "source": [
    "set_cover_top_pairs = pd.read_csv(f'/pollard/home/kathleen/projects/AlleleAnalyzer/manuscript_analyses/set_cover_analysis/{gene}/{gene_lower}_set_cover_5_pairs_pairs_used.txt',\n",
    "                          sep='\\t')"
   ]
  },
  {
   "cell_type": "code",
   "execution_count": 3,
   "metadata": {},
   "outputs": [
    {
     "data": {
      "text/html": [
       "<div>\n",
       "<style scoped>\n",
       "    .dataframe tbody tr th:only-of-type {\n",
       "        vertical-align: middle;\n",
       "    }\n",
       "\n",
       "    .dataframe tbody tr th {\n",
       "        vertical-align: top;\n",
       "    }\n",
       "\n",
       "    .dataframe thead th {\n",
       "        text-align: right;\n",
       "    }\n",
       "</style>\n",
       "<table border=\"1\" class=\"dataframe\">\n",
       "  <thead>\n",
       "    <tr style=\"text-align: right;\">\n",
       "      <th></th>\n",
       "      <th>var1</th>\n",
       "      <th>var2</th>\n",
       "    </tr>\n",
       "  </thead>\n",
       "  <tbody>\n",
       "    <tr>\n",
       "      <th>0</th>\n",
       "      <td>55038913</td>\n",
       "      <td>55039995</td>\n",
       "    </tr>\n",
       "    <tr>\n",
       "      <th>1</th>\n",
       "      <td>55052188</td>\n",
       "      <td>55052643</td>\n",
       "    </tr>\n",
       "    <tr>\n",
       "      <th>2</th>\n",
       "      <td>55055569</td>\n",
       "      <td>55056468</td>\n",
       "    </tr>\n",
       "    <tr>\n",
       "      <th>3</th>\n",
       "      <td>55058524</td>\n",
       "      <td>55058564</td>\n",
       "    </tr>\n",
       "    <tr>\n",
       "      <th>4</th>\n",
       "      <td>55059169</td>\n",
       "      <td>55059727</td>\n",
       "    </tr>\n",
       "  </tbody>\n",
       "</table>\n",
       "</div>"
      ],
      "text/plain": [
       "       var1      var2\n",
       "0  55038913  55039995\n",
       "1  55052188  55052643\n",
       "2  55055569  55056468\n",
       "3  55058524  55058564\n",
       "4  55059169  55059727"
      ]
     },
     "execution_count": 3,
     "metadata": {},
     "output_type": "execute_result"
    }
   ],
   "source": [
    "set_cover_top_pairs"
   ]
  },
  {
   "cell_type": "markdown",
   "metadata": {},
   "source": [
    "## Population coverage for set cover pairs"
   ]
  },
  {
   "cell_type": "code",
   "execution_count": 8,
   "metadata": {},
   "outputs": [],
   "source": [
    "def ppl_covered(guides_used_df, cohort_df):\n",
    "    guides_list = guides_used_df['var1'].tolist() + guides_used_df['var2'].tolist()\n",
    "    ppl_covered = cohort_df.query('(var1 in @guides_list) and (var2 in @guides_list)').copy()\n",
    "    return ppl_covered"
   ]
  },
  {
   "cell_type": "code",
   "execution_count": 9,
   "metadata": {},
   "outputs": [],
   "source": [
    "global pairs_to_ppl\n",
    "pairs_to_ppl = pd.read_csv(f'/pollard/home/kathleen/projects/AlleleAnalyzer/manuscript_analyses/set_cover_analysis/{gene}/{gene_lower}_var_pairs_exh.tsv',\n",
    "                          sep='\\t', low_memory=False)"
   ]
  },
  {
   "cell_type": "code",
   "execution_count": 10,
   "metadata": {},
   "outputs": [],
   "source": [
    "ptp_sc_5 = ppl_covered(set_cover_top_pairs, pairs_to_ppl)"
   ]
  },
  {
   "cell_type": "code",
   "execution_count": 11,
   "metadata": {},
   "outputs": [
    {
     "data": {
      "text/html": [
       "<div>\n",
       "<style scoped>\n",
       "    .dataframe tbody tr th:only-of-type {\n",
       "        vertical-align: middle;\n",
       "    }\n",
       "\n",
       "    .dataframe tbody tr th {\n",
       "        vertical-align: top;\n",
       "    }\n",
       "\n",
       "    .dataframe thead th {\n",
       "        text-align: right;\n",
       "    }\n",
       "</style>\n",
       "<table border=\"1\" class=\"dataframe\">\n",
       "  <thead>\n",
       "    <tr style=\"text-align: right;\">\n",
       "      <th></th>\n",
       "      <th>var1</th>\n",
       "      <th>var2</th>\n",
       "      <th>ind</th>\n",
       "      <th>targ_SpCas9</th>\n",
       "      <th>targ_SaCas9</th>\n",
       "    </tr>\n",
       "  </thead>\n",
       "  <tbody>\n",
       "    <tr>\n",
       "      <th>100</th>\n",
       "      <td>55052643</td>\n",
       "      <td>55055569</td>\n",
       "      <td>HG00096</td>\n",
       "      <td>SpCas9</td>\n",
       "      <td>NaN</td>\n",
       "    </tr>\n",
       "    <tr>\n",
       "      <th>111</th>\n",
       "      <td>55052643</td>\n",
       "      <td>55058524</td>\n",
       "      <td>HG00096</td>\n",
       "      <td>SpCas9</td>\n",
       "      <td>NaN</td>\n",
       "    </tr>\n",
       "    <tr>\n",
       "      <th>112</th>\n",
       "      <td>55052643</td>\n",
       "      <td>55058564</td>\n",
       "      <td>HG00096</td>\n",
       "      <td>SpCas9</td>\n",
       "      <td>NaN</td>\n",
       "    </tr>\n",
       "    <tr>\n",
       "      <th>293</th>\n",
       "      <td>55055569</td>\n",
       "      <td>55058524</td>\n",
       "      <td>HG00096</td>\n",
       "      <td>SpCas9</td>\n",
       "      <td>NaN</td>\n",
       "    </tr>\n",
       "    <tr>\n",
       "      <th>294</th>\n",
       "      <td>55055569</td>\n",
       "      <td>55058564</td>\n",
       "      <td>HG00096</td>\n",
       "      <td>SpCas9</td>\n",
       "      <td>NaN</td>\n",
       "    </tr>\n",
       "  </tbody>\n",
       "</table>\n",
       "</div>"
      ],
      "text/plain": [
       "         var1      var2      ind targ_SpCas9 targ_SaCas9\n",
       "100  55052643  55055569  HG00096      SpCas9         NaN\n",
       "111  55052643  55058524  HG00096      SpCas9         NaN\n",
       "112  55052643  55058564  HG00096      SpCas9         NaN\n",
       "293  55055569  55058524  HG00096      SpCas9         NaN\n",
       "294  55055569  55058564  HG00096      SpCas9         NaN"
      ]
     },
     "execution_count": 11,
     "metadata": {},
     "output_type": "execute_result"
    }
   ],
   "source": [
    "ptp_sc_5.head()"
   ]
  },
  {
   "cell_type": "markdown",
   "metadata": {},
   "source": [
    "# Top 5\n",
    "\n",
    "## Extract top 5 pairs by population coverage"
   ]
  },
  {
   "cell_type": "code",
   "execution_count": 12,
   "metadata": {},
   "outputs": [],
   "source": [
    "top_five_top_pairs = pd.read_csv(f'/pollard/home/kathleen/projects/AlleleAnalyzer/manuscript_analyses/set_cover_analysis/{gene}/{gene_lower}_arcplot_ALL.tsv',\n",
    "                              sep='\\t').sort_values(by='percent_pop_covered', ascending=False).head().reset_index(drop=True)"
   ]
  },
  {
   "cell_type": "code",
   "execution_count": 13,
   "metadata": {},
   "outputs": [],
   "source": [
    "ptp_top_5 = ppl_covered(top_five_top_pairs[['var1','var2']], pairs_to_ppl)"
   ]
  },
  {
   "cell_type": "markdown",
   "metadata": {},
   "source": [
    "Demonstrate the difference in population coverages between top 5 shared pairs and set cover identified pairs."
   ]
  },
  {
   "cell_type": "code",
   "execution_count": 14,
   "metadata": {},
   "outputs": [
    {
     "data": {
      "text/html": [
       "<div>\n",
       "<style scoped>\n",
       "    .dataframe tbody tr th:only-of-type {\n",
       "        vertical-align: middle;\n",
       "    }\n",
       "\n",
       "    .dataframe tbody tr th {\n",
       "        vertical-align: top;\n",
       "    }\n",
       "\n",
       "    .dataframe thead th {\n",
       "        text-align: right;\n",
       "    }\n",
       "</style>\n",
       "<table border=\"1\" class=\"dataframe\">\n",
       "  <thead>\n",
       "    <tr style=\"text-align: right;\">\n",
       "      <th></th>\n",
       "      <th>var1</th>\n",
       "      <th>var2</th>\n",
       "      <th>n_inds</th>\n",
       "      <th>percent_pop_covered</th>\n",
       "    </tr>\n",
       "  </thead>\n",
       "  <tbody>\n",
       "    <tr>\n",
       "      <th>0</th>\n",
       "      <td>55055569</td>\n",
       "      <td>55056468</td>\n",
       "      <td>909</td>\n",
       "      <td>36.301917</td>\n",
       "    </tr>\n",
       "    <tr>\n",
       "      <th>1</th>\n",
       "      <td>55059169</td>\n",
       "      <td>55059727</td>\n",
       "      <td>908</td>\n",
       "      <td>36.261981</td>\n",
       "    </tr>\n",
       "    <tr>\n",
       "      <th>2</th>\n",
       "      <td>55054539</td>\n",
       "      <td>55056468</td>\n",
       "      <td>907</td>\n",
       "      <td>36.222045</td>\n",
       "    </tr>\n",
       "    <tr>\n",
       "      <th>3</th>\n",
       "      <td>55054735</td>\n",
       "      <td>55056468</td>\n",
       "      <td>894</td>\n",
       "      <td>35.702875</td>\n",
       "    </tr>\n",
       "    <tr>\n",
       "      <th>4</th>\n",
       "      <td>55055436</td>\n",
       "      <td>55056468</td>\n",
       "      <td>889</td>\n",
       "      <td>35.503195</td>\n",
       "    </tr>\n",
       "  </tbody>\n",
       "</table>\n",
       "</div>"
      ],
      "text/plain": [
       "       var1      var2  n_inds  percent_pop_covered\n",
       "0  55055569  55056468     909            36.301917\n",
       "1  55059169  55059727     908            36.261981\n",
       "2  55054539  55056468     907            36.222045\n",
       "3  55054735  55056468     894            35.702875\n",
       "4  55055436  55056468     889            35.503195"
      ]
     },
     "execution_count": 14,
     "metadata": {},
     "output_type": "execute_result"
    }
   ],
   "source": [
    "top_five_top_pairs"
   ]
  },
  {
   "cell_type": "markdown",
   "metadata": {},
   "source": [
    "# Make arcplots for set cover and top 5 pairs\n",
    "\n",
    "Make file of set cover pairs for use with arcplot plotting script."
   ]
  },
  {
   "cell_type": "code",
   "execution_count": 15,
   "metadata": {},
   "outputs": [],
   "source": [
    "# set cover\n",
    "\n",
    "exh = pd.read_csv(f'/pollard/home/kathleen/projects/AlleleAnalyzer/manuscript_analyses/set_cover_analysis/{gene}/{gene_lower}_var_pairs_exh.tsv',\n",
    "                 sep='\\t', low_memory=False)\n",
    "\n",
    "exh_sc = []\n",
    "\n",
    "for ix, row in set_cover_top_pairs.iterrows():\n",
    "    var1 = row['var1']\n",
    "    var2 = row['var2']\n",
    "    exh_sc.append(pd.DataFrame(exh.query('(var1 == @var1) and (var2 == @var2)')))\n",
    "    \n",
    "exh_sc_df = pd.concat(exh_sc)\n",
    "\n",
    "exh_sc_df.to_csv(f'/pollard/home/kathleen/projects/AlleleAnalyzer/manuscript_analyses/set_cover_analysis/{gene}/{gene_lower}_var_pairs_exh_sc.tsv',\n",
    "                sep='\\t', index=False)"
   ]
  },
  {
   "cell_type": "code",
   "execution_count": 16,
   "metadata": {},
   "outputs": [],
   "source": [
    "# top 5\n",
    "\n",
    "exh = pd.read_csv(f'/pollard/home/kathleen/projects/AlleleAnalyzer/manuscript_analyses/set_cover_analysis/{gene}/{gene_lower}_var_pairs_exh.tsv',\n",
    "                 sep='\\t', low_memory=False)\n",
    "\n",
    "exh_tf = []\n",
    "\n",
    "for ix, row in top_five_top_pairs.iterrows():\n",
    "    var1 = row['var1']\n",
    "    var2 = row['var2']\n",
    "    exh_tf.append(pd.DataFrame(exh.query('(var1 == @var1) and (var2 == @var2)')))\n",
    "    \n",
    "exh_tf_df = pd.concat(exh_tf)\n",
    "\n",
    "exh_tf_df.to_csv(f'/pollard/home/kathleen/projects/AlleleAnalyzer/manuscript_analyses/set_cover_analysis/{gene}/{gene_lower}_var_pairs_exh_tf.tsv',\n",
    "                sep='\\t', index=False)"
   ]
  },
  {
   "cell_type": "markdown",
   "metadata": {
    "variables": {
     "end": "55064853",
     "gene": "PCSK9",
     "gene_lower": "pcsk9",
     "start": "55040221"
    }
   },
   "source": [
    "### Set cover\n",
    "\n",
    "Make input arcplot-formatted:\n",
    "\n",
    "`python ~/projects/AlleleAnalyzer/plotting_scripts/gen_arcplot_input.py /pollard/home/kathleen/projects/AlleleAnalyzer/manuscript_analyses/set_cover_analysis/{{gene}}/{{gene_lower}}_var_pairs_exh_sc.tsv /pollard/home/kathleen/projects/AlleleAnalyzer/manuscript_analyses/set_cover_analysis/{{gene}}/{{gene_lower}}_arcplot_set_cover_ALL`\n",
    "\n",
    "Make arcplot:\n",
    "\n",
    "`Rscript ~/projects/AlleleAnalyzer/plotting_scripts/arcplot_generic.R /pollard/home/kathleen/projects/AlleleAnalyzer/manuscript_analyses/set_cover_analysis/{{gene}}/{{gene_lower}}_arcplot_set_cover_ALL.tsv /pollard/home/kathleen/projects/AlleleAnalyzer/manuscript_analyses/set_cover_analysis/{{gene}}/{{gene_lower}}_arcplot_set_cover_ALL 0 {{start}} {{end}} 5000 {{gene}}`\n",
    "\n",
    "### Top 5\n",
    "\n",
    "Make input arcplot-formatted:\n",
    "\n",
    "`python ~/projects/AlleleAnalyzer/plotting_scripts/gen_arcplot_input.py /pollard/home/kathleen/projects/AlleleAnalyzer/manuscript_analyses/set_cover_analysis/{{gene}}/{{gene_lower}}_var_pairs_exh_tf.tsv /pollard/home/kathleen/projects/AlleleAnalyzer/manuscript_analyses/set_cover_analysis/{{gene}}/{{gene_lower}}_arcplot_top_five_ALL`\n",
    "\n",
    "Make arcplot:\n",
    "\n",
    "`Rscript ~/projects/AlleleAnalyzer/plotting_scripts/arcplot_generic.R /pollard/home/kathleen/projects/AlleleAnalyzer/manuscript_analyses/set_cover_analysis/{{gene}}/{{gene_lower}}_arcplot_top_five_ALL.tsv /pollard/home/kathleen/projects/AlleleAnalyzer/manuscript_analyses/set_cover_analysis/{{gene}}/{{gene_lower}}_arcplot_top_five_ALL 0 {{start}} {{end}} 5000 {{gene}}`"
   ]
  },
  {
   "cell_type": "markdown",
   "metadata": {},
   "source": [
    "# Compare coverage"
   ]
  },
  {
   "cell_type": "code",
   "execution_count": 17,
   "metadata": {},
   "outputs": [
    {
     "data": {
      "text/plain": [
       "Text(0.5, 1.0, 'AlleleAnalyzer')"
      ]
     },
     "execution_count": 17,
     "metadata": {},
     "output_type": "execute_result"
    },
    {
     "data": {
      "image/png": "[encoded data removed]",
      "text/plain": [
       "<Figure size 201.6x129.6 with 1 Axes>"
      ]
     },
     "metadata": {
      "needs_background": "light"
     },
     "output_type": "display_data"
    }
   ],
   "source": [
    "def cov_cat(row):\n",
    "    if row['sample'] in ptp_top_5['ind'].tolist() and row['sample'] in ptp_sc_5['ind'].tolist():\n",
    "        return 'Both'\n",
    "    elif row['sample'] in ptp_top_5['ind'].tolist():\n",
    "        return 'Top 5'\n",
    "    elif row['sample'] in ptp_sc_5['ind'].tolist():\n",
    "        return 'Set Cover'\n",
    "    else:\n",
    "        return 'Neither'\n",
    "global inds\n",
    "inds = pd.read_csv('/pollard/data/projects/AlleleAnalyzer_data/1kgp_data/1kg_allsamples.tsv',\n",
    "                  sep='\\t')\n",
    "inds_cov = inds.copy()\n",
    "inds_cov['AlleleAnalyzer'] = inds['sample'].isin(ptp_sc_5['ind'])\n",
    "inds_cov['Top 5'] = inds['sample'].isin(ptp_top_5['ind'])\n",
    "inds_cov['Coverage'] = inds_cov.apply(lambda row: cov_cat(row), axis=1)\n",
    "\n",
    "global superpop_dict\n",
    "superpop_dict = {\n",
    "    'AMR':'Admixed American',\n",
    "    'AFR':'African',\n",
    "    'SAS':'South Asian',\n",
    "    'EAS':'East Asian',\n",
    "    'EUR':'European'\n",
    "}\n",
    "\n",
    "sns.set_palette('Dark2', n_colors=3)\n",
    "fig, ax = plt.subplots(figsize=(2.8, 1.8))\n",
    "sns.countplot(y='superpop', hue='AlleleAnalyzer', data=inds_cov.replace(superpop_dict).replace({\n",
    "    True:'Covered',\n",
    "    False:'Not covered'\n",
    "}).sort_values(by=['superpop','Coverage']))\n",
    "plt.xlabel('Number of individuals')\n",
    "plt.ylabel('Super Populations')\n",
    "plt.xticks(rotation=0)\n",
    "ax.legend(loc='upper right',prop={'size': 9},\n",
    "         frameon=False,\n",
    "         borderaxespad=0.1)\n",
    "ax.set_xlim([0,600]) # 600 often works but can be tweaked per gene\n",
    "plt.title('AlleleAnalyzer')"
   ]
  },
  {
   "cell_type": "code",
   "execution_count": 18,
   "metadata": {},
   "outputs": [
    {
     "data": {
      "text/plain": [
       "Text(0.5, 1.0, 'Top 5')"
      ]
     },
     "execution_count": 18,
     "metadata": {},
     "output_type": "execute_result"
    },
    {
     "data": {
      "image/png": "[encoded data removed]",
      "text/plain": [
       "<Figure size 201.6x129.6 with 1 Axes>"
      ]
     },
     "metadata": {
      "needs_background": "light"
     },
     "output_type": "display_data"
    }
   ],
   "source": [
    "sns.set_palette('Dark2', n_colors=3)\n",
    "fig, ax = plt.subplots(figsize=(2.8, 1.8))\n",
    "sns.countplot(y='superpop', hue='Top 5', data=inds_cov.replace(superpop_dict).replace({\n",
    "    True:'Covered',\n",
    "    False:'Not covered'\n",
    "}).sort_values(by=['superpop','Coverage']))\n",
    "plt.xlabel('Number of individuals')\n",
    "plt.ylabel('Super Populations')\n",
    "plt.xticks(rotation=0)\n",
    "ax.legend(loc='upper right',prop={'size': 9},\n",
    "         frameon=False,\n",
    "         borderaxespad=0.1)\n",
    "ax.set_xlim([0,600]) # 600 often works but can be tweaked per gene\n",
    "plt.title('Top 5')"
   ]
  },
  {
   "cell_type": "markdown",
   "metadata": {},
   "source": [
    "# Design and score sgRNAs for variants included in Set Cover and Top 5 pairs\n",
    "\n",
    "## Set Cover\n",
    "### Make BED files for positions for each variant pair"
   ]
  },
  {
   "cell_type": "code",
   "execution_count": 19,
   "metadata": {},
   "outputs": [],
   "source": [
    "set_cover_bed = pd.DataFrame() \n",
    "set_cover_bed['start'] = set_cover_top_pairs['var1'].tolist() + set_cover_top_pairs['var2'].tolist()\n",
    "set_cover_bed['end'] = set_cover_top_pairs['var1'].tolist() + set_cover_top_pairs['var2'].tolist()\n",
    "set_cover_bed['region'] = set_cover_bed.index\n",
    "set_cover_bed['chrom'] = f'{chrom}'\n",
    "\n",
    "set_cover_bed = set_cover_bed[['chrom','start','end','region']]\n",
    "set_cover_bed.to_csv(f'/pollard/home/kathleen/projects/AlleleAnalyzer/manuscript_analyses/set_cover_analysis/{gene}/set_cover_pairs.bed',\n",
    "                    sep='\\t', index=False, header=False)"
   ]
  },
  {
   "cell_type": "markdown",
   "metadata": {
    "variables": {
     "chrom": "chr1",
     "gene": "PCSK9",
     "gene_lower": "pcsk9"
    }
   },
   "source": [
    "### Design sgRNAs\n",
    "\n",
    "`python ~/projects/AlleleAnalyzer/scripts/gen_sgRNAs.py -v /pollard/data/genetics/1kg/phase3/hg38/ALL.{{chrom}}_GRCh38.genotypes.20170504.bcf /pollard/data/projects/AlleleAnalyzer_data/1kgp_data/hg38_analysis/1kgp_annotated_variants_by_chrom/{{chrom}}_annotated.h5 /pollard/home/kathleen/projects/AlleleAnalyzer/manuscript_analyses/set_cover_analysis/{{gene}}/set_cover_pairs.bed /pollard/data/projects/AlleleAnalyzer_data/pam_sites_hg38/ /pollard/data/vertebrate_genomes/human/hg38/hg38/hg38.fa /pollard/home/kathleen/projects/AlleleAnalyzer/manuscript_analyses/set_cover_analysis/{{gene}}/guides_set_cover_{{gene_lower}} SpCas9,SaCas9 20 --bed --sim -d --crispor=hg38`"
   ]
  },
  {
   "cell_type": "markdown",
   "metadata": {},
   "source": [
    "## Top 5\n",
    "### Make BED files for positions for each variant pair"
   ]
  },
  {
   "cell_type": "code",
   "execution_count": 20,
   "metadata": {},
   "outputs": [],
   "source": [
    "top_five_bed = pd.DataFrame() \n",
    "top_five_bed['start'] = top_five_top_pairs['var1'].tolist() + top_five_top_pairs['var2'].tolist()\n",
    "top_five_bed['end'] = top_five_top_pairs['var1'].tolist() + top_five_top_pairs['var2'].tolist()\n",
    "top_five_bed['region'] = top_five_bed.index\n",
    "top_five_bed['chrom'] = f'{chrom}'\n",
    "\n",
    "top_five_bed = top_five_bed[['chrom','start','end','region']]\n",
    "top_five_bed.to_csv(f'/pollard/home/kathleen/projects/AlleleAnalyzer/manuscript_analyses/set_cover_analysis/{gene}/top_five_pairs.bed',\n",
    "                    sep='\\t', index=False, header=False)\n",
    "\n"
   ]
  },
  {
   "cell_type": "markdown",
   "metadata": {
    "variables": {
     "chrom": "chr1",
     "gene": "PCSK9",
     "gene_lower": "pcsk9"
    }
   },
   "source": [
    "### Design sgRNAs\n",
    "\n",
    "`python ~/projects/AlleleAnalyzer/scripts/gen_sgRNAs.py -v /pollard/data/genetics/1kg/phase3/hg38/ALL.{{chrom}}_GRCh38.genotypes.20170504.bcf /pollard/data/projects/AlleleAnalyzer_data/1kgp_data/hg38_analysis/1kgp_annotated_variants_by_chrom/{{chrom}}_annotated.h5 /pollard/home/kathleen/projects/AlleleAnalyzer/manuscript_analyses/set_cover_analysis/{{gene}}/top_five_pairs.bed /pollard/data/projects/AlleleAnalyzer_data/pam_sites_hg38/ /pollard/data/vertebrate_genomes/human/hg38/hg38/hg38.fa /pollard/home/kathleen/projects/AlleleAnalyzer/manuscript_analyses/set_cover_analysis/{{gene}}/guides_top_five_{{gene_lower}} SpCas9,SaCas9 20 --bed --sim -d --crispor=hg38`"
   ]
  },
  {
   "cell_type": "markdown",
   "metadata": {},
   "source": [
    "# Reanalyze coverage at positions with at least 1 sgRNA with predicted specificity score > threshold\n",
    "\n",
    "## Set Cover"
   ]
  },
  {
   "cell_type": "code",
   "execution_count": 21,
   "metadata": {},
   "outputs": [],
   "source": [
    "sc_grnas = pd.read_csv(f'/pollard/home/kathleen/projects/AlleleAnalyzer/manuscript_analyses/set_cover_analysis/{gene}/guides_set_cover_{gene_lower}.tsv',\n",
    "                      sep='\\t')\n",
    "\n",
    "def get_pairs(pairs_df, grna_df, min_score=0):\n",
    "    grna_df_spec = grna_df.query('(scores_ref >= @min_score) or (scores_alt >= @min_score)')\n",
    "    positions = grna_df_spec['variant_position'].astype(int).unique().tolist()\n",
    "    pairs_out = pairs_df.query('(var1 in @positions) and (var2 in @positions)').copy()\n",
    "    return(pairs_out)\n",
    "\n",
    "def plot_coverage(orig_pairs, grnas, min_score_list, xlim, legend_pos='lower right', sc=True):\n",
    "    if sc:\n",
    "        label = 'AlleleAnalyzer'\n",
    "    else:\n",
    "        label = 'Top 5'\n",
    "    \n",
    "    inds_cov_df_list = []\n",
    "    for min_score in min_score_list:\n",
    "        pairs_filt = get_pairs(orig_pairs, grnas, min_score = min_score)\n",
    "        ptp = ppl_covered(pairs_filt, pairs_to_ppl)\n",
    "        inds_cov = inds.copy()\n",
    "        inds_cov['Coverage'] = inds['sample'].isin(ptp['ind'])\n",
    "        inds_cov['Minimum Specificity Score'] = min_score\n",
    "        inds_cov_df_list.append(inds_cov)\n",
    "    \n",
    "    inds_cov = pd.concat(inds_cov_df_list).query('Coverage').drop_duplicates()\n",
    "    \n",
    "    fig, ax = plt.subplots(figsize=(3.8, 5.8))\n",
    "    p = sns.countplot(y='superpop', hue='Minimum Specificity Score', \n",
    "                      data=inds_cov.replace(superpop_dict).sort_values(by=['superpop']), palette='magma')\n",
    "#     p = sns.catplot(y='superpop', hue='Minimum Specificity Score', kind='count', row='superpop',\n",
    "#                       data=inds_cov.replace(superpop_dict).sort_values(by=['superpop']), palette='magma')\n",
    "    plt.xlabel('Number of individuals')\n",
    "    plt.ylabel('Super Populations')\n",
    "#     plt.xticks(rotation=45)\n",
    "    plt.legend(loc=legend_pos,prop={'size': 9},\n",
    "         frameon=False,\n",
    "         borderaxespad=0.1,\n",
    "              title='Minimum score')\n",
    "    ax.set_xlim([0,xlim])\n",
    "    if sc:\n",
    "        plt.title(f'AlleleAnalyzer coverage at various \\nminimum score thresholds, {gene}')\n",
    "    else:\n",
    "        plt.title(f'Top 5 sites at various \\nminimum score thresholds, {gene}')\n",
    "    return p"
   ]
  },
  {
   "cell_type": "code",
   "execution_count": 22,
   "metadata": {},
   "outputs": [
    {
     "data": {
      "text/html": [
       "<div>\n",
       "<style scoped>\n",
       "    .dataframe tbody tr th:only-of-type {\n",
       "        vertical-align: middle;\n",
       "    }\n",
       "\n",
       "    .dataframe tbody tr th {\n",
       "        vertical-align: top;\n",
       "    }\n",
       "\n",
       "    .dataframe thead th {\n",
       "        text-align: right;\n",
       "    }\n",
       "</style>\n",
       "<table border=\"1\" class=\"dataframe\">\n",
       "  <thead>\n",
       "    <tr style=\"text-align: right;\">\n",
       "      <th></th>\n",
       "      <th>var1</th>\n",
       "      <th>var2</th>\n",
       "    </tr>\n",
       "  </thead>\n",
       "  <tbody>\n",
       "    <tr>\n",
       "      <th>0</th>\n",
       "      <td>55038913</td>\n",
       "      <td>55039995</td>\n",
       "    </tr>\n",
       "    <tr>\n",
       "      <th>1</th>\n",
       "      <td>55052188</td>\n",
       "      <td>55052643</td>\n",
       "    </tr>\n",
       "    <tr>\n",
       "      <th>2</th>\n",
       "      <td>55055569</td>\n",
       "      <td>55056468</td>\n",
       "    </tr>\n",
       "    <tr>\n",
       "      <th>3</th>\n",
       "      <td>55058524</td>\n",
       "      <td>55058564</td>\n",
       "    </tr>\n",
       "    <tr>\n",
       "      <th>4</th>\n",
       "      <td>55059169</td>\n",
       "      <td>55059727</td>\n",
       "    </tr>\n",
       "  </tbody>\n",
       "</table>\n",
       "</div>"
      ],
      "text/plain": [
       "       var1      var2\n",
       "0  55038913  55039995\n",
       "1  55052188  55052643\n",
       "2  55055569  55056468\n",
       "3  55058524  55058564\n",
       "4  55059169  55059727"
      ]
     },
     "execution_count": 22,
     "metadata": {},
     "output_type": "execute_result"
    }
   ],
   "source": [
    "set_cover_top_pairs.head()"
   ]
  },
  {
   "cell_type": "code",
   "execution_count": 23,
   "metadata": {},
   "outputs": [
    {
     "data": {
      "text/plain": [
       "(array([0, 1, 2, 3, 4, 5, 6, 7, 8, 9]), <a list of 10 Text xticklabel objects>)"
      ]
     },
     "execution_count": 23,
     "metadata": {},
     "output_type": "execute_result"
    },
    {
     "data": {
      "image/png": "[encoded data removed]",
      "text/plain": [
       "<Figure size 432x288 with 1 Axes>"
      ]
     },
     "metadata": {
      "needs_background": "light"
     },
     "output_type": "display_data"
    }
   ],
   "source": [
    "sns.swarmplot(x='variant_position', y='scores_ref', data=sc_grnas)\n",
    "plt.xticks(rotation=90)"
   ]
  },
  {
   "cell_type": "code",
   "execution_count": 24,
   "metadata": {},
   "outputs": [
    {
     "data": {
      "image/png": "[encoded data removed]",
      "text/plain": [
       "<Figure size 273.6x417.6 with 1 Axes>"
      ]
     },
     "metadata": {
      "needs_background": "light"
     },
     "output_type": "display_data"
    }
   ],
   "source": [
    "p = plot_coverage(set_cover_top_pairs, sc_grnas, list(range(0, 100, 10)), 600, 'lower right')"
   ]
  },
  {
   "cell_type": "code",
   "execution_count": 25,
   "metadata": {},
   "outputs": [],
   "source": [
    "p.get_figure().savefig(f'/pollard/home/kathleen/projects/AlleleAnalyzer/manuscript_analyses/set_cover_analysis/{gene}/sc_coverage_all.pdf',\n",
    "                      dpi=300, bbox_inches='tight')"
   ]
  },
  {
   "cell_type": "code",
   "execution_count": 26,
   "metadata": {},
   "outputs": [],
   "source": [
    "def plot_overall(orig_pairs, grnas, max_y):\n",
    "    \n",
    "    filters = list(range(0,100,10))\n",
    "\n",
    "    plot_vals = {}\n",
    "\n",
    "    for filt in filters:\n",
    "        pairs_filt = get_pairs(orig_pairs, grnas, min_score = filt)\n",
    "        ptp = ppl_covered(pairs_filt, pairs_to_ppl)\n",
    "        plot_vals[filt] = 100.0* (len(ptp['ind'].unique())/2504.0)\n",
    "\n",
    "    plot_vals_df = pd.DataFrame.from_dict(plot_vals, orient='index')\n",
    "    plot_vals_df['Minimum Score'] = plot_vals_df.index\n",
    "    plot_vals_df.columns = ['% 1KGP Covered','Minimum Score']\n",
    "    \n",
    "    fig, ax = plt.subplots(figsize=(3.8, 2.8))\n",
    "\n",
    "    p = sns.barplot(x='Minimum Score', y='% 1KGP Covered', \n",
    "               data=plot_vals_df, palette='magma')\n",
    "    plt.title(f'Overall 1KGP Coverage with Filtering\\n by Predicted Specificity Score, {gene}')\n",
    "    plt.xlabel('Minimum Score Threshold')\n",
    "    ax.set_ylim([0,max_y])\n",
    "    \n",
    "    return(p)"
   ]
  },
  {
   "cell_type": "code",
   "execution_count": 27,
   "metadata": {},
   "outputs": [
    {
     "data": {
      "image/png": "[encoded data removed]",
      "text/plain": [
       "<Figure size 273.6x201.6 with 1 Axes>"
      ]
     },
     "metadata": {
      "needs_background": "light"
     },
     "output_type": "display_data"
    }
   ],
   "source": [
    "sc_overall_plot = plot_overall(set_cover_top_pairs, sc_grnas, 90)"
   ]
  },
  {
   "cell_type": "code",
   "execution_count": 28,
   "metadata": {},
   "outputs": [],
   "source": [
    "sc_overall_plot.get_figure().savefig(f'/pollard/home/kathleen/projects/AlleleAnalyzer/manuscript_analyses/set_cover_analysis/{gene}/1kgp_cov_overall_set_cover.pdf',\n",
    "                                  dpi=300, bbox_inches='tight')"
   ]
  },
  {
   "cell_type": "markdown",
   "metadata": {},
   "source": [
    "## Top 5"
   ]
  },
  {
   "cell_type": "code",
   "execution_count": 29,
   "metadata": {},
   "outputs": [],
   "source": [
    "tf_grnas = pd.read_csv(f'/pollard/home/kathleen/projects/AlleleAnalyzer/manuscript_analyses/set_cover_analysis/{gene}/guides_top_five_{gene_lower}.tsv',\n",
    "                      sep='\\t')"
   ]
  },
  {
   "cell_type": "code",
   "execution_count": 30,
   "metadata": {},
   "outputs": [
    {
     "data": {
      "image/png": "[encoded data removed]",
      "text/plain": [
       "<Figure size 273.6x417.6 with 1 Axes>"
      ]
     },
     "metadata": {
      "needs_background": "light"
     },
     "output_type": "display_data"
    }
   ],
   "source": [
    "p = plot_coverage(top_five_top_pairs, tf_grnas, list(range(0, 100, 10)), 600, 'lower right', sc=False)"
   ]
  },
  {
   "cell_type": "code",
   "execution_count": 31,
   "metadata": {},
   "outputs": [],
   "source": [
    "p.get_figure().savefig(f'/pollard/home/kathleen/projects/AlleleAnalyzer/manuscript_analyses/set_cover_analysis/{gene}/tf_coverage_all.pdf',\n",
    "                      dpi=300, bbox_inches='tight')"
   ]
  },
  {
   "cell_type": "code",
   "execution_count": 32,
   "metadata": {},
   "outputs": [
    {
     "data": {
      "image/png": "[encoded data removed]",
      "text/plain": [
       "<Figure size 273.6x201.6 with 1 Axes>"
      ]
     },
     "metadata": {
      "needs_background": "light"
     },
     "output_type": "display_data"
    }
   ],
   "source": [
    "tf_overall_plot = plot_overall(top_five_top_pairs, tf_grnas, 90)"
   ]
  },
  {
   "cell_type": "code",
   "execution_count": 33,
   "metadata": {},
   "outputs": [],
   "source": [
    "tf_overall_plot.get_figure().savefig(f'/pollard/home/kathleen/projects/AlleleAnalyzer/manuscript_analyses/set_cover_analysis/{gene}/1kgp_cov_overall_top_five.pdf',\n",
    "                                  dpi=300, bbox_inches='tight')"
   ]
  },
  {
   "cell_type": "code",
   "execution_count": null,
   "metadata": {},
   "outputs": [],
   "source": []
  }
 ],
 "metadata": {
  "kernelspec": {
   "display_name": "Python 3",
   "language": "python",
   "name": "python3"
  },
  "language_info": {
   "codemirror_mode": {
    "name": "ipython",
    "version": 3
   },
   "file_extension": ".py",
   "mimetype": "text/x-python",
   "name": "python",
   "nbconvert_exporter": "python",
   "pygments_lexer": "ipython3",
   "version": "3.7.1"
  },
  "toc": {
   "base_numbering": 1,
   "nav_menu": {},
   "number_sections": true,
   "sideBar": true,
   "skip_h1_title": false,
   "title_cell": "Table of Contents",
   "title_sidebar": "Contents",
   "toc_cell": false,
   "toc_position": {},
   "toc_section_display": true,
   "toc_window_display": false
  }
 },
 "nbformat": 4,
 "nbformat_minor": 2
}
