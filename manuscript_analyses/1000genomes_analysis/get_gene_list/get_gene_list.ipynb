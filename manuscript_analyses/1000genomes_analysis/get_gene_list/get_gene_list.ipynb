{
 "cells": [
  {
   "cell_type": "code",
   "execution_count": 1,
   "metadata": {},
   "outputs": [],
   "source": [
    "import numpy as np\n",
    "import pandas as pd"
   ]
  },
  {
   "cell_type": "markdown",
   "metadata": {},
   "source": [
    "# GrCh37\n",
    "\n",
    "Download RefSeq transcript annotations from [UCSC Table Browser](http://rohsdb.cmb.usc.edu/GBshape/cgi-bin/hgTables?hgsid=3960312_ZMTtI4bvavkuiWrNuR3OxAWB52dn&clade=mammal&org=Human&db=hg19&hgta_group=genes&hgta_track=ensGene&hgta_table=0&hgta_regionType=genome&position=chr21%3A33031597-33041570&hgta_outputType=primaryTable&hgta_outFileName=) using settings specified in the [wiki](https://github.com/keoughkath/ExcisionFinder/wiki/Get-gene-annotations). Alternatively, get this file [here](http://lighthouse.ucsf.edu/public_files_no_password/excisionFinderData_public/gene_annots/).\n",
    "\n",
    "# GrCh38\n",
    "\n",
    "Download RefSeq annotations from UCSC Table Browser using settings specified in the [wiki](https://github.com/keoughkath/ExcisionFinder/wiki/Get-gene-annotations). Alternatively, get this file [here](http://lighthouse.ucsf.edu/public_files_no_password/excisionFinderData_public/gene_annots/)."
   ]
  },
  {
   "cell_type": "code",
   "execution_count": 2,
   "metadata": {
    "collapsed": true
   },
   "outputs": [],
   "source": [
    "chroms = list(range(1,23)) + ['X','Y']\n",
    "\n",
    "chroms_ = []\n",
    "\n",
    "for chrom in chroms:\n",
    "    chroms_.append('chr' + str(chrom))\n",
    "    \n",
    "chroms = chroms_"
   ]
  },
  {
   "cell_type": "code",
   "execution_count": 3,
   "metadata": {
    "collapsed": true
   },
   "outputs": [],
   "source": [
    "def get_gene_annots(infile):\n",
    "    gene_df = pd.read_csv(infile, sep='\\t',\n",
    "                          usecols = ['name','chrom','txStart','txEnd',\n",
    "                                    'cdsStart','cdsEnd','exonCount','exonStarts',\n",
    "                                    'exonEnds','name2'])\n",
    "    gene_df['size'] = gene_df['txEnd'] - gene_df['txStart']\n",
    "    return gene_df"
   ]
  },
  {
   "cell_type": "code",
   "execution_count": 4,
   "metadata": {
    "collapsed": true
   },
   "outputs": [],
   "source": [
    "def filter_gene_annots(in_df):\n",
    "    out_df = in_df[['name', 'chrom', 'txStart', 'txEnd', 'cdsStart', 'cdsEnd', 'exonCount',\n",
    "       'exonStarts', 'exonEnds', 'size']].copy()\n",
    "    out_df['official_gene_symbol'] = in_df['name2']\n",
    "\n",
    "    gene_list_out = out_df.query('chrom in @chroms').dropna(axis=0).sort_values(by='size', ascending=False).groupby('official_gene_symbol').first()\n",
    "    return gene_list_out"
   ]
  },
  {
   "cell_type": "markdown",
   "metadata": {},
   "source": [
    "# GrCh37"
   ]
  },
  {
   "cell_type": "markdown",
   "metadata": {},
   "source": [
    "Load gene annotations (input is the file you generated following the instructions above from the UCSC Table Browser)."
   ]
  },
  {
   "cell_type": "code",
   "execution_count": 10,
   "metadata": {
    "collapsed": true
   },
   "outputs": [],
   "source": [
    "hg19_in = get_gene_annots('ncbi_refseq_genes_hg19.txt')"
   ]
  },
  {
   "cell_type": "markdown",
   "metadata": {},
   "source": [
    "Filter for canonical transcript."
   ]
  },
  {
   "cell_type": "code",
   "execution_count": 11,
   "metadata": {},
   "outputs": [
    {
     "name": "stdout",
     "output_type": "stream",
     "text": [
      "27090\n"
     ]
    }
   ],
   "source": [
    "gene_list_hg19 = filter_gene_annots(hg19_in)\n",
    "print(len(gene_list_hg19))"
   ]
  },
  {
   "cell_type": "markdown",
   "metadata": {},
   "source": [
    "Save to file."
   ]
  },
  {
   "cell_type": "code",
   "execution_count": 7,
   "metadata": {
    "collapsed": true
   },
   "outputs": [],
   "source": [
    "df = pd.read_csv('/pollard/home/kathleen/projects/AlleleAnalyzer/manuscript_analyses/1000genomes_analysis/get_gene_list/gene_list_hg19.tsv',\n",
    "                sep=\"\\t\",\n",
    "        header=0,\n",
    "        names=[\n",
    "            \"name\",\n",
    "            \"chrom\",\n",
    "            \"txStart\",\n",
    "            \"txEnd\",\n",
    "            \"cdsStart\",\n",
    "            \"cdsEnd\",\n",
    "            \"exonCount\",\n",
    "            \"exonStarts\",\n",
    "            \"exonEnds\",\n",
    "            \"size\",\n",
    "        ],\n",
    "                )"
   ]
  },
  {
   "cell_type": "code",
   "execution_count": 8,
   "metadata": {
    "collapsed": true
   },
   "outputs": [],
   "source": [
    "df['ogs'] = df.index\n",
    "df = df.reset_index(drop=True)"
   ]
  },
  {
   "cell_type": "code",
   "execution_count": 9,
   "metadata": {},
   "outputs": [
    {
     "data": {
      "text/html": [
       "<div>\n",
       "<style scoped>\n",
       "    .dataframe tbody tr th:only-of-type {\n",
       "        vertical-align: middle;\n",
       "    }\n",
       "\n",
       "    .dataframe tbody tr th {\n",
       "        vertical-align: top;\n",
       "    }\n",
       "\n",
       "    .dataframe thead th {\n",
       "        text-align: right;\n",
       "    }\n",
       "</style>\n",
       "<table border=\"1\" class=\"dataframe\">\n",
       "  <thead>\n",
       "    <tr style=\"text-align: right;\">\n",
       "      <th></th>\n",
       "      <th>name</th>\n",
       "      <th>chrom</th>\n",
       "      <th>txStart</th>\n",
       "      <th>txEnd</th>\n",
       "      <th>cdsStart</th>\n",
       "      <th>cdsEnd</th>\n",
       "      <th>exonCount</th>\n",
       "      <th>exonStarts</th>\n",
       "      <th>exonEnds</th>\n",
       "      <th>size</th>\n",
       "      <th>ogs</th>\n",
       "    </tr>\n",
       "  </thead>\n",
       "  <tbody>\n",
       "    <tr>\n",
       "      <th>1694</th>\n",
       "      <td>NR_134580.1</td>\n",
       "      <td>chr11</td>\n",
       "      <td>61717355</td>\n",
       "      <td>61731935</td>\n",
       "      <td>61731935</td>\n",
       "      <td>61731935</td>\n",
       "      <td>11</td>\n",
       "      <td>61717355,61719242,61722578,61723189,61724315,6...</td>\n",
       "      <td>61717899,61719430,61722673,61723423,61724470,6...</td>\n",
       "      <td>14580</td>\n",
       "      <td>BEST1</td>\n",
       "    </tr>\n",
       "  </tbody>\n",
       "</table>\n",
       "</div>"
      ],
      "text/plain": [
       "             name  chrom   txStart     txEnd  cdsStart    cdsEnd  exonCount  \\\n",
       "1694  NR_134580.1  chr11  61717355  61731935  61731935  61731935         11   \n",
       "\n",
       "                                             exonStarts  \\\n",
       "1694  61717355,61719242,61722578,61723189,61724315,6...   \n",
       "\n",
       "                                               exonEnds   size    ogs  \n",
       "1694  61717899,61719430,61722673,61723423,61724470,6...  14580  BEST1  "
      ]
     },
     "execution_count": 9,
     "metadata": {},
     "output_type": "execute_result"
    }
   ],
   "source": [
    "df.query('ogs == \"BEST1\"')"
   ]
  },
  {
   "cell_type": "code",
   "execution_count": 49,
   "metadata": {},
   "outputs": [
    {
     "data": {
      "text/html": [
       "<div>\n",
       "<style scoped>\n",
       "    .dataframe tbody tr th:only-of-type {\n",
       "        vertical-align: middle;\n",
       "    }\n",
       "\n",
       "    .dataframe tbody tr th {\n",
       "        vertical-align: top;\n",
       "    }\n",
       "\n",
       "    .dataframe thead th {\n",
       "        text-align: right;\n",
       "    }\n",
       "</style>\n",
       "<table border=\"1\" class=\"dataframe\">\n",
       "  <thead>\n",
       "    <tr style=\"text-align: right;\">\n",
       "      <th></th>\n",
       "      <th>name</th>\n",
       "      <th>chrom</th>\n",
       "      <th>txStart</th>\n",
       "      <th>txEnd</th>\n",
       "      <th>cdsStart</th>\n",
       "      <th>cdsEnd</th>\n",
       "      <th>exonCount</th>\n",
       "      <th>exonStarts</th>\n",
       "      <th>exonEnds</th>\n",
       "      <th>size</th>\n",
       "    </tr>\n",
       "    <tr>\n",
       "      <th>official_gene_symbol</th>\n",
       "      <th></th>\n",
       "      <th></th>\n",
       "      <th></th>\n",
       "      <th></th>\n",
       "      <th></th>\n",
       "      <th></th>\n",
       "      <th></th>\n",
       "      <th></th>\n",
       "      <th></th>\n",
       "      <th></th>\n",
       "    </tr>\n",
       "  </thead>\n",
       "  <tbody>\n",
       "    <tr>\n",
       "      <th>BEST1</th>\n",
       "      <td>NR_134580.1</td>\n",
       "      <td>chr11</td>\n",
       "      <td>61717355</td>\n",
       "      <td>61731935</td>\n",
       "      <td>61731935</td>\n",
       "      <td>61731935</td>\n",
       "      <td>11</td>\n",
       "      <td>61717355,61719242,61722578,61723189,61724315,6...</td>\n",
       "      <td>61717899,61719430,61722673,61723423,61724470,6...</td>\n",
       "      <td>14580</td>\n",
       "    </tr>\n",
       "  </tbody>\n",
       "</table>\n",
       "</div>"
      ],
      "text/plain": [
       "                             name  chrom   txStart     txEnd  cdsStart  \\\n",
       "official_gene_symbol                                                     \n",
       "BEST1                 NR_134580.1  chr11  61717355  61731935  61731935   \n",
       "\n",
       "                        cdsEnd  exonCount  \\\n",
       "official_gene_symbol                        \n",
       "BEST1                 61731935         11   \n",
       "\n",
       "                                                             exonStarts  \\\n",
       "official_gene_symbol                                                      \n",
       "BEST1                 61717355,61719242,61722578,61723189,61724315,6...   \n",
       "\n",
       "                                                               exonEnds   size  \n",
       "official_gene_symbol                                                            \n",
       "BEST1                 61717899,61719430,61722673,61723423,61724470,6...  14580  "
      ]
     },
     "execution_count": 49,
     "metadata": {},
     "output_type": "execute_result"
    }
   ],
   "source": [
    "gene_list_hg19.query('official_gene_symbol == \"BEST1\"')"
   ]
  },
  {
   "cell_type": "code",
   "execution_count": 12,
   "metadata": {
    "collapsed": true
   },
   "outputs": [],
   "source": [
    "gene_list_hg19.to_csv('gene_list_hg19.tsv', sep='\\t')\n",
    "\n",
    "# save just gene names to another file\n",
    "\n",
    "with open('genes_hg19.txt','w') as f:\n",
    "    for gene in gene_list_hg19.index:\n",
    "        f.write(gene + '\\n')\n",
    "        \n",
    "with open('chroms_hg19.txt','w') as f:\n",
    "    for chrom in gene_list_hg19['chrom'].tolist():\n",
    "        f.write(chrom + '\\n')"
   ]
  },
  {
   "cell_type": "code",
   "execution_count": 50,
   "metadata": {
    "collapsed": true
   },
   "outputs": [],
   "source": [
    "check = pd.read_hdf('/pollard/data/projects/AlleleAnalyzer_data/1kgp_data/hg19_analysis/1kgp_annotated_variants_by_chrom/chr11_annotated.h5',\n",
    "                   'all', where='pos >= 61717355 and pos <= 61731935')"
   ]
  },
  {
   "cell_type": "code",
   "execution_count": 51,
   "metadata": {},
   "outputs": [
    {
     "data": {
      "text/html": [
       "<div>\n",
       "<style scoped>\n",
       "    .dataframe tbody tr th:only-of-type {\n",
       "        vertical-align: middle;\n",
       "    }\n",
       "\n",
       "    .dataframe tbody tr th {\n",
       "        vertical-align: top;\n",
       "    }\n",
       "\n",
       "    .dataframe thead th {\n",
       "        text-align: right;\n",
       "    }\n",
       "</style>\n",
       "<table border=\"1\" class=\"dataframe\">\n",
       "  <thead>\n",
       "    <tr style=\"text-align: right;\">\n",
       "      <th></th>\n",
       "      <th>chrom</th>\n",
       "      <th>pos</th>\n",
       "      <th>ref</th>\n",
       "      <th>alt</th>\n",
       "      <th>makes_cpf1</th>\n",
       "      <th>breaks_cpf1</th>\n",
       "      <th>var_near_cpf1</th>\n",
       "      <th>makes_SpCas9</th>\n",
       "      <th>breaks_SpCas9</th>\n",
       "      <th>var_near_SpCas9</th>\n",
       "      <th>...</th>\n",
       "      <th>makes_SaCas9_KKH</th>\n",
       "      <th>breaks_SaCas9_KKH</th>\n",
       "      <th>var_near_SaCas9_KKH</th>\n",
       "      <th>makes_nmCas9</th>\n",
       "      <th>breaks_nmCas9</th>\n",
       "      <th>var_near_nmCas9</th>\n",
       "      <th>makes_cjCas9</th>\n",
       "      <th>breaks_cjCas9</th>\n",
       "      <th>var_near_cjCas9</th>\n",
       "      <th>region</th>\n",
       "    </tr>\n",
       "  </thead>\n",
       "  <tbody>\n",
       "    <tr>\n",
       "      <th>180</th>\n",
       "      <td>11</td>\n",
       "      <td>61717400</td>\n",
       "      <td>T</td>\n",
       "      <td>C</td>\n",
       "      <td>False</td>\n",
       "      <td>False</td>\n",
       "      <td>False</td>\n",
       "      <td>False</td>\n",
       "      <td>False</td>\n",
       "      <td>True</td>\n",
       "      <td>...</td>\n",
       "      <td>False</td>\n",
       "      <td>False</td>\n",
       "      <td>True</td>\n",
       "      <td>False</td>\n",
       "      <td>False</td>\n",
       "      <td>False</td>\n",
       "      <td>False</td>\n",
       "      <td>False</td>\n",
       "      <td>True</td>\n",
       "      <td>region203295</td>\n",
       "    </tr>\n",
       "    <tr>\n",
       "      <th>181</th>\n",
       "      <td>11</td>\n",
       "      <td>61717412</td>\n",
       "      <td>A</td>\n",
       "      <td>G</td>\n",
       "      <td>False</td>\n",
       "      <td>False</td>\n",
       "      <td>True</td>\n",
       "      <td>False</td>\n",
       "      <td>False</td>\n",
       "      <td>True</td>\n",
       "      <td>...</td>\n",
       "      <td>False</td>\n",
       "      <td>False</td>\n",
       "      <td>True</td>\n",
       "      <td>False</td>\n",
       "      <td>False</td>\n",
       "      <td>False</td>\n",
       "      <td>False</td>\n",
       "      <td>False</td>\n",
       "      <td>True</td>\n",
       "      <td>region203295</td>\n",
       "    </tr>\n",
       "    <tr>\n",
       "      <th>182</th>\n",
       "      <td>11</td>\n",
       "      <td>61717444</td>\n",
       "      <td>C</td>\n",
       "      <td>G</td>\n",
       "      <td>False</td>\n",
       "      <td>False</td>\n",
       "      <td>False</td>\n",
       "      <td>False</td>\n",
       "      <td>True</td>\n",
       "      <td>True</td>\n",
       "      <td>...</td>\n",
       "      <td>False</td>\n",
       "      <td>False</td>\n",
       "      <td>True</td>\n",
       "      <td>False</td>\n",
       "      <td>False</td>\n",
       "      <td>False</td>\n",
       "      <td>False</td>\n",
       "      <td>False</td>\n",
       "      <td>True</td>\n",
       "      <td>region203295</td>\n",
       "    </tr>\n",
       "    <tr>\n",
       "      <th>183</th>\n",
       "      <td>11</td>\n",
       "      <td>61717508</td>\n",
       "      <td>C</td>\n",
       "      <td>T</td>\n",
       "      <td>False</td>\n",
       "      <td>False</td>\n",
       "      <td>False</td>\n",
       "      <td>False</td>\n",
       "      <td>True</td>\n",
       "      <td>True</td>\n",
       "      <td>...</td>\n",
       "      <td>False</td>\n",
       "      <td>False</td>\n",
       "      <td>False</td>\n",
       "      <td>False</td>\n",
       "      <td>False</td>\n",
       "      <td>False</td>\n",
       "      <td>False</td>\n",
       "      <td>False</td>\n",
       "      <td>False</td>\n",
       "      <td>region203295</td>\n",
       "    </tr>\n",
       "    <tr>\n",
       "      <th>184</th>\n",
       "      <td>11</td>\n",
       "      <td>61717552</td>\n",
       "      <td>G</td>\n",
       "      <td>A</td>\n",
       "      <td>False</td>\n",
       "      <td>False</td>\n",
       "      <td>False</td>\n",
       "      <td>False</td>\n",
       "      <td>True</td>\n",
       "      <td>True</td>\n",
       "      <td>...</td>\n",
       "      <td>False</td>\n",
       "      <td>False</td>\n",
       "      <td>True</td>\n",
       "      <td>False</td>\n",
       "      <td>False</td>\n",
       "      <td>True</td>\n",
       "      <td>False</td>\n",
       "      <td>False</td>\n",
       "      <td>False</td>\n",
       "      <td>region203295</td>\n",
       "    </tr>\n",
       "  </tbody>\n",
       "</table>\n",
       "<p>5 rows × 41 columns</p>\n",
       "</div>"
      ],
      "text/plain": [
       "     chrom       pos ref alt  makes_cpf1  breaks_cpf1  var_near_cpf1  \\\n",
       "180     11  61717400   T   C       False        False          False   \n",
       "181     11  61717412   A   G       False        False           True   \n",
       "182     11  61717444   C   G       False        False          False   \n",
       "183     11  61717508   C   T       False        False          False   \n",
       "184     11  61717552   G   A       False        False          False   \n",
       "\n",
       "     makes_SpCas9  breaks_SpCas9  var_near_SpCas9      ...       \\\n",
       "180         False          False             True      ...        \n",
       "181         False          False             True      ...        \n",
       "182         False           True             True      ...        \n",
       "183         False           True             True      ...        \n",
       "184         False           True             True      ...        \n",
       "\n",
       "     makes_SaCas9_KKH  breaks_SaCas9_KKH  var_near_SaCas9_KKH  makes_nmCas9  \\\n",
       "180             False              False                 True         False   \n",
       "181             False              False                 True         False   \n",
       "182             False              False                 True         False   \n",
       "183             False              False                False         False   \n",
       "184             False              False                 True         False   \n",
       "\n",
       "     breaks_nmCas9  var_near_nmCas9  makes_cjCas9  breaks_cjCas9  \\\n",
       "180          False            False         False          False   \n",
       "181          False            False         False          False   \n",
       "182          False            False         False          False   \n",
       "183          False            False         False          False   \n",
       "184          False             True         False          False   \n",
       "\n",
       "     var_near_cjCas9        region  \n",
       "180             True  region203295  \n",
       "181             True  region203295  \n",
       "182             True  region203295  \n",
       "183            False  region203295  \n",
       "184            False  region203295  \n",
       "\n",
       "[5 rows x 41 columns]"
      ]
     },
     "execution_count": 51,
     "metadata": {},
     "output_type": "execute_result"
    }
   ],
   "source": [
    "check.head()"
   ]
  },
  {
   "cell_type": "markdown",
   "metadata": {
    "collapsed": true
   },
   "source": [
    "# GrCh38 "
   ]
  },
  {
   "cell_type": "markdown",
   "metadata": {},
   "source": [
    "Load gene annotations (input is the file you generated following the instructions above from the UCSC Table Browser)."
   ]
  },
  {
   "cell_type": "code",
   "execution_count": 28,
   "metadata": {
    "collapsed": true
   },
   "outputs": [],
   "source": [
    "hg38_in = get_gene_annots('ncbi_refseq_genes_hg38.txt')"
   ]
  },
  {
   "cell_type": "markdown",
   "metadata": {
    "collapsed": true
   },
   "source": [
    "Filter for canonical transcript."
   ]
  },
  {
   "cell_type": "code",
   "execution_count": 33,
   "metadata": {},
   "outputs": [
    {
     "name": "stdout",
     "output_type": "stream",
     "text": [
      "38169\n"
     ]
    }
   ],
   "source": [
    "gene_list_hg38 = filter_gene_annots(hg38_in)\n",
    "print(len(gene_list_hg38))"
   ]
  },
  {
   "cell_type": "markdown",
   "metadata": {},
   "source": [
    "Save to file."
   ]
  },
  {
   "cell_type": "code",
   "execution_count": 41,
   "metadata": {
    "collapsed": true
   },
   "outputs": [],
   "source": [
    "gene_list_hg38.to_csv('gene_list_hg38.tsv', sep='\\t')\n",
    "\n",
    "# save just gene names to another file\n",
    "\n",
    "with open('genes_hg38.txt','w') as f:\n",
    "    for gene in gene_list_hg38.index:\n",
    "        f.write(gene + '\\n')"
   ]
  },
  {
   "cell_type": "code",
   "execution_count": null,
   "metadata": {
    "collapsed": true
   },
   "outputs": [],
   "source": []
  }
 ],
 "metadata": {
  "kernelspec": {
   "display_name": "Python 3",
   "language": "python",
   "name": "python3"
  },
  "language_info": {
   "codemirror_mode": {
    "name": "ipython",
    "version": 3
   },
   "file_extension": ".py",
   "mimetype": "text/x-python",
   "name": "python",
   "nbconvert_exporter": "python",
   "pygments_lexer": "ipython3",
   "version": "3.7.1"
  },
  "toc": {
   "base_numbering": 1,
   "nav_menu": {},
   "number_sections": true,
   "sideBar": true,
   "skip_h1_title": false,
   "title_cell": "Table of Contents",
   "title_sidebar": "Contents",
   "toc_cell": false,
   "toc_position": {},
   "toc_section_display": true,
   "toc_window_display": false
  }
 },
 "nbformat": 4,
 "nbformat_minor": 2
}
