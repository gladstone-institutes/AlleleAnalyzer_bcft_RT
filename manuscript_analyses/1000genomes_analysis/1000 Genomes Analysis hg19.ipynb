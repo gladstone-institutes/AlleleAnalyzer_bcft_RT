{
 "cells": [
  {
   "cell_type": "code",
   "execution_count": 10,
   "metadata": {
    "collapsed": true
   },
   "outputs": [],
   "source": [
    "import pandas as pd\n",
    "import os\n",
    "from pysam import VariantFile\n",
    "import matplotlib.pyplot as plt\n",
    "import numpy as np\n",
    "import seaborn as sns\n",
    "from functools import reduce\n",
    "\n",
    "plt.style.use('aa_paper')\n",
    "%matplotlib inline"
   ]
  },
  {
   "cell_type": "markdown",
   "metadata": {},
   "source": [
    "# Reformat VCFs in parallel\n",
    "\n",
    "Using a script called `get_gens_df.py` in `AlleleAnalyzer/generate_gens_dfs/get_gens_df.py`, we reformat the 1000 Genomes VCFs in order to more easily annotate variants for whether they are near or in PAM sites. This is necessary because in ordinary VCF files, variants can have multiple alleles listed on one line, and these need to be split up for annotation based on each individual allele.\n",
    "\n",
    "For the 1000 Genomes analysis, we parallelized this process by splitting the genome into 10kb windows. (Will this make too many files? Maybe 500kb would be more feasible, then redo any that don't work, similar to ExAc approach. This approach is used because 1000 Genomes data is whole-genome rather than exome, like ExAc.\n",
    "\n",
    "Make 10 kb windows of the genome using `bedtools makewindows`.\n",
    "\n",
    "## hg19\n",
    "\n",
    "`bedtools makewindows -g hg19.sizes -w 10000 > hg19.10kbwindows.bed`\n",
    "\n",
    "313,762 regions for hg19.\n",
    "\n",
    "### Add unique regions IDs"
   ]
  },
  {
   "cell_type": "code",
   "execution_count": 78,
   "metadata": {
    "collapsed": true
   },
   "outputs": [],
   "source": [
    "# hg19_regions = pd.read_csv('/pollard/data/projects/AlleleAnalyzer_data/1kgp_data/dat/hg19.10kbwindows.bed',\n",
    "#                           sep='\\t', header=None, names=['chrom','start','stop'])\n",
    "# hg19_regions['region_id'] = 'region_' + hg19_regions.index.astype(str)\n",
    "\n",
    "# # hg19_regions.to_csv('dat/1kgp_hg19_regions.bed', sep='\\t', index=False, header=False)"
   ]
  },
  {
   "cell_type": "code",
   "execution_count": 2,
   "metadata": {
    "collapsed": true
   },
   "outputs": [],
   "source": [
    "hg19_regions = pd.read_csv('dat/1kgp_hg19_regions.bed', sep='\\t', header=None,\n",
    "                          names=['chrom','start','stop','region_id'])"
   ]
  },
  {
   "cell_type": "markdown",
   "metadata": {},
   "source": [
    "## Check whether all regions were appropriately reformatted"
   ]
  },
  {
   "cell_type": "code",
   "execution_count": 4,
   "metadata": {
    "collapsed": true
   },
   "outputs": [],
   "source": [
    "hg19_regions['gens_fname'] = '/pollard/data/projects/AlleleAnalyzer_data/1kgp_data/hg19_analysis/1kgp_formatted_variants/' + hg19_regions['region_id'] + '.h5'\n",
    "\n",
    "hg19_regions['gens_complete'] = hg19_regions['gens_fname'].map(os.path.isfile)"
   ]
  },
  {
   "cell_type": "code",
   "execution_count": 5,
   "metadata": {},
   "outputs": [
    {
     "data": {
      "text/html": [
       "<div>\n",
       "<style scoped>\n",
       "    .dataframe tbody tr th:only-of-type {\n",
       "        vertical-align: middle;\n",
       "    }\n",
       "\n",
       "    .dataframe tbody tr th {\n",
       "        vertical-align: top;\n",
       "    }\n",
       "\n",
       "    .dataframe thead th {\n",
       "        text-align: right;\n",
       "    }\n",
       "</style>\n",
       "<table border=\"1\" class=\"dataframe\">\n",
       "  <thead>\n",
       "    <tr style=\"text-align: right;\">\n",
       "      <th></th>\n",
       "      <th>chrom</th>\n",
       "      <th>start</th>\n",
       "      <th>stop</th>\n",
       "      <th>region_id</th>\n",
       "      <th>gens_fname</th>\n",
       "      <th>gens_complete</th>\n",
       "    </tr>\n",
       "  </thead>\n",
       "  <tbody>\n",
       "  </tbody>\n",
       "</table>\n",
       "</div>"
      ],
      "text/plain": [
       "Empty DataFrame\n",
       "Columns: [chrom, start, stop, region_id, gens_fname, gens_complete]\n",
       "Index: []"
      ]
     },
     "execution_count": 5,
     "metadata": {},
     "output_type": "execute_result"
    }
   ],
   "source": [
    "hg19_regions.query('~gens_complete').head()"
   ]
  },
  {
   "cell_type": "code",
   "execution_count": 4,
   "metadata": {},
   "outputs": [
    {
     "data": {
      "text/plain": [
       "0"
      ]
     },
     "execution_count": 4,
     "metadata": {},
     "output_type": "execute_result"
    }
   ],
   "source": [
    "len(hg19_regions.query('~gens_complete'))"
   ]
  },
  {
   "cell_type": "code",
   "execution_count": 5,
   "metadata": {
    "collapsed": true
   },
   "outputs": [],
   "source": [
    "hg19_regions.to_csv('/pollard/data/projects/AlleleAnalyzer_data/1kgp_data/hg19_analysis/region_annots.tsv',\n",
    "                   sep='\\t', index=False)"
   ]
  },
  {
   "cell_type": "markdown",
   "metadata": {
    "collapsed": true
   },
   "source": [
    "## Check whether annotations were completed for appropriate regions"
   ]
  },
  {
   "cell_type": "code",
   "execution_count": 3,
   "metadata": {
    "collapsed": true
   },
   "outputs": [],
   "source": [
    "hg19_regions['region_id'] = hg19_regions['region_id'].str.replace('_','')\n",
    "\n",
    "hg19_regions['annots_fname'] = '/pollard/data/projects/AlleleAnalyzer_data/1kgp_data/hg19_analysis/1kgp_annotated_variants/' + \\\n",
    "hg19_regions['region_id'] + '.h5'"
   ]
  },
  {
   "cell_type": "code",
   "execution_count": 8,
   "metadata": {},
   "outputs": [
    {
     "data": {
      "text/plain": [
       "'/pollard/data/projects/AlleleAnalyzer_data/1kgp_data/hg19_analysis/1kgp_annotated_variants/region0.h5'"
      ]
     },
     "execution_count": 8,
     "metadata": {},
     "output_type": "execute_result"
    }
   ],
   "source": [
    "hg19_regions['annots_fname'].tolist()[0]"
   ]
  },
  {
   "cell_type": "code",
   "execution_count": 9,
   "metadata": {
    "collapsed": true
   },
   "outputs": [],
   "source": [
    "hg19_regions['annots_file_exists'] = hg19_regions['annots_fname'].map(os.path.isfile)"
   ]
  },
  {
   "cell_type": "code",
   "execution_count": 10,
   "metadata": {},
   "outputs": [
    {
     "data": {
      "text/plain": [
       "51201"
      ]
     },
     "execution_count": 10,
     "metadata": {},
     "output_type": "execute_result"
    }
   ],
   "source": [
    "len(hg19_regions.query('~annots_file_exists'))"
   ]
  },
  {
   "cell_type": "code",
   "execution_count": 6,
   "metadata": {
    "collapsed": true
   },
   "outputs": [],
   "source": [
    "hg19_regions.to_csv('/pollard/data/projects/AlleleAnalyzer_data/1kgp_data/hg19_analysis/region_annots.tsv',\n",
    "                   sep='\\t', index=False)"
   ]
  },
  {
   "cell_type": "code",
   "execution_count": 2,
   "metadata": {
    "collapsed": true
   },
   "outputs": [],
   "source": [
    "# generate supplementary table 3, first 100 annotated variants on chromosome 1\n",
    "\n",
    "chr1_annots = pd.read_hdf('/pollard/data/projects/AlleleAnalyzer_data/1kgp_data/hg19_analysis/1kgp_annotated_variants_by_chrom/chr1_annotated.h5',\n",
    "                         stop=100)"
   ]
  },
  {
   "cell_type": "code",
   "execution_count": 4,
   "metadata": {
    "collapsed": true
   },
   "outputs": [],
   "source": [
    "chr1_annots.to_excel('/pollard/home/kathleen/projects/supp_table_3_.xlsx', index=False)"
   ]
  },
  {
   "cell_type": "markdown",
   "metadata": {
    "collapsed": true
   },
   "source": [
    "# ExcisionFinder results\n",
    "\n",
    "\n",
    "\n",
    "`python gene_targ_variation.py /pollard/home/kathleen/projects/AlleleAnalyzer/manuscript_analyses/1000genomes_analysis/get_gene_list/gene_list_hg19.tsv /pollard/data/projects/AlleleAnalyzer_data/1kgp_data/hg19_analysis/1kgp_excisionfinder_results/results_by_chrom/ /pollard/home/kathleen/projects/AlleleAnalyzer/manuscript_analyses/1000genomes_analysis/src/hg19_analysis/plotting/`\n",
    "\n",
    "Targetable genes per person, just change the dir where h5 files are pulled to do 5kb window analysis.\n",
    "\n",
    "`python targ_genes_per_person.py /pollard/home/kathleen/projects/AlleleAnalyzer/manuscript_analyses/1000genomes_analysis/get_gene_list/gene_list_hg19.tsv /pollard/data/projects/AlleleAnalyzer_data/1kgp_data/hg19_analysis/1kgp_excisionfinder_results/results_by_chrom/ targ_genes_per_person`\n",
    "\n",
    "with 5kb flanking\n",
    "\n",
    "`python targ_genes_per_person.py /pollard/home/kathleen/projects/AlleleAnalyzer/manuscript_analyses/1000genomes_analysis/get_gene_list/gene_list_hg19.tsv /pollard/data/projects/AlleleAnalyzer_data/1kgp_data/hg19_analysis/1kgp_excisionfinder_results/results_by_chrom_5kb_window targ_genes_per_person_5kb`\n",
    "\n",
    "# Determine mean # putatively targetable autosomal genes per person in 1000 Genomes Cohort"
   ]
  },
  {
   "cell_type": "code",
   "execution_count": 2,
   "metadata": {
    "collapsed": true
   },
   "outputs": [],
   "source": [
    "genes = pd.read_csv('/pollard/home/kathleen/projects/AlleleAnalyzer/manuscript_analyses/1000genomes_analysis/get_gene_list/gene_list_hg19.tsv',\n",
    "                   sep='\\t')\n",
    "autosomal_genes = genes.query('(chrom != \"chrX\") and (chrom != \"chrY\")')\n",
    "protein_coding_autosomal_genes = set(genes[genes['name'].str.startswith('NM')]['official_gene_symbol'].tolist())"
   ]
  },
  {
   "cell_type": "code",
   "execution_count": 3,
   "metadata": {},
   "outputs": [
    {
     "data": {
      "text/html": [
       "<div>\n",
       "<style scoped>\n",
       "    .dataframe tbody tr th:only-of-type {\n",
       "        vertical-align: middle;\n",
       "    }\n",
       "\n",
       "    .dataframe tbody tr th {\n",
       "        vertical-align: top;\n",
       "    }\n",
       "\n",
       "    .dataframe thead th {\n",
       "        text-align: right;\n",
       "    }\n",
       "</style>\n",
       "<table border=\"1\" class=\"dataframe\">\n",
       "  <thead>\n",
       "    <tr style=\"text-align: right;\">\n",
       "      <th></th>\n",
       "      <th>official_gene_symbol</th>\n",
       "      <th>name</th>\n",
       "      <th>chrom</th>\n",
       "      <th>txStart</th>\n",
       "      <th>txEnd</th>\n",
       "      <th>cdsStart</th>\n",
       "      <th>cdsEnd</th>\n",
       "      <th>exonCount</th>\n",
       "      <th>exonStarts</th>\n",
       "      <th>exonEnds</th>\n",
       "      <th>size</th>\n",
       "    </tr>\n",
       "  </thead>\n",
       "  <tbody>\n",
       "    <tr>\n",
       "      <th>1694</th>\n",
       "      <td>BEST1</td>\n",
       "      <td>NR_134580.1</td>\n",
       "      <td>chr11</td>\n",
       "      <td>61717355</td>\n",
       "      <td>61731935</td>\n",
       "      <td>61731935</td>\n",
       "      <td>61731935</td>\n",
       "      <td>11</td>\n",
       "      <td>61717355,61719242,61722578,61723189,61724315,6...</td>\n",
       "      <td>61717899,61719430,61722673,61723423,61724470,6...</td>\n",
       "      <td>14580</td>\n",
       "    </tr>\n",
       "  </tbody>\n",
       "</table>\n",
       "</div>"
      ],
      "text/plain": [
       "     official_gene_symbol         name  chrom   txStart     txEnd  cdsStart  \\\n",
       "1694                BEST1  NR_134580.1  chr11  61717355  61731935  61731935   \n",
       "\n",
       "        cdsEnd  exonCount                                         exonStarts  \\\n",
       "1694  61731935         11  61717355,61719242,61722578,61723189,61724315,6...   \n",
       "\n",
       "                                               exonEnds   size  \n",
       "1694  61717899,61719430,61722673,61723423,61724470,6...  14580  "
      ]
     },
     "execution_count": 3,
     "metadata": {},
     "output_type": "execute_result"
    }
   ],
   "source": [
    "genes.query('official_gene_symbol == \"BEST1\"')"
   ]
  },
  {
   "cell_type": "code",
   "execution_count": 14,
   "metadata": {},
   "outputs": [],
   "source": [
    "targ_genes_per_person = np.load('/pollard/home/kathleen/projects/AlleleAnalyzer/manuscript_analyses/1000genomes_analysis/src/hg19_analysis/plotting/targ_genes_per_persongenes_per_person.npy').item()\n",
    "targ_genes_per_person_5kb = np.load('/pollard/home/kathleen/projects/AlleleAnalyzer/manuscript_analyses/1000genomes_analysis/src/hg19_analysis/plotting/targ_genes_per_person_5kbgenes_per_person.npy').item()"
   ]
  },
  {
   "cell_type": "code",
   "execution_count": 11,
   "metadata": {
    "collapsed": true
   },
   "outputs": [],
   "source": [
    "gene_name_dict = {}\n",
    "\n",
    "genes_eval = 0\n",
    "\n",
    "for c_dir in os.listdir('/pollard/data/projects/AlleleAnalyzer_data/1kgp_data/hg19_analysis/1kgp_excisionfinder_results/results_by_chrom'):\n",
    "    genes_in_dir = os.listdir(os.path.join('/pollard/data/projects/AlleleAnalyzer_data/1kgp_data/hg19_analysis/1kgp_excisionfinder_results/results_by_chrom', c_dir))\n",
    "    for gene in genes_in_dir:\n",
    "        if gene.endswith('.h5'):\n",
    "            genes_eval += 1\n",
    "            \n",
    "#     print(genes_in_dir[:5])"
   ]
  },
  {
   "cell_type": "code",
   "execution_count": 12,
   "metadata": {},
   "outputs": [
    {
     "name": "stdout",
     "output_type": "stream",
     "text": [
      "20861\n"
     ]
    }
   ],
   "source": [
    "print(genes_eval)"
   ]
  },
  {
   "cell_type": "code",
   "execution_count": 13,
   "metadata": {},
   "outputs": [
    {
     "data": {
      "text/plain": [
       "27090"
      ]
     },
     "execution_count": 13,
     "metadata": {},
     "output_type": "execute_result"
    }
   ],
   "source": [
    "len(genes)"
   ]
  },
  {
   "cell_type": "code",
   "execution_count": 8,
   "metadata": {
    "collapsed": true
   },
   "outputs": [],
   "source": [
    "def translate_gene_name(gene_name):\n",
    "    \"\"\"\n",
    "    HDF5 throws all sort of errors when you have weird punctuation in the gene name, so\n",
    "    this translates it to a less offensive form.\n",
    "    \"\"\"\n",
    "    repls = (\"-\", \"dash\"), (\".\", \"period\")\n",
    "    trans_gene_name = reduce(lambda a, kv: a.replace(*kv), repls, str(gene_name))\n",
    "    return trans_gene_name"
   ]
  },
  {
   "cell_type": "code",
   "execution_count": 17,
   "metadata": {},
   "outputs": [],
   "source": [
    "gene_dict = {}\n",
    "genes_eval = 0\n",
    "\n",
    "for chrom in list(range(1,23)):\n",
    "    c_dir = os.path.join('/pollard/data/projects/AlleleAnalyzer_data/1kgp_data/hg19_analysis/1kgp_excisionfinder_results/results_by_chrom',f'chr{chrom}_ef_results/')\n",
    "    genes_in_dir = os.listdir(os.path.join('/pollard/data/projects/AlleleAnalyzer_data/1kgp_data/hg19_analysis/1kgp_excisionfinder_results/results_by_chrom', c_dir))\n",
    "    for gene in genes_in_dir:\n",
    "        if gene.endswith('.h5'):\n",
    "            genes_eval += 1\n",
    "            gene_dict[gene[:-3]] = translate_gene_name(gene[:-3])"
   ]
  },
  {
   "cell_type": "code",
   "execution_count": 19,
   "metadata": {
    "collapsed": true
   },
   "outputs": [],
   "source": [
    "gene_dict = {}\n",
    "genes_eval = 0\n",
    "\n",
    "for chrom in list(range(1,23)):\n",
    "    c_dir = os.path.join('/pollard/data/projects/AlleleAnalyzer_data/1kgp_data/hg19_analysis/1kgp_excisionfinder_results/results_by_chrom_5kb_window/',f'chr{chrom}_ef_results/')\n",
    "    genes_in_dir = os.listdir(os.path.join('/pollard/data/projects/AlleleAnalyzer_data/1kgp_data/hg19_analysis/1kgp_excisionfinder_results/results_by_chrom_5kb_window/', c_dir))\n",
    "    for gene in genes_in_dir:\n",
    "        if gene.endswith('.h5'):\n",
    "            genes_eval += 1\n",
    "            gene_dict[gene[:-3]] = translate_gene_name(gene[:-3])"
   ]
  },
  {
   "cell_type": "code",
   "execution_count": 20,
   "metadata": {},
   "outputs": [],
   "source": [
    "gene_dict_df = pd.DataFrame.from_dict(gene_dict, orient='index')\n",
    "\n",
    "gene_dict_df['gene'] = gene_dict_df.index\n",
    "\n",
    "gene_dict_df.columns = ['translated_gene','gene']\n",
    "\n",
    "gene_dict_df.head()\n",
    "\n",
    "gene_dict_df.to_csv('/pollard/data/projects/AlleleAnalyzer_data/AlleleAnalyzer_supporting_data/1000_genomes_analysis/hg19_analysis/excisionFinder_results/5kb_window/gene_dict.tsv',\n",
    "                   sep='\\t', index=False)"
   ]
  },
  {
   "cell_type": "markdown",
   "metadata": {},
   "source": [
    "## Gene only (autosomal)"
   ]
  },
  {
   "cell_type": "code",
   "execution_count": 7,
   "metadata": {},
   "outputs": [
    {
     "data": {
      "text/plain": [
       "64.01185088503932"
      ]
     },
     "execution_count": 7,
     "metadata": {},
     "output_type": "execute_result"
    }
   ],
   "source": [
    "ppl = []\n",
    "num_targ_genes = []\n",
    "cas = []\n",
    "\n",
    "for key in targ_genes_per_person:\n",
    "    ppl.append(key)\n",
    "    num_targ_genes.append(len(protein_coding_autosomal_genes.intersection(set(targ_genes_per_person[key]))))\n",
    "    \n",
    "targ_genes_per_person_df = pd.DataFrame({'ppl':ppl, 'num_targ_genes':num_targ_genes})\n",
    "\n",
    "targ_genes_per_person_df['perc_targ_genes'] = targ_genes_per_person_df['num_targ_genes'].divide(len(protein_coding_autosomal_genes)) * 100.0\n",
    "\n",
    "targ_genes_per_person_df['perc_targ_genes'].mean()"
   ]
  },
  {
   "cell_type": "markdown",
   "metadata": {},
   "source": [
    "## Gene + 5 kb"
   ]
  },
  {
   "cell_type": "code",
   "execution_count": 7,
   "metadata": {},
   "outputs": [
    {
     "data": {
      "text/plain": [
       "75.38688832921208"
      ]
     },
     "execution_count": 7,
     "metadata": {},
     "output_type": "execute_result"
    }
   ],
   "source": [
    "ppl = []\n",
    "num_targ_genes = []\n",
    "cas = []\n",
    "\n",
    "for key in targ_genes_per_person_5kb:\n",
    "    ppl.append(key)\n",
    "    num_targ_genes.append(len(protein_coding_autosomal_genes.intersection(set(targ_genes_per_person_5kb[key]))))\n",
    "    \n",
    "targ_genes_per_person_df = pd.DataFrame({'ppl':ppl, 'num_targ_genes':num_targ_genes})\n",
    "\n",
    "targ_genes_per_person_df['perc_targ_genes'] = targ_genes_per_person_df['num_targ_genes'].divide(len(protein_coding_autosomal_genes)) * 100.0\n",
    "\n",
    "targ_genes_per_person_df['perc_targ_genes'].mean()"
   ]
  },
  {
   "cell_type": "markdown",
   "metadata": {},
   "source": [
    "# people targetable \n",
    "\n",
    "In this faceted density plot, height of the colored portion indicates the proportion of genes where the specified percentage of the 1000 genomes cohort is putatively targetable."
   ]
  },
  {
   "cell_type": "code",
   "execution_count": 29,
   "metadata": {},
   "outputs": [
    {
     "name": "stderr",
     "output_type": "stream",
     "text": [
      "/pollard/home/kathleen/tools/anaconda3/lib/python3.6/site-packages/seaborn/axisgrid.py:230: UserWarning: The `size` paramter has been renamed to `height`; please update your code.\n",
      "  warnings.warn(msg, UserWarning)\n"
     ]
    },
    {
     "data": {
      "text/plain": [
       "<seaborn.axisgrid.FacetGrid at 0x7fe74d4c1ac8>"
      ]
     },
     "execution_count": 29,
     "metadata": {},
     "output_type": "execute_result"
    },
    {
     "data": {
      "image/png": "[encoded data removed]",
      "text/plain": [
       "<matplotlib.figure.Figure at 0x7fe74d4c1a20>"
      ]
     },
     "metadata": {},
     "output_type": "display_data"
    }
   ],
   "source": [
    "# inspired and helped by this page: https://seaborn.pydata.org/examples/kde_joyplot.html\n",
    "plot_df = pd.read_csv('/pollard/home/kathleen/projects/AlleleAnalyzer/manuscript_analyses/1000genomes_analysis/src/hg19_analysis/plotting/targ_per_gene_and_cas.tsv',\n",
    "                                sep='\\t')\n",
    "\n",
    "cas_dict = np.load('/pollard/data/projects/AlleleAnalyzer_data/cas_abbrev_dict.npy').item()\n",
    "cas_dict['StCas9'] = 'StCas9'\n",
    "cas_dict['all'] = 'all'\n",
    "\n",
    "plot_df['% people targetable per gene'] = plot_df['% people targetable']*100.0\n",
    "\n",
    "sns.set(style=\"white\", rc={\"axes.facecolor\": (0, 0, 0, 0)}, font_scale=1.2)\n",
    "cas_list = plot_df.Cas.drop_duplicates().tolist()\n",
    "pal = sns.cubehelix_palette(len(cas_list), rot=-.25, light=.7)\n",
    "\n",
    "g = sns.FacetGrid(plot_df, row='Cas', hue='Cas', aspect=10, size=.5, palette=pal)\n",
    "g.map(sns.kdeplot, '% people targetable per gene', shade=True, alpha=1, lw=1.5, bw=.2)\n",
    "g.map(sns.kdeplot, '% people targetable per gene', color=\"w\", lw=2, bw=.2)\n",
    "g.map(plt.axhline, y=0, lw=2)\n",
    "\n",
    "# Define and use a simple function to label the plot in axes coordinates\n",
    "def label(x, color, label):\n",
    "    ax = plt.gca()\n",
    "    ax.text(0, .2, cas_dict[label], fontweight=\"bold\",  \n",
    "            ha=\"left\", va=\"center\", fontsize=11,transform=ax.transAxes)\n",
    "    \n",
    "g.map(label, '% people targetable per gene')\n",
    "\n",
    "# Set the subplots to overlap\n",
    "g.fig.subplots_adjust(hspace=-.25)\n",
    "\n",
    "# Remove axes details that don't play well with overlap\n",
    "g.set_titles(\"\")\n",
    "g.set(yticks=[])\n",
    "g.despine(bottom=True, left=True)\n",
    "\n",
    "# g.savefig('people_targetable_per_gene_per_cas.pdf', dpi=300, bbox_inches='tight')"
   ]
  },
  {
   "cell_type": "code",
   "execution_count": null,
   "metadata": {
    "collapsed": true
   },
   "outputs": [],
   "source": []
  }
 ],
 "metadata": {
  "kernelspec": {
   "display_name": "Python 3",
   "language": "python",
   "name": "python3"
  },
  "language_info": {
   "codemirror_mode": {
    "name": "ipython",
    "version": 3
   },
   "file_extension": ".py",
   "mimetype": "text/x-python",
   "name": "python",
   "nbconvert_exporter": "python",
   "pygments_lexer": "ipython3",
   "version": "3.7.1"
  },
  "toc": {
   "nav_menu": {},
   "number_sections": true,
   "sideBar": true,
   "skip_h1_title": false,
   "title_cell": "Table of Contents",
   "title_sidebar": "Contents",
   "toc_cell": false,
   "toc_position": {},
   "toc_section_display": true,
   "toc_window_display": false
  }
 },
 "nbformat": 4,
 "nbformat_minor": 2
}
