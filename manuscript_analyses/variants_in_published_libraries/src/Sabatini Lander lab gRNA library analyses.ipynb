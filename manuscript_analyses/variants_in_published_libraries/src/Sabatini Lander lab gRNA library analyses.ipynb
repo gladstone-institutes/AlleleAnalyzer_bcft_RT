{
 "cells": [
  {
   "cell_type": "markdown",
   "metadata": {},
   "source": [
    "# Sabatini / Lander labs genome-wide gRNA library analysis\n",
    "\n",
    "The Sabatini/Lander library was downloaded from [Park et al. Nature Genetics 2016](https://www.nature.com/articles/ng.3741#s2), in supplementary table 1. Based on coordinate matching to reference sequence, we determined it to be from reference genome hg19."
   ]
  },
  {
   "cell_type": "code",
   "execution_count": 5,
   "metadata": {
    "collapsed": true
   },
   "outputs": [],
   "source": [
    "import pandas as pd\n",
    "import seaborn as sns\n",
    "import matplotlib.pyplot as plt\n",
    "\n",
    "sns.set_context('paper')\n",
    "\n",
    "%matplotlib inline"
   ]
  },
  {
   "cell_type": "markdown",
   "metadata": {},
   "source": [
    "Load the gRNA library, using dropna to remove rows intended for negative controls, which to not align to the genome and therefore do not have genomic coordinates."
   ]
  },
  {
   "cell_type": "code",
   "execution_count": 6,
   "metadata": {
    "collapsed": true
   },
   "outputs": [],
   "source": [
    "grna_library = pd.read_excel('../dat/sabatini_lander/ng.3741-S2.xlsx',\n",
    "                            skiprows=1).dropna()"
   ]
  },
  {
   "cell_type": "code",
   "execution_count": 22,
   "metadata": {
    "collapsed": true
   },
   "outputs": [],
   "source": [
    "starts = []\n",
    "stops = []\n",
    "n_positions = []\n",
    "\n",
    "for ix, row in grna_library.iterrows():\n",
    "    if row['Genomic strand targeted'] == '-':\n",
    "        starts.append(row['sgRNA location'] - 3)\n",
    "        stops.append(row['sgRNA location'] + 19)\n",
    "        n_positions.append(row['sgRNA location'] - 1)\n",
    "    else:\n",
    "        starts.append(row['sgRNA location'])\n",
    "        stops.append(row['sgRNA location'] + 22)\n",
    "        n_positions.append(row['sgRNA location'] + 20)"
   ]
  },
  {
   "cell_type": "code",
   "execution_count": 23,
   "metadata": {
    "collapsed": true
   },
   "outputs": [],
   "source": [
    "grna_library['start'] = starts\n",
    "grna_library['stop'] = stops\n",
    "grna_library['n'] = n_positions"
   ]
  },
  {
   "cell_type": "markdown",
   "metadata": {},
   "source": [
    "Make a BED file of the sgRNA protospacer and PAM regions, based on strand."
   ]
  },
  {
   "cell_type": "code",
   "execution_count": 24,
   "metadata": {},
   "outputs": [
    {
     "data": {
      "text/html": [
       "<div>\n",
       "<style scoped>\n",
       "    .dataframe tbody tr th:only-of-type {\n",
       "        vertical-align: middle;\n",
       "    }\n",
       "\n",
       "    .dataframe tbody tr th {\n",
       "        vertical-align: top;\n",
       "    }\n",
       "\n",
       "    .dataframe thead th {\n",
       "        text-align: right;\n",
       "    }\n",
       "</style>\n",
       "<table border=\"1\" class=\"dataframe\">\n",
       "  <thead>\n",
       "    <tr style=\"text-align: right;\">\n",
       "      <th></th>\n",
       "      <th>sgRNA ID</th>\n",
       "      <th>Symbol</th>\n",
       "      <th>Chromosome</th>\n",
       "      <th>sgRNA location</th>\n",
       "      <th>Genomic strand targeted</th>\n",
       "      <th>sgRNA sequence</th>\n",
       "      <th>Comment</th>\n",
       "      <th>start</th>\n",
       "      <th>stop</th>\n",
       "      <th>n</th>\n",
       "    </tr>\n",
       "  </thead>\n",
       "  <tbody>\n",
       "    <tr>\n",
       "      <th>40</th>\n",
       "      <td>sgA3GALT2_1</td>\n",
       "      <td>A3GALT2</td>\n",
       "      <td>chr1</td>\n",
       "      <td>33777737.0</td>\n",
       "      <td>-</td>\n",
       "      <td>GGGGCTCCCATTATTTGGGA</td>\n",
       "      <td>In new library</td>\n",
       "      <td>33777734.0</td>\n",
       "      <td>33777756.0</td>\n",
       "      <td>33777736.0</td>\n",
       "    </tr>\n",
       "    <tr>\n",
       "      <th>41</th>\n",
       "      <td>sgA3GALT2_10</td>\n",
       "      <td>A3GALT2</td>\n",
       "      <td>chr1</td>\n",
       "      <td>33778450.0</td>\n",
       "      <td>-</td>\n",
       "      <td>CGGCAGATCCTACTTACACT</td>\n",
       "      <td>In new library</td>\n",
       "      <td>33778447.0</td>\n",
       "      <td>33778469.0</td>\n",
       "      <td>33778449.0</td>\n",
       "    </tr>\n",
       "    <tr>\n",
       "      <th>42</th>\n",
       "      <td>sgA3GALT2_2</td>\n",
       "      <td>A3GALT2</td>\n",
       "      <td>chr1</td>\n",
       "      <td>33777680.0</td>\n",
       "      <td>-</td>\n",
       "      <td>AGACAGCAGAACCTCACCAT</td>\n",
       "      <td>In new library</td>\n",
       "      <td>33777677.0</td>\n",
       "      <td>33777699.0</td>\n",
       "      <td>33777679.0</td>\n",
       "    </tr>\n",
       "    <tr>\n",
       "      <th>43</th>\n",
       "      <td>sgA3GALT2_3</td>\n",
       "      <td>A3GALT2</td>\n",
       "      <td>chr1</td>\n",
       "      <td>33777666.0</td>\n",
       "      <td>+</td>\n",
       "      <td>AGATAGTCAGCCCAATGGTG</td>\n",
       "      <td>In new library</td>\n",
       "      <td>33777666.0</td>\n",
       "      <td>33777688.0</td>\n",
       "      <td>33777686.0</td>\n",
       "    </tr>\n",
       "    <tr>\n",
       "      <th>44</th>\n",
       "      <td>sgA3GALT2_4</td>\n",
       "      <td>A3GALT2</td>\n",
       "      <td>chr1</td>\n",
       "      <td>33778400.0</td>\n",
       "      <td>+</td>\n",
       "      <td>GCTTTTACCTGAATTTAGGG</td>\n",
       "      <td>In new library</td>\n",
       "      <td>33778400.0</td>\n",
       "      <td>33778422.0</td>\n",
       "      <td>33778420.0</td>\n",
       "    </tr>\n",
       "  </tbody>\n",
       "</table>\n",
       "</div>"
      ],
      "text/plain": [
       "        sgRNA ID   Symbol Chromosome  sgRNA location Genomic strand targeted  \\\n",
       "40   sgA3GALT2_1  A3GALT2       chr1      33777737.0                       -   \n",
       "41  sgA3GALT2_10  A3GALT2       chr1      33778450.0                       -   \n",
       "42   sgA3GALT2_2  A3GALT2       chr1      33777680.0                       -   \n",
       "43   sgA3GALT2_3  A3GALT2       chr1      33777666.0                       +   \n",
       "44   sgA3GALT2_4  A3GALT2       chr1      33778400.0                       +   \n",
       "\n",
       "          sgRNA sequence         Comment       start        stop           n  \n",
       "40  GGGGCTCCCATTATTTGGGA  In new library  33777734.0  33777756.0  33777736.0  \n",
       "41  CGGCAGATCCTACTTACACT  In new library  33778447.0  33778469.0  33778449.0  \n",
       "42  AGACAGCAGAACCTCACCAT  In new library  33777677.0  33777699.0  33777679.0  \n",
       "43  AGATAGTCAGCCCAATGGTG  In new library  33777666.0  33777688.0  33777686.0  \n",
       "44  GCTTTTACCTGAATTTAGGG  In new library  33778400.0  33778422.0  33778420.0  "
      ]
     },
     "execution_count": 24,
     "metadata": {},
     "output_type": "execute_result"
    }
   ],
   "source": [
    "grna_library.head()"
   ]
  },
  {
   "cell_type": "code",
   "execution_count": null,
   "metadata": {
    "collapsed": true
   },
   "outputs": [],
   "source": [
    "grna_rel = grna_library[['Chromosome','sgRNA location','sgRNA ID']].copy()\n",
    "grna_rel.columns = ['chrom','start','name']\n",
    "grna_rel['start'] = grna_rel['start'].astype(int)\n",
    "grna_rel['stop'] = grna_rel['start'] + 22\n",
    "grnas = grna_rel[['chrom','start','stop','name']]\n",
    "grnas['chrom'] = grnas['chrom'].str[3:]"
   ]
  },
  {
   "cell_type": "markdown",
   "metadata": {},
   "source": [
    "Save BED file."
   ]
  },
  {
   "cell_type": "code",
   "execution_count": 25,
   "metadata": {
    "collapsed": true
   },
   "outputs": [],
   "source": [
    "grnas.to_csv('../dat/sabatini_lander/grnas.bed', sep='\\t', header=False,\n",
    "            index=False)"
   ]
  },
  {
   "cell_type": "code",
   "execution_count": 41,
   "metadata": {
    "collapsed": true
   },
   "outputs": [],
   "source": [
    "grnas_chr = grnas.copy()\n",
    "grnas_chr['chrom'] = 'chr' + grnas['chrom'].astype(str)\n",
    "grnas_chr.to_csv('../dat/sabatini_lander/grnas_chr.bed', sep='\\t', header=False,\n",
    "            index=False)"
   ]
  },
  {
   "cell_type": "markdown",
   "metadata": {},
   "source": [
    "BCFtools command to determine which common variants from the 1000 Genomes Project occur in the sgRNAs.\n",
    "\n",
    "`bcftools view -R ../dat/sabatini_lander/grnas.bed --min-af 0.05 -G ~/path_to_1kg_dat/1kg_all_autosomal_variants.bcf -O v > ../dat/sabatini_lander/variants_in_guides_init.vcf`"
   ]
  },
  {
   "cell_type": "code",
   "execution_count": 26,
   "metadata": {
    "collapsed": true
   },
   "outputs": [],
   "source": [
    "unfilt_vars = pd.read_csv('../dat/sabatini_lander/variants_in_guides_init.vcf', sep='\\t', header=None,\n",
    "                         names=['chrom','position','rsid','ref','alt','score','passing','info'], comment='#')"
   ]
  },
  {
   "cell_type": "markdown",
   "metadata": {},
   "source": [
    "Determine the number of variants present before filtering out variants in the \"N\" position of the PAM."
   ]
  },
  {
   "cell_type": "code",
   "execution_count": 27,
   "metadata": {},
   "outputs": [
    {
     "data": {
      "text/plain": [
       "338"
      ]
     },
     "execution_count": 27,
     "metadata": {},
     "output_type": "execute_result"
    }
   ],
   "source": [
    "len(unfilt_vars)"
   ]
  },
  {
   "cell_type": "markdown",
   "metadata": {},
   "source": [
    "Determine the number of variants that occur in the \"N\" position."
   ]
  },
  {
   "cell_type": "code",
   "execution_count": 29,
   "metadata": {},
   "outputs": [
    {
     "data": {
      "text/plain": [
       "7"
      ]
     },
     "execution_count": 29,
     "metadata": {},
     "output_type": "execute_result"
    }
   ],
   "source": [
    "len(unfilt_vars[unfilt_vars['position'].isin(n_positions)])"
   ]
  },
  {
   "cell_type": "markdown",
   "metadata": {},
   "source": [
    "Generate a filtered set of non-N position variants."
   ]
  },
  {
   "cell_type": "code",
   "execution_count": 31,
   "metadata": {
    "collapsed": true
   },
   "outputs": [],
   "source": [
    "filt_vars = unfilt_vars[~unfilt_vars['position'].isin(n_positions)].copy()"
   ]
  },
  {
   "cell_type": "markdown",
   "metadata": {},
   "source": [
    "Determine how many sgRNAs are impacted by the non-N variants."
   ]
  },
  {
   "cell_type": "code",
   "execution_count": 34,
   "metadata": {
    "collapsed": true
   },
   "outputs": [],
   "source": [
    "sl_guides = grnas.copy().sort_values(by='chrom')"
   ]
  },
  {
   "cell_type": "code",
   "execution_count": 35,
   "metadata": {
    "collapsed": true
   },
   "outputs": [],
   "source": [
    "sl_n_vars = []\n",
    "\n",
    "for ix, row in grnas.iterrows():\n",
    "    chrom = row['chrom']\n",
    "    start = row['start']\n",
    "    stop = row['stop']\n",
    "    guide_positions = list(range(start, stop))\n",
    "    vars_in_guide = filt_vars.query('(chrom == @chrom) and (position >= @start) and (position <= @stop)')\n",
    "    sl_n_vars.append(len(vars_in_guide))"
   ]
  },
  {
   "cell_type": "code",
   "execution_count": 36,
   "metadata": {
    "collapsed": true
   },
   "outputs": [],
   "source": [
    "grnas['n_vars'] = sl_n_vars"
   ]
  },
  {
   "cell_type": "markdown",
   "metadata": {},
   "source": [
    "Identify the percentage of guides that have a common variant in the non-N position."
   ]
  },
  {
   "cell_type": "code",
   "execution_count": 37,
   "metadata": {},
   "outputs": [
    {
     "data": {
      "text/plain": [
       "5.161158710730314"
      ]
     },
     "execution_count": 37,
     "metadata": {},
     "output_type": "execute_result"
    }
   ],
   "source": [
    "100.0 * len(grnas.query('n_vars > 0')) / len(grnas)"
   ]
  },
  {
   "cell_type": "markdown",
   "metadata": {},
   "source": [
    "Save the results to a file."
   ]
  },
  {
   "cell_type": "code",
   "execution_count": 39,
   "metadata": {
    "collapsed": true
   },
   "outputs": [],
   "source": [
    "grnas.to_csv('../dat/sabatini_lander/sabatini_lander_guides_results_1kgp.tsv', sep='\\t')"
   ]
  },
  {
   "cell_type": "markdown",
   "metadata": {},
   "source": [
    "Visualize the number of variants per sgRNA."
   ]
  },
  {
   "cell_type": "code",
   "execution_count": 40,
   "metadata": {},
   "outputs": [
    {
     "data": {
      "text/plain": [
       "Text(0.5,1,'Common Variants from the\\n 1000 Genomes Project\\n in the Sabatini Lander gRNA library')"
      ]
     },
     "execution_count": 40,
     "metadata": {},
     "output_type": "execute_result"
    },
    {
     "data": {
      "image/png": "[encoded data removed]",
      "text/plain": [
       "<Figure size 432x288 with 1 Axes>"
      ]
     },
     "metadata": {},
     "output_type": "display_data"
    }
   ],
   "source": [
    "p = sns.countplot(x=grnas['n_vars'], color='dodgerblue')\n",
    "p.set_yscale('log')\n",
    "plt.ylabel('Number of gRNAs')\n",
    "plt.xlabel('Number of Common Variants (MAF >= 5%)')\n",
    "plt.title('Common Variants from the\\n 1000 Genomes Project\\n in the Sabatini Lander gRNA library')"
   ]
  },
  {
   "cell_type": "markdown",
   "metadata": {},
   "source": [
    "## WTC analysis of the Sabatini Lander sgRNA library\n",
    "\n",
    "BCFtools command to figure out which variants in WTC are in Sabatini Lander gRNAs.\n",
    "\n",
    "`bcftools view -R ../dat/grnas_chr.bed ~/path_to_wtc_dat/wtc.bcf -O v > ../dat/wtc_variants_in_guides_init.vcf`"
   ]
  },
  {
   "cell_type": "code",
   "execution_count": 42,
   "metadata": {
    "collapsed": true
   },
   "outputs": [],
   "source": [
    "unfilt_vars_wtc = pd.read_csv('../dat/sabatini_lander/wtc_variants_in_guides_init.vcf', sep='\\t', header=None,\n",
    "                         names=['chrom','position','random','ref','alt','rsid','score','passing','info','genotype'], comment='#')"
   ]
  },
  {
   "cell_type": "markdown",
   "metadata": {},
   "source": [
    "Determine the number of variants present before filtering out variants in the \"N\" position of the PAM."
   ]
  },
  {
   "cell_type": "code",
   "execution_count": 43,
   "metadata": {},
   "outputs": [
    {
     "data": {
      "text/plain": [
       "144"
      ]
     },
     "execution_count": 43,
     "metadata": {},
     "output_type": "execute_result"
    }
   ],
   "source": [
    "len(unfilt_vars_wtc)"
   ]
  },
  {
   "cell_type": "markdown",
   "metadata": {},
   "source": [
    "Determine the number of variants that occur in the \"N\" position of the PAM."
   ]
  },
  {
   "cell_type": "code",
   "execution_count": 44,
   "metadata": {},
   "outputs": [
    {
     "data": {
      "text/plain": [
       "5"
      ]
     },
     "execution_count": 44,
     "metadata": {},
     "output_type": "execute_result"
    }
   ],
   "source": [
    "len(unfilt_vars_wtc[unfilt_vars_wtc['position'].isin(n_positions)])"
   ]
  },
  {
   "cell_type": "markdown",
   "metadata": {},
   "source": [
    "Generate a filtered file with only non-N variants."
   ]
  },
  {
   "cell_type": "code",
   "execution_count": 45,
   "metadata": {
    "collapsed": true
   },
   "outputs": [],
   "source": [
    "filt_vars_wtc = unfilt_vars_wtc[~unfilt_vars_wtc['position'].isin(n_positions)].copy()"
   ]
  },
  {
   "cell_type": "markdown",
   "metadata": {},
   "source": [
    "Determine how many sgRNAs are impacted by the non-N variants."
   ]
  },
  {
   "cell_type": "code",
   "execution_count": 49,
   "metadata": {},
   "outputs": [
    {
     "data": {
      "text/plain": [
       "139"
      ]
     },
     "execution_count": 49,
     "metadata": {},
     "output_type": "execute_result"
    }
   ],
   "source": [
    "len(filt_vars_wtc)"
   ]
  },
  {
   "cell_type": "code",
   "execution_count": 50,
   "metadata": {
    "collapsed": true
   },
   "outputs": [],
   "source": [
    "sl_guides_wtc = grnas_chr.copy().sort_values(by='chrom')\n",
    "\n",
    "sl_n_vars_wtc = []\n",
    "\n",
    "for ix, row in sl_guides_wtc.iterrows():\n",
    "    chrom = row['chrom']\n",
    "    start = row['start']\n",
    "    stop = row['stop']\n",
    "    guide_positions = list(range(start, stop))\n",
    "    vars_in_guide = filt_vars_wtc.query('(chrom == @chrom) and (position >= @start) and (position <= @stop)')\n",
    "    sl_n_vars_wtc.append(len(vars_in_guide))"
   ]
  },
  {
   "cell_type": "code",
   "execution_count": 51,
   "metadata": {
    "collapsed": true
   },
   "outputs": [],
   "source": [
    "sl_guides_wtc['n_vars'] = sl_n_vars_wtc"
   ]
  },
  {
   "cell_type": "markdown",
   "metadata": {},
   "source": [
    "Identify the percentage of guides that have a common variant in the non-N position."
   ]
  },
  {
   "cell_type": "code",
   "execution_count": 52,
   "metadata": {},
   "outputs": [
    {
     "data": {
      "text/plain": [
       "2.672378620971032"
      ]
     },
     "execution_count": 52,
     "metadata": {},
     "output_type": "execute_result"
    }
   ],
   "source": [
    "100.0 * len(sl_guides_wtc.query('n_vars > 0')) / len(sl_guides_wtc)"
   ]
  },
  {
   "cell_type": "markdown",
   "metadata": {},
   "source": [
    "Save the results to a file."
   ]
  },
  {
   "cell_type": "code",
   "execution_count": 53,
   "metadata": {
    "collapsed": true
   },
   "outputs": [],
   "source": [
    "sl_guides_wtc.to_csv('../dat/sabatini_lander/sabatinilander_guides_results_wtc.tsv', sep='\\t')"
   ]
  },
  {
   "cell_type": "markdown",
   "metadata": {},
   "source": [
    "Visiualize the number of variants per sgRNA."
   ]
  },
  {
   "cell_type": "code",
   "execution_count": 54,
   "metadata": {},
   "outputs": [
    {
     "data": {
      "text/plain": [
       "Text(0.5,1,'Variants from WTC\\n in the Sabatini Lander gRNA library')"
      ]
     },
     "execution_count": 54,
     "metadata": {},
     "output_type": "execute_result"
    },
    {
     "data": {
      "image/png": "[encoded data removed]",
      "text/plain": [
       "<Figure size 432x288 with 1 Axes>"
      ]
     },
     "metadata": {},
     "output_type": "display_data"
    }
   ],
   "source": [
    "p = sns.countplot(x=sl_guides_wtc['n_vars'], color='dodgerblue')\n",
    "p.set_yscale('log')\n",
    "plt.ylabel('Number of gRNAs')\n",
    "plt.xlabel('Number of Variants')\n",
    "plt.title('Variants from WTC\\n in the Sabatini Lander gRNA library')"
   ]
  },
  {
   "cell_type": "markdown",
   "metadata": {},
   "source": [
    "Put the plots together for 1000 Genomes and WTC."
   ]
  },
  {
   "cell_type": "code",
   "execution_count": 58,
   "metadata": {
    "collapsed": true
   },
   "outputs": [],
   "source": [
    "grnas['Dataset'] = 'Common variants\\n (MAF >= 5%)\\n 1000 Genomes'\n",
    "sl_guides_wtc['Dataset'] = 'WTC variants'\n",
    "df_overall = pd.concat([grnas, sl_guides_wtc])"
   ]
  },
  {
   "cell_type": "markdown",
   "metadata": {},
   "source": [
    "Save the results to a file."
   ]
  },
  {
   "cell_type": "code",
   "execution_count": 59,
   "metadata": {
    "collapsed": true
   },
   "outputs": [],
   "source": [
    "df_overall.to_csv('../dat/sabatini_lander/1kg_wtc_sabatini_lander_results.tsv', sep='\\t', index=False)"
   ]
  },
  {
   "cell_type": "markdown",
   "metadata": {},
   "source": [
    "Visualize the combined results."
   ]
  },
  {
   "cell_type": "code",
   "execution_count": 60,
   "metadata": {},
   "outputs": [
    {
     "data": {
      "text/plain": [
       "Text(0.5,1,'Variants from WTC and \\nthe 1000 Genomes Project\\n in the Sabatini Lander gRNA library')"
      ]
     },
     "execution_count": 60,
     "metadata": {},
     "output_type": "execute_result"
    },
    {
     "data": {
      "image/png": "[encoded data removed]",
      "text/plain": [
       "<Figure size 432x288 with 1 Axes>"
      ]
     },
     "metadata": {},
     "output_type": "display_data"
    }
   ],
   "source": [
    "p = sns.countplot(x=df_overall['n_vars'], hue=df_overall['Dataset'])\n",
    "p.set_yscale('log')\n",
    "plt.ylabel('Number of gRNAs')\n",
    "plt.xlabel('Number of Variants')\n",
    "plt.title('Variants from WTC and \\nthe 1000 Genomes Project\\n in the Sabatini Lander gRNA library')"
   ]
  },
  {
   "cell_type": "code",
   "execution_count": 61,
   "metadata": {},
   "outputs": [
    {
     "data": {
      "image/png": "[encoded data removed]",
      "text/plain": [
       "<Figure size 432x432 with 2 Axes>"
      ]
     },
     "metadata": {},
     "output_type": "display_data"
    }
   ],
   "source": [
    "p = sns.catplot('n_vars', kind='count', row='Dataset', hue='Dataset', \n",
    "                data=df_overall, height=3, aspect=2, sharex=False)\n",
    "(p.set_axis_labels('Number of Variants', 'Number of gRNAs (log scale)')\n",
    " .set_titles('{row_name} {row_var}', verticalalignment='top'))\n",
    "p.fig.get_axes()[0].set_yscale('log')\n",
    "p.fig.suptitle('Variants in the Sabatini Lander gRNA library')\n",
    "p.savefig('../figs/sabatini_lander_wtc_1kgp_countplots.pdf', dpi=300,\n",
    "                    bbox_inches='tight')"
   ]
  },
  {
   "cell_type": "code",
   "execution_count": null,
   "metadata": {
    "collapsed": true
   },
   "outputs": [],
   "source": []
  }
 ],
 "metadata": {
  "kernelspec": {
   "display_name": "Python [default]",
   "language": "python",
   "name": "python3"
  },
  "language_info": {
   "codemirror_mode": {
    "name": "ipython",
    "version": 3
   },
   "file_extension": ".py",
   "mimetype": "text/x-python",
   "name": "python",
   "nbconvert_exporter": "python",
   "pygments_lexer": "ipython3",
   "version": "3.6.2"
  },
  "toc": {
   "nav_menu": {},
   "number_sections": true,
   "sideBar": true,
   "skip_h1_title": false,
   "title_cell": "Table of Contents",
   "title_sidebar": "Contents",
   "toc_cell": false,
   "toc_position": {},
   "toc_section_display": true,
   "toc_window_display": false
  }
 },
 "nbformat": 4,
 "nbformat_minor": 2
}
