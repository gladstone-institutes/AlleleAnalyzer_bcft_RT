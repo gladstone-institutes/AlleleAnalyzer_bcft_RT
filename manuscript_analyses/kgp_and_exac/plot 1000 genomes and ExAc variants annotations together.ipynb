{
 "cells": [
  {
   "cell_type": "code",
   "execution_count": 1,
   "metadata": {
    "collapsed": true
   },
   "outputs": [],
   "source": [
    "import pandas as pd\n",
    "import os\n",
    "from pysam import VariantFile\n",
    "import matplotlib.pyplot as plt\n",
    "import seaborn as sns\n",
    "import numpy as np\n",
    "import scipy.stats  as stats\n",
    "\n",
    "plt.style.use('aa_paper')\n",
    "%matplotlib inline"
   ]
  },
  {
   "cell_type": "code",
   "execution_count": 2,
   "metadata": {
    "collapsed": true
   },
   "outputs": [],
   "source": [
    "cas_dict={\n",
    "    'SpCas9':'SpCas9',\n",
    "    'SpCas9_VRER':'SpCas9-V1',\n",
    "    'SpCas9_EQR':'SpCas9-V2',\n",
    "    'SpCas9_VQR':'SpCas9-V3',\n",
    "    'SpCas9_VQR_1':'SpCas9-V3',\n",
    "    'SpCas9_VQR_2':'SpCas9-V3',\n",
    "    'StCas9_1':'StCas9-V1',\n",
    "    'StCas9_2':'StCas9-V2',\n",
    "    'SaCas9':'SaCas9',\n",
    "    'SaCas9_KKH':'SaCas9-V1',\n",
    "    'nmCas9':'nmCas9',\n",
    "    'cpf1':'cpf1',\n",
    "    'StCas9_1':'StCas9-V1',\n",
    "    'StCas9_2':'StCas9-V2',\n",
    "    'cjCas9':'cjCas9'\n",
    "}"
   ]
  },
  {
   "cell_type": "code",
   "execution_count": 20,
   "metadata": {
    "collapsed": true
   },
   "outputs": [],
   "source": [
    "# ExAc (hg19)\n",
    "\n",
    "plotdf_exac = pd.read_csv('../exac_analysis/dat/vars_near_in_df.tsv', sep='\\t',\n",
    "                    header=0, names=['cas','in PAM','near PAM','both'])\n",
    "\n",
    "plotdf_1kgp = pd.read_csv('../1000genomes_analysis/dat/vars_near_in_df.tsv', sep='\\t',\n",
    "                    header=0, names=['cas','in PAM','near PAM','both'])\n",
    "\n",
    "#sort by total variants that generate allele-specific PAM site\n",
    "plotdf_exac['total'] = plotdf_exac[['in PAM','near PAM','both']].sum(axis=1)\n",
    "plotdf_exac['Cas'] = plotdf_exac['cas'].replace(cas_dict)\n",
    "plotdf_exac = plotdf_exac.query('total > 0.0')\n",
    "\n",
    "plotdf_1kgp['total'] = plotdf_1kgp[['in PAM','near PAM','both']].sum(axis=1)\n",
    "plotdf_1kgp['Cas'] = plotdf_1kgp['cas'].replace(cas_dict)\n",
    "plotdf_1kgp = plotdf_1kgp.query('total > 0.0')\n",
    "\n",
    "# munge for plotting\n",
    "plotdf_exac = plotdf_exac.sort_values(by='total')\n",
    "plotdf_exac.index = plotdf_exac['Cas']\n",
    "plotdf_exac = plotdf_exac[['both','in PAM','near PAM']]\n",
    "plotdf_exac = plotdf_exac.multiply(100.0)\n",
    "\n",
    "plotdf_1kgp = plotdf_1kgp.sort_values(by='total')\n",
    "plotdf_1kgp.index = plotdf_1kgp['Cas']\n",
    "plotdf_1kgp = plotdf_1kgp[['both','in PAM','near PAM']]\n",
    "plotdf_1kgp = plotdf_1kgp.multiply(100.0)"
   ]
  },
  {
   "cell_type": "code",
   "execution_count": 23,
   "metadata": {},
   "outputs": [
    {
     "data": {
      "image/png": "[encoded data removed]",
      "text/plain": [
       "<matplotlib.figure.Figure at 0x7fbd3b52b198>"
      ]
     },
     "metadata": {},
     "output_type": "display_data"
    }
   ],
   "source": [
    "# assemble plot \n",
    "fig, (ax1, ax2) = plt.subplots(nrows=1, ncols=2, sharey=True,\n",
    "                        sharex=True)\n",
    "plt.subplots_adjust(wspace=0.1)\n",
    "\n",
    "exac_plot = plotdf_exac.plot(stacked='True', color=sns.color_palette('Dark2'),\n",
    "            kind='barh',ax=ax1, title='Exome Variants\\nfrom ExAc')\n",
    "ax1.legend(handletextpad=0.1, borderpad=0.2, frameon=False,\n",
    "          labelspacing=0.1)\n",
    "\n",
    "kgp_plot = plotdf_1kgp.plot(stacked='True', color=sns.color_palette('Dark2'),\n",
    "            kind='barh',ax=ax2,\n",
    "                 title='Whole Genome\\nVariants from the\\n1000 Genomes Project')\n",
    "ax2.legend(handletextpad=0.1, borderpad=0.2, frameon=False,\n",
    "          labelspacing=0.1)\n",
    "\n",
    "fig.text(0.5, 0.00, '% Variants', ha='center')\n",
    "fig.set_size_inches(4.8,2.8)\n",
    "plt.savefig('exac_1kgp_variant_categories.pdf', dpi=300, bbox_inches='tight')"
   ]
  },
  {
   "cell_type": "markdown",
   "metadata": {},
   "source": [
    "# Evaluate likelihood that a variant impacts a PAM site"
   ]
  },
  {
   "cell_type": "code",
   "execution_count": 19,
   "metadata": {},
   "outputs": [
    {
     "data": {
      "text/plain": [
       "97.937331141855893"
      ]
     },
     "execution_count": 19,
     "metadata": {},
     "output_type": "execute_result"
    }
   ],
   "source": [
    "plotdf_1kgp.sum(axis=1).max()"
   ]
  },
  {
   "cell_type": "code",
   "execution_count": 20,
   "metadata": {},
   "outputs": [
    {
     "data": {
      "text/plain": [
       "98.869456811541681"
      ]
     },
     "execution_count": 20,
     "metadata": {},
     "output_type": "execute_result"
    }
   ],
   "source": [
    "plotdf_exac.sum(axis=1).max()"
   ]
  },
  {
   "cell_type": "markdown",
   "metadata": {},
   "source": [
    "# Correlation of likelihood of variant to impact PAM site with PAM frequency in reference genome"
   ]
  },
  {
   "cell_type": "code",
   "execution_count": 53,
   "metadata": {
    "collapsed": true
   },
   "outputs": [],
   "source": [
    "cas_dict = np.load('/pollard/data/projects/AlleleAnalyzer_data/cas_abbrev_dict.npy').item()\n",
    "\n",
    "del cas_dict['StCas9']\n",
    "cas_dict['StCas9'] = 'StCas9'"
   ]
  },
  {
   "cell_type": "code",
   "execution_count": 55,
   "metadata": {},
   "outputs": [
    {
     "data": {
      "text/plain": [
       "{'SaCas9': 81995513,\n",
       " 'SaCas9_KKH': 377660720,\n",
       " 'SpCas9': 298215692,\n",
       " 'SpCas9_EQR': 96335412,\n",
       " 'SpCas9_VQR': 610826829,\n",
       " 'SpCas9_VQR_1': 0,\n",
       " 'SpCas9_VQR_2': 0,\n",
       " 'SpCas9_VRER': 13621250,\n",
       " 'StCas9': 44842077,\n",
       " 'StCas9_2': 73084178,\n",
       " 'cjCas9': 115415889,\n",
       " 'cpf1': 219915585,\n",
       " 'nmCas9': 23337243}"
      ]
     },
     "execution_count": 55,
     "metadata": {},
     "output_type": "execute_result"
    }
   ],
   "source": [
    "pam_presence_dict"
   ]
  },
  {
   "cell_type": "code",
   "execution_count": 5,
   "metadata": {},
   "outputs": [
    {
     "data": {
      "text/html": [
       "<div>\n",
       "<style scoped>\n",
       "    .dataframe tbody tr th:only-of-type {\n",
       "        vertical-align: middle;\n",
       "    }\n",
       "\n",
       "    .dataframe tbody tr th {\n",
       "        vertical-align: top;\n",
       "    }\n",
       "\n",
       "    .dataframe thead th {\n",
       "        text-align: right;\n",
       "    }\n",
       "</style>\n",
       "<table border=\"1\" class=\"dataframe\">\n",
       "  <thead>\n",
       "    <tr style=\"text-align: right;\">\n",
       "      <th></th>\n",
       "      <th>n_occurrences</th>\n",
       "      <th>Cas</th>\n",
       "      <th>PAM_size</th>\n",
       "    </tr>\n",
       "  </thead>\n",
       "  <tbody>\n",
       "    <tr>\n",
       "      <th>SpCas9_VQR</th>\n",
       "      <td>610826829</td>\n",
       "      <td>SpCas9-V3</td>\n",
       "      <td>2</td>\n",
       "    </tr>\n",
       "    <tr>\n",
       "      <th>SaCas9_KKH</th>\n",
       "      <td>377660720</td>\n",
       "      <td>SaCas9-V1</td>\n",
       "      <td>3</td>\n",
       "    </tr>\n",
       "    <tr>\n",
       "      <th>SpCas9</th>\n",
       "      <td>298215692</td>\n",
       "      <td>SpCas9</td>\n",
       "      <td>2</td>\n",
       "    </tr>\n",
       "    <tr>\n",
       "      <th>cpf1</th>\n",
       "      <td>219915585</td>\n",
       "      <td>cpf1</td>\n",
       "      <td>3</td>\n",
       "    </tr>\n",
       "    <tr>\n",
       "      <th>cjCas9</th>\n",
       "      <td>115415889</td>\n",
       "      <td>cjCas9</td>\n",
       "      <td>3</td>\n",
       "    </tr>\n",
       "    <tr>\n",
       "      <th>SpCas9_EQR</th>\n",
       "      <td>96335412</td>\n",
       "      <td>SpCas9-V2</td>\n",
       "      <td>3</td>\n",
       "    </tr>\n",
       "    <tr>\n",
       "      <th>SaCas9</th>\n",
       "      <td>81995513</td>\n",
       "      <td>SaCas9</td>\n",
       "      <td>4</td>\n",
       "    </tr>\n",
       "    <tr>\n",
       "      <th>StCas9_2</th>\n",
       "      <td>73084178</td>\n",
       "      <td>StCas9-V2</td>\n",
       "      <td>4</td>\n",
       "    </tr>\n",
       "    <tr>\n",
       "      <th>StCas9</th>\n",
       "      <td>44842077</td>\n",
       "      <td>StCas9</td>\n",
       "      <td>4</td>\n",
       "    </tr>\n",
       "    <tr>\n",
       "      <th>nmCas9</th>\n",
       "      <td>23337243</td>\n",
       "      <td>nmCas9</td>\n",
       "      <td>4</td>\n",
       "    </tr>\n",
       "    <tr>\n",
       "      <th>SpCas9_VRER</th>\n",
       "      <td>13621250</td>\n",
       "      <td>SpCas9-V1</td>\n",
       "      <td>3</td>\n",
       "    </tr>\n",
       "    <tr>\n",
       "      <th>SpCas9_VQR_1</th>\n",
       "      <td>0</td>\n",
       "      <td>SpCas9-V3</td>\n",
       "      <td>2</td>\n",
       "    </tr>\n",
       "    <tr>\n",
       "      <th>SpCas9_VQR_2</th>\n",
       "      <td>0</td>\n",
       "      <td>SpCas9-V3</td>\n",
       "      <td>2</td>\n",
       "    </tr>\n",
       "  </tbody>\n",
       "</table>\n",
       "</div>"
      ],
      "text/plain": [
       "              n_occurrences        Cas  PAM_size\n",
       "SpCas9_VQR        610826829  SpCas9-V3         2\n",
       "SaCas9_KKH        377660720  SaCas9-V1         3\n",
       "SpCas9            298215692     SpCas9         2\n",
       "cpf1              219915585       cpf1         3\n",
       "cjCas9            115415889     cjCas9         3\n",
       "SpCas9_EQR         96335412  SpCas9-V2         3\n",
       "SaCas9             81995513     SaCas9         4\n",
       "StCas9_2           73084178  StCas9-V2         4\n",
       "StCas9             44842077     StCas9         4\n",
       "nmCas9             23337243     nmCas9         4\n",
       "SpCas9_VRER        13621250  SpCas9-V1         3\n",
       "SpCas9_VQR_1              0  SpCas9-V3         2\n",
       "SpCas9_VQR_2              0  SpCas9-V3         2"
      ]
     },
     "execution_count": 5,
     "metadata": {},
     "output_type": "execute_result"
    }
   ],
   "source": [
    "pam_sizes = {'SpCas9':2, 'SpCas9-V1':3, 'SpCas9-V2':3, 'SpCas9-V3':2, \n",
    "             'SaCas9':4, 'SaCas9-V1':3, 'nmCas9':4, 'cpf1':3, \n",
    "             'StCas9':4, 'StCas9-V2':4, 'cjCas9':3}\n",
    "\n",
    "# cas_dict = np.load('/pollard/data/projects/AlleleAnalyzer_data/cas_abbrev_dict.npy').item()\n",
    "\n",
    "pam_presence_dict = np.load('/pollard/data/projects/AlleleAnalyzer_data/pam_sites_hg19/n_pams_per_cas.npy').item()\n",
    "pam_presence_df = pd.DataFrame.from_dict(pam_presence_dict, orient='index')\n",
    "pam_presence_df.columns = ['n_occurrences']\n",
    "pam_presence_df['Cas'] = pam_presence_df.index\n",
    "cas_list = list(pam_sizes.keys())\n",
    "pam_presence_df = pam_presence_df.replace(cas_dict)\n",
    "pam_presence_df['in_list'] = pam_presence_df['Cas'].isin(cas_list)\n",
    "pam_presence_df = pam_presence_df.query('in_list')[['n_occurrences','Cas']]\n",
    "pam_presence_df['PAM_size'] = pam_presence_df.apply(lambda row: pam_sizes[row['Cas']], axis=1)\n",
    "\n",
    "pam_presence_df.sort_values(by='n_occurrences', ascending=False)"
   ]
  },
  {
   "cell_type": "code",
   "execution_count": 11,
   "metadata": {},
   "outputs": [],
   "source": [
    "plotdf_exac['dset'] = 'exac'\n",
    "plotdf_1kgp['dset'] = 'kgp'\n",
    "plotdf_overall = pd.concat([plotdf_exac, plotdf_1kgp])\n",
    "plotdf_overall['total'] = plotdf_overall.sum(axis=1)"
   ]
  },
  {
   "cell_type": "code",
   "execution_count": 12,
   "metadata": {},
   "outputs": [
    {
     "data": {
      "text/plain": [
       "13.17283806219285"
      ]
     },
     "execution_count": 12,
     "metadata": {},
     "output_type": "execute_result"
    }
   ],
   "source": [
    "plotdf_overall['total'].min()"
   ]
  },
  {
   "cell_type": "code",
   "execution_count": 13,
   "metadata": {},
   "outputs": [],
   "source": [
    "plotdf_1kgp['total'] = plotdf_1kgp.sum(axis=1)\n",
    "plotdf_1kgp = plotdf_1kgp.merge(pam_presence_df, on='Cas')"
   ]
  },
  {
   "cell_type": "code",
   "execution_count": 14,
   "metadata": {},
   "outputs": [
    {
     "data": {
      "text/plain": [
       "18.461986055483266"
      ]
     },
     "execution_count": 14,
     "metadata": {},
     "output_type": "execute_result"
    }
   ],
   "source": [
    "plotdf_1kgp['total'].min()"
   ]
  },
  {
   "cell_type": "code",
   "execution_count": 15,
   "metadata": {},
   "outputs": [
    {
     "data": {
      "text/plain": [
       "97.937331141855893"
      ]
     },
     "execution_count": 15,
     "metadata": {},
     "output_type": "execute_result"
    }
   ],
   "source": [
    "plotdf_1kgp['total'].max()"
   ]
  },
  {
   "cell_type": "code",
   "execution_count": 68,
   "metadata": {},
   "outputs": [
    {
     "data": {
      "text/plain": [
       "(0.89263786347248619, 0.00021782655352897354)"
      ]
     },
     "execution_count": 68,
     "metadata": {},
     "output_type": "execute_result"
    }
   ],
   "source": [
    "stats.pearsonr(plotdf_1kgp['total'].tolist(), plotdf_1kgp['n_occurrences'].tolist())"
   ]
  },
  {
   "cell_type": "code",
   "execution_count": 74,
   "metadata": {},
   "outputs": [
    {
     "data": {
      "text/plain": [
       "(-0.7115439747097041, 0.014063135942654544)"
      ]
     },
     "execution_count": 74,
     "metadata": {},
     "output_type": "execute_result"
    }
   ],
   "source": [
    "stats.pearsonr(plotdf_1kgp['total'].tolist(), plotdf_1kgp['PAM_size'].tolist())"
   ]
  },
  {
   "cell_type": "code",
   "execution_count": 21,
   "metadata": {
    "collapsed": true
   },
   "outputs": [],
   "source": [
    "plotdf_exac['total'] = plotdf_exac.sum(axis=1)\n",
    "plotdf_exac = plotdf_exac.merge(pam_presence_df, on='Cas')"
   ]
  },
  {
   "cell_type": "code",
   "execution_count": 22,
   "metadata": {},
   "outputs": [
    {
     "data": {
      "text/plain": [
       "13.17283806219285"
      ]
     },
     "execution_count": 22,
     "metadata": {},
     "output_type": "execute_result"
    }
   ],
   "source": [
    "plotdf_exac['total'].min()"
   ]
  },
  {
   "cell_type": "code",
   "execution_count": 23,
   "metadata": {},
   "outputs": [
    {
     "data": {
      "text/plain": [
       "98.869456811541681"
      ]
     },
     "execution_count": 23,
     "metadata": {},
     "output_type": "execute_result"
    }
   ],
   "source": [
    "plotdf_exac['total'].max()"
   ]
  },
  {
   "cell_type": "code",
   "execution_count": 71,
   "metadata": {},
   "outputs": [
    {
     "data": {
      "text/plain": [
       "(0.84481184670874587, 0.0010638452040013535)"
      ]
     },
     "execution_count": 71,
     "metadata": {},
     "output_type": "execute_result"
    }
   ],
   "source": [
    "stats.pearsonr(plotdf_exac['total'].tolist(), plotdf_exac['n_occurrences'].tolist())"
   ]
  },
  {
   "cell_type": "code",
   "execution_count": 73,
   "metadata": {},
   "outputs": [
    {
     "data": {
      "text/plain": [
       "(-0.73908080652945396, 0.009355197023261385)"
      ]
     },
     "execution_count": 73,
     "metadata": {},
     "output_type": "execute_result"
    }
   ],
   "source": [
    "stats.pearsonr(plotdf_exac['total'].tolist(), plotdf_exac['PAM_size'].tolist())"
   ]
  },
  {
   "cell_type": "code",
   "execution_count": null,
   "metadata": {
    "collapsed": true
   },
   "outputs": [],
   "source": []
  }
 ],
 "metadata": {
  "kernelspec": {
   "display_name": "Python [conda env:anaconda3]",
   "language": "python",
   "name": "conda-env-anaconda3-py"
  },
  "language_info": {
   "codemirror_mode": {
    "name": "ipython",
    "version": 3
   },
   "file_extension": ".py",
   "mimetype": "text/x-python",
   "name": "python",
   "nbconvert_exporter": "python",
   "pygments_lexer": "ipython3",
   "version": "3.6.2"
  },
  "toc": {
   "nav_menu": {},
   "number_sections": true,
   "sideBar": true,
   "skip_h1_title": false,
   "title_cell": "Table of Contents",
   "title_sidebar": "Contents",
   "toc_cell": false,
   "toc_position": {},
   "toc_section_display": true,
   "toc_window_display": false
  }
 },
 "nbformat": 4,
 "nbformat_minor": 2
}
